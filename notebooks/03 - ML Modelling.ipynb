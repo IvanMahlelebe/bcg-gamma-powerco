{
  "cells": [
    {
      "cell_type": "markdown",
      "metadata": {
        "id": "c4noH7q4USKQ"
      },
      "source": [
        "# 1. Global Variables"
      ]
    },
    {
      "cell_type": "markdown",
      "source": [
        "## Packages"
      ],
      "metadata": {
        "id": "EvdadZY0QbS8"
      }
    },
    {
      "cell_type": "code",
      "execution_count": 83,
      "metadata": {
        "id": "NwE6osQpUSKS"
      },
      "outputs": [],
      "source": [
        "# DATA MANIPULATION\n",
        "import os\n",
        "import copy\n",
        "import pandas as pd\n",
        "import numpy as np\n",
        "from datetime import datetime\n",
        "import time\n",
        "\n",
        "# DATA VIZ\n",
        "import matplotlib.pyplot as plt\n",
        "import seaborn as sns\n",
        "\n",
        "plt.style.use(\"fivethirtyeight\")\n",
        "plt.rcParams[\"figure.figsize\"] = [8, 5]\n",
        "plt.rcParams[\"figure.dpi\"] = 100\n",
        "plt.rcParams[\"figure.facecolor\"] = \"white\"\n",
        "\n",
        "import plotly.express as px\n",
        "import plotly.graph_objects as go\n",
        "from plotly.subplots import make_subplots\n",
        "\n",
        "# MACHINE LEARNING MODELLING\n",
        "from statsmodels.stats.outliers_influence import variance_inflation_factor\n",
        "from sklearn import metrics\n",
        "from sklearn.model_selection import train_test_split\n",
        "from sklearn.ensemble import RandomForestClassifier\n",
        "from sklearn.metrics import accuracy_score, confusion_matrix, classification_report\n",
        "\n",
        "from imblearn.ensemble import BalancedRandomForestClassifier\n",
        "from imblearn.under_sampling import RandomUnderSampler\n",
        "\n",
        "import warnings\n",
        "warnings.filterwarnings('ignore')\n",
        "sns.set(color_codes=True)"
      ]
    },
    {
      "cell_type": "code",
      "source": [
        "POWERCO_COLOURS = [\"#0072CE\", \"#B4B4B3\", \"#79B8F3\", \"#FDB927\", \"#F7941D\", \"#4CB748\", \"#2E3192\"]\n",
        "DIVERGENT_COLOUR_GRADIENT = [\"#e2f1fc\", \"#b9dcfa\", \"#8cc7f7\", \"#5eb1f3\", \"#39a0f1\", \"#0691ef\"]\n",
        "sns.set_palette(POWERCO_COLOURS)"
      ],
      "metadata": {
        "id": "_GbdGHEwY9ZP"
      },
      "execution_count": 55,
      "outputs": []
    },
    {
      "cell_type": "markdown",
      "source": [
        "## Helpers"
      ],
      "metadata": {
        "id": "-VKykiUcSD-r"
      }
    },
    {
      "cell_type": "code",
      "source": [
        "def calculate_and_view_vif(data, columns):\n",
        "    vif_data = pd.DataFrame()\n",
        "    vif_data[\"Variable\"] = columns\n",
        "    vif_data[\"VIF\"] = [variance_inflation_factor(data[columns].values, i) for i in range(len(columns))]\n",
        "\n",
        "    fig = px.bar(\n",
        "      vif_data.sort_values(by='VIF', ascending=False),\n",
        "      x='Variable',\n",
        "      y='VIF',\n",
        "      title=\"Variables' Variance Inflation Factor\"\n",
        "    )\n",
        "\n",
        "    fig.update_layout(\n",
        "        xaxis_title='Variables',\n",
        "        yaxis_title='Variance Inflation Factor'\n",
        "    )\n",
        "\n",
        "    fig.show()\n"
      ],
      "metadata": {
        "id": "RcsLO0IPSCvb"
      },
      "execution_count": 56,
      "outputs": []
    },
    {
      "cell_type": "markdown",
      "source": [
        "### Model Helpers"
      ],
      "metadata": {
        "id": "kz2sX9wOhIMi"
      }
    },
    {
      "cell_type": "code",
      "source": [
        "def basic_rf_eval(model, test_data, true_y):\n",
        "  pred_y = model.predict(test_data)\n",
        "\n",
        "  accuracy = accuracy_score(true_y, pred_y)\n",
        "  confusion_matrix_ = confusion_matrix(true_y, pred_y)\n",
        "  classification_report_ = classification_report(true_y, pred_y)\n",
        "  precision = metrics.precision_score(true_y, pred_y)\n",
        "\n",
        "  print(f'Accuracy = {accuracy.round(2)};\\n\\\n",
        "    \\nPrecision = {precision};\\n\\\n",
        "    \\nConfusion Matrix: \\n{confusion_matrix_};\\n\\\n",
        "    \\nClassification Report:\\n{classification_report_}'\n",
        "  )"
      ],
      "metadata": {
        "id": "V0EOpvO1hLYs"
      },
      "execution_count": 72,
      "outputs": []
    },
    {
      "cell_type": "code",
      "source": [
        "def create_feature_importance_df(rf_model, feature_list):\n",
        "  feature_list = list(feature_list)\n",
        "  importances = list(rf_model.feature_importances_)\n",
        "\n",
        "  feature_importances = [\n",
        "      (feature, round(importances, 2)) for feature, importances in zip(feature_list, importances)\n",
        "  ]\n",
        "\n",
        "  importance_df = pd.DataFrame(feature_importances, columns=['Variable', 'Importance'])\n",
        "\n",
        "  return importance_df"
      ],
      "metadata": {
        "id": "vOMbSHQWhT_N"
      },
      "execution_count": 58,
      "outputs": []
    },
    {
      "cell_type": "code",
      "source": [
        "def view_feature_importances(importance_df):\n",
        "  fig = px.bar(\n",
        "      importance_df,\n",
        "      x='Variable',\n",
        "      y='Importance',\n",
        "      labels={'Variable': 'Variable', 'Importance': 'Importance'},\n",
        "      title='Variable Importances',\n",
        "  )\n",
        "\n",
        "  fig.update_layout(\n",
        "      xaxis={'categoryorder': 'total descending'},\n",
        "      yaxis_title='Importances',\n",
        "      xaxis_title='Variables',\n",
        "      title={'x': 0.5}\n",
        "  )\n",
        "\n",
        "  fig.show()"
      ],
      "metadata": {
        "id": "kI-kqprMhdne"
      },
      "execution_count": 59,
      "outputs": []
    },
    {
      "cell_type": "markdown",
      "metadata": {
        "id": "sewogUFaUSKU"
      },
      "source": [
        "# 2. Load data"
      ]
    },
    {
      "cell_type": "code",
      "execution_count": 60,
      "metadata": {
        "id": "oaIJfXJjUSKU",
        "outputId": "9d3a2390-6c79-4c5e-ccc1-1b22875ce71d",
        "colab": {
          "base_uri": "https://localhost:8080/",
          "height": 256
        }
      },
      "outputs": [
        {
          "output_type": "execute_result",
          "data": {
            "text/plain": [
              "                                 id  cons_12m  cons_gas_12m  cons_last_month  \\\n",
              "0  24011ae4ebbe3035111d65fa7c15bc57  0.000000      4.739944         0.000000   \n",
              "1  d29c2c54acc38ff3c0614d0a653813dd  3.668479      0.000000         0.000000   \n",
              "2  764c75f661154dac3a6c254cd082ea7d  2.736397      0.000000         0.000000   \n",
              "3  bba03439a292a1e166f80264c16191cb  3.200029      0.000000         0.000000   \n",
              "4  149d57cf92fc41cf94415803a877cb4b  3.646011      0.000000         2.721811   \n",
              "\n",
              "   forecast_cons_12m  forecast_discount_energy  forecast_meter_rent_12m  \\\n",
              "0           0.000000                       0.0                 0.444045   \n",
              "1           2.280920                       0.0                 1.237292   \n",
              "2           1.689841                       0.0                 1.599009   \n",
              "3           2.382089                       0.0                 1.318689   \n",
              "4           2.650065                       0.0                 2.122969   \n",
              "\n",
              "   forecast_price_energy_off_peak  forecast_price_energy_peak  \\\n",
              "0                        0.114481                    0.098142   \n",
              "1                        0.145711                    0.000000   \n",
              "2                        0.165794                    0.087899   \n",
              "3                        0.146694                    0.000000   \n",
              "4                        0.116900                    0.100015   \n",
              "\n",
              "   forecast_price_pow_off_peak  ...  months_modif_prod  months_renewal  \\\n",
              "0                    40.606701  ...                  2               6   \n",
              "1                    44.311378  ...                 76               4   \n",
              "2                    44.311378  ...                 68               8   \n",
              "3                    44.311378  ...                 69               9   \n",
              "4                    40.606701  ...                 71               9   \n",
              "\n",
              "   channel_MISSING  channel_ewpakwlliwisiwduibdlfmalxowmwpci  \\\n",
              "0                0                                         0   \n",
              "1                1                                         0   \n",
              "2                0                                         0   \n",
              "3                0                                         0   \n",
              "4                1                                         0   \n",
              "\n",
              "   channel_foosdfpfkusacimwkcsosbicdxkicaua  \\\n",
              "0                                         1   \n",
              "1                                         0   \n",
              "2                                         1   \n",
              "3                                         0   \n",
              "4                                         0   \n",
              "\n",
              "   channel_lmkebamcaaclubfxadlmueccxoimlema  \\\n",
              "0                                         0   \n",
              "1                                         0   \n",
              "2                                         0   \n",
              "3                                         1   \n",
              "4                                         0   \n",
              "\n",
              "   channel_usilxuppasemubllopkaafesmlibmsdf  \\\n",
              "0                                         0   \n",
              "1                                         0   \n",
              "2                                         0   \n",
              "3                                         0   \n",
              "4                                         0   \n",
              "\n",
              "   origin_up_kamkkxfxxuwbdslkwifmmcsiusiuosws  \\\n",
              "0                                           0   \n",
              "1                                           1   \n",
              "2                                           1   \n",
              "3                                           1   \n",
              "4                                           1   \n",
              "\n",
              "   origin_up_ldkssxwpmemidmecebumciepifcamkci  \\\n",
              "0                                           0   \n",
              "1                                           0   \n",
              "2                                           0   \n",
              "3                                           0   \n",
              "4                                           0   \n",
              "\n",
              "   origin_up_lxidpiddsbxsbosboudacockeimpuepw  \n",
              "0                                           1  \n",
              "1                                           0  \n",
              "2                                           0  \n",
              "3                                           0  \n",
              "4                                           0  \n",
              "\n",
              "[5 rows x 63 columns]"
            ],
            "text/html": [
              "\n",
              "  <div id=\"df-07b32550-332e-4e51-967d-b3dcf694fca9\" class=\"colab-df-container\">\n",
              "    <div>\n",
              "<style scoped>\n",
              "    .dataframe tbody tr th:only-of-type {\n",
              "        vertical-align: middle;\n",
              "    }\n",
              "\n",
              "    .dataframe tbody tr th {\n",
              "        vertical-align: top;\n",
              "    }\n",
              "\n",
              "    .dataframe thead th {\n",
              "        text-align: right;\n",
              "    }\n",
              "</style>\n",
              "<table border=\"1\" class=\"dataframe\">\n",
              "  <thead>\n",
              "    <tr style=\"text-align: right;\">\n",
              "      <th></th>\n",
              "      <th>id</th>\n",
              "      <th>cons_12m</th>\n",
              "      <th>cons_gas_12m</th>\n",
              "      <th>cons_last_month</th>\n",
              "      <th>forecast_cons_12m</th>\n",
              "      <th>forecast_discount_energy</th>\n",
              "      <th>forecast_meter_rent_12m</th>\n",
              "      <th>forecast_price_energy_off_peak</th>\n",
              "      <th>forecast_price_energy_peak</th>\n",
              "      <th>forecast_price_pow_off_peak</th>\n",
              "      <th>...</th>\n",
              "      <th>months_modif_prod</th>\n",
              "      <th>months_renewal</th>\n",
              "      <th>channel_MISSING</th>\n",
              "      <th>channel_ewpakwlliwisiwduibdlfmalxowmwpci</th>\n",
              "      <th>channel_foosdfpfkusacimwkcsosbicdxkicaua</th>\n",
              "      <th>channel_lmkebamcaaclubfxadlmueccxoimlema</th>\n",
              "      <th>channel_usilxuppasemubllopkaafesmlibmsdf</th>\n",
              "      <th>origin_up_kamkkxfxxuwbdslkwifmmcsiusiuosws</th>\n",
              "      <th>origin_up_ldkssxwpmemidmecebumciepifcamkci</th>\n",
              "      <th>origin_up_lxidpiddsbxsbosboudacockeimpuepw</th>\n",
              "    </tr>\n",
              "  </thead>\n",
              "  <tbody>\n",
              "    <tr>\n",
              "      <th>0</th>\n",
              "      <td>24011ae4ebbe3035111d65fa7c15bc57</td>\n",
              "      <td>0.000000</td>\n",
              "      <td>4.739944</td>\n",
              "      <td>0.000000</td>\n",
              "      <td>0.000000</td>\n",
              "      <td>0.0</td>\n",
              "      <td>0.444045</td>\n",
              "      <td>0.114481</td>\n",
              "      <td>0.098142</td>\n",
              "      <td>40.606701</td>\n",
              "      <td>...</td>\n",
              "      <td>2</td>\n",
              "      <td>6</td>\n",
              "      <td>0</td>\n",
              "      <td>0</td>\n",
              "      <td>1</td>\n",
              "      <td>0</td>\n",
              "      <td>0</td>\n",
              "      <td>0</td>\n",
              "      <td>0</td>\n",
              "      <td>1</td>\n",
              "    </tr>\n",
              "    <tr>\n",
              "      <th>1</th>\n",
              "      <td>d29c2c54acc38ff3c0614d0a653813dd</td>\n",
              "      <td>3.668479</td>\n",
              "      <td>0.000000</td>\n",
              "      <td>0.000000</td>\n",
              "      <td>2.280920</td>\n",
              "      <td>0.0</td>\n",
              "      <td>1.237292</td>\n",
              "      <td>0.145711</td>\n",
              "      <td>0.000000</td>\n",
              "      <td>44.311378</td>\n",
              "      <td>...</td>\n",
              "      <td>76</td>\n",
              "      <td>4</td>\n",
              "      <td>1</td>\n",
              "      <td>0</td>\n",
              "      <td>0</td>\n",
              "      <td>0</td>\n",
              "      <td>0</td>\n",
              "      <td>1</td>\n",
              "      <td>0</td>\n",
              "      <td>0</td>\n",
              "    </tr>\n",
              "    <tr>\n",
              "      <th>2</th>\n",
              "      <td>764c75f661154dac3a6c254cd082ea7d</td>\n",
              "      <td>2.736397</td>\n",
              "      <td>0.000000</td>\n",
              "      <td>0.000000</td>\n",
              "      <td>1.689841</td>\n",
              "      <td>0.0</td>\n",
              "      <td>1.599009</td>\n",
              "      <td>0.165794</td>\n",
              "      <td>0.087899</td>\n",
              "      <td>44.311378</td>\n",
              "      <td>...</td>\n",
              "      <td>68</td>\n",
              "      <td>8</td>\n",
              "      <td>0</td>\n",
              "      <td>0</td>\n",
              "      <td>1</td>\n",
              "      <td>0</td>\n",
              "      <td>0</td>\n",
              "      <td>1</td>\n",
              "      <td>0</td>\n",
              "      <td>0</td>\n",
              "    </tr>\n",
              "    <tr>\n",
              "      <th>3</th>\n",
              "      <td>bba03439a292a1e166f80264c16191cb</td>\n",
              "      <td>3.200029</td>\n",
              "      <td>0.000000</td>\n",
              "      <td>0.000000</td>\n",
              "      <td>2.382089</td>\n",
              "      <td>0.0</td>\n",
              "      <td>1.318689</td>\n",
              "      <td>0.146694</td>\n",
              "      <td>0.000000</td>\n",
              "      <td>44.311378</td>\n",
              "      <td>...</td>\n",
              "      <td>69</td>\n",
              "      <td>9</td>\n",
              "      <td>0</td>\n",
              "      <td>0</td>\n",
              "      <td>0</td>\n",
              "      <td>1</td>\n",
              "      <td>0</td>\n",
              "      <td>1</td>\n",
              "      <td>0</td>\n",
              "      <td>0</td>\n",
              "    </tr>\n",
              "    <tr>\n",
              "      <th>4</th>\n",
              "      <td>149d57cf92fc41cf94415803a877cb4b</td>\n",
              "      <td>3.646011</td>\n",
              "      <td>0.000000</td>\n",
              "      <td>2.721811</td>\n",
              "      <td>2.650065</td>\n",
              "      <td>0.0</td>\n",
              "      <td>2.122969</td>\n",
              "      <td>0.116900</td>\n",
              "      <td>0.100015</td>\n",
              "      <td>40.606701</td>\n",
              "      <td>...</td>\n",
              "      <td>71</td>\n",
              "      <td>9</td>\n",
              "      <td>1</td>\n",
              "      <td>0</td>\n",
              "      <td>0</td>\n",
              "      <td>0</td>\n",
              "      <td>0</td>\n",
              "      <td>1</td>\n",
              "      <td>0</td>\n",
              "      <td>0</td>\n",
              "    </tr>\n",
              "  </tbody>\n",
              "</table>\n",
              "<p>5 rows × 63 columns</p>\n",
              "</div>\n",
              "    <div class=\"colab-df-buttons\">\n",
              "\n",
              "  <div class=\"colab-df-container\">\n",
              "    <button class=\"colab-df-convert\" onclick=\"convertToInteractive('df-07b32550-332e-4e51-967d-b3dcf694fca9')\"\n",
              "            title=\"Convert this dataframe to an interactive table.\"\n",
              "            style=\"display:none;\">\n",
              "\n",
              "  <svg xmlns=\"http://www.w3.org/2000/svg\" height=\"24px\" viewBox=\"0 -960 960 960\">\n",
              "    <path d=\"M120-120v-720h720v720H120Zm60-500h600v-160H180v160Zm220 220h160v-160H400v160Zm0 220h160v-160H400v160ZM180-400h160v-160H180v160Zm440 0h160v-160H620v160ZM180-180h160v-160H180v160Zm440 0h160v-160H620v160Z\"/>\n",
              "  </svg>\n",
              "    </button>\n",
              "\n",
              "  <style>\n",
              "    .colab-df-container {\n",
              "      display:flex;\n",
              "      gap: 12px;\n",
              "    }\n",
              "\n",
              "    .colab-df-convert {\n",
              "      background-color: #E8F0FE;\n",
              "      border: none;\n",
              "      border-radius: 50%;\n",
              "      cursor: pointer;\n",
              "      display: none;\n",
              "      fill: #1967D2;\n",
              "      height: 32px;\n",
              "      padding: 0 0 0 0;\n",
              "      width: 32px;\n",
              "    }\n",
              "\n",
              "    .colab-df-convert:hover {\n",
              "      background-color: #E2EBFA;\n",
              "      box-shadow: 0px 1px 2px rgba(60, 64, 67, 0.3), 0px 1px 3px 1px rgba(60, 64, 67, 0.15);\n",
              "      fill: #174EA6;\n",
              "    }\n",
              "\n",
              "    .colab-df-buttons div {\n",
              "      margin-bottom: 4px;\n",
              "    }\n",
              "\n",
              "    [theme=dark] .colab-df-convert {\n",
              "      background-color: #3B4455;\n",
              "      fill: #D2E3FC;\n",
              "    }\n",
              "\n",
              "    [theme=dark] .colab-df-convert:hover {\n",
              "      background-color: #434B5C;\n",
              "      box-shadow: 0px 1px 3px 1px rgba(0, 0, 0, 0.15);\n",
              "      filter: drop-shadow(0px 1px 2px rgba(0, 0, 0, 0.3));\n",
              "      fill: #FFFFFF;\n",
              "    }\n",
              "  </style>\n",
              "\n",
              "    <script>\n",
              "      const buttonEl =\n",
              "        document.querySelector('#df-07b32550-332e-4e51-967d-b3dcf694fca9 button.colab-df-convert');\n",
              "      buttonEl.style.display =\n",
              "        google.colab.kernel.accessAllowed ? 'block' : 'none';\n",
              "\n",
              "      async function convertToInteractive(key) {\n",
              "        const element = document.querySelector('#df-07b32550-332e-4e51-967d-b3dcf694fca9');\n",
              "        const dataTable =\n",
              "          await google.colab.kernel.invokeFunction('convertToInteractive',\n",
              "                                                    [key], {});\n",
              "        if (!dataTable) return;\n",
              "\n",
              "        const docLinkHtml = 'Like what you see? Visit the ' +\n",
              "          '<a target=\"_blank\" href=https://colab.research.google.com/notebooks/data_table.ipynb>data table notebook</a>'\n",
              "          + ' to learn more about interactive tables.';\n",
              "        element.innerHTML = '';\n",
              "        dataTable['output_type'] = 'display_data';\n",
              "        await google.colab.output.renderOutput(dataTable, element);\n",
              "        const docLink = document.createElement('div');\n",
              "        docLink.innerHTML = docLinkHtml;\n",
              "        element.appendChild(docLink);\n",
              "      }\n",
              "    </script>\n",
              "  </div>\n",
              "\n",
              "\n",
              "<div id=\"df-09f1d8e4-08dc-409d-88e6-4822cfdef215\">\n",
              "  <button class=\"colab-df-quickchart\" onclick=\"quickchart('df-09f1d8e4-08dc-409d-88e6-4822cfdef215')\"\n",
              "            title=\"Suggest charts\"\n",
              "            style=\"display:none;\">\n",
              "\n",
              "<svg xmlns=\"http://www.w3.org/2000/svg\" height=\"24px\"viewBox=\"0 0 24 24\"\n",
              "     width=\"24px\">\n",
              "    <g>\n",
              "        <path d=\"M19 3H5c-1.1 0-2 .9-2 2v14c0 1.1.9 2 2 2h14c1.1 0 2-.9 2-2V5c0-1.1-.9-2-2-2zM9 17H7v-7h2v7zm4 0h-2V7h2v10zm4 0h-2v-4h2v4z\"/>\n",
              "    </g>\n",
              "</svg>\n",
              "  </button>\n",
              "\n",
              "<style>\n",
              "  .colab-df-quickchart {\n",
              "      --bg-color: #E8F0FE;\n",
              "      --fill-color: #1967D2;\n",
              "      --hover-bg-color: #E2EBFA;\n",
              "      --hover-fill-color: #174EA6;\n",
              "      --disabled-fill-color: #AAA;\n",
              "      --disabled-bg-color: #DDD;\n",
              "  }\n",
              "\n",
              "  [theme=dark] .colab-df-quickchart {\n",
              "      --bg-color: #3B4455;\n",
              "      --fill-color: #D2E3FC;\n",
              "      --hover-bg-color: #434B5C;\n",
              "      --hover-fill-color: #FFFFFF;\n",
              "      --disabled-bg-color: #3B4455;\n",
              "      --disabled-fill-color: #666;\n",
              "  }\n",
              "\n",
              "  .colab-df-quickchart {\n",
              "    background-color: var(--bg-color);\n",
              "    border: none;\n",
              "    border-radius: 50%;\n",
              "    cursor: pointer;\n",
              "    display: none;\n",
              "    fill: var(--fill-color);\n",
              "    height: 32px;\n",
              "    padding: 0;\n",
              "    width: 32px;\n",
              "  }\n",
              "\n",
              "  .colab-df-quickchart:hover {\n",
              "    background-color: var(--hover-bg-color);\n",
              "    box-shadow: 0 1px 2px rgba(60, 64, 67, 0.3), 0 1px 3px 1px rgba(60, 64, 67, 0.15);\n",
              "    fill: var(--button-hover-fill-color);\n",
              "  }\n",
              "\n",
              "  .colab-df-quickchart-complete:disabled,\n",
              "  .colab-df-quickchart-complete:disabled:hover {\n",
              "    background-color: var(--disabled-bg-color);\n",
              "    fill: var(--disabled-fill-color);\n",
              "    box-shadow: none;\n",
              "  }\n",
              "\n",
              "  .colab-df-spinner {\n",
              "    border: 2px solid var(--fill-color);\n",
              "    border-color: transparent;\n",
              "    border-bottom-color: var(--fill-color);\n",
              "    animation:\n",
              "      spin 1s steps(1) infinite;\n",
              "  }\n",
              "\n",
              "  @keyframes spin {\n",
              "    0% {\n",
              "      border-color: transparent;\n",
              "      border-bottom-color: var(--fill-color);\n",
              "      border-left-color: var(--fill-color);\n",
              "    }\n",
              "    20% {\n",
              "      border-color: transparent;\n",
              "      border-left-color: var(--fill-color);\n",
              "      border-top-color: var(--fill-color);\n",
              "    }\n",
              "    30% {\n",
              "      border-color: transparent;\n",
              "      border-left-color: var(--fill-color);\n",
              "      border-top-color: var(--fill-color);\n",
              "      border-right-color: var(--fill-color);\n",
              "    }\n",
              "    40% {\n",
              "      border-color: transparent;\n",
              "      border-right-color: var(--fill-color);\n",
              "      border-top-color: var(--fill-color);\n",
              "    }\n",
              "    60% {\n",
              "      border-color: transparent;\n",
              "      border-right-color: var(--fill-color);\n",
              "    }\n",
              "    80% {\n",
              "      border-color: transparent;\n",
              "      border-right-color: var(--fill-color);\n",
              "      border-bottom-color: var(--fill-color);\n",
              "    }\n",
              "    90% {\n",
              "      border-color: transparent;\n",
              "      border-bottom-color: var(--fill-color);\n",
              "    }\n",
              "  }\n",
              "</style>\n",
              "\n",
              "  <script>\n",
              "    async function quickchart(key) {\n",
              "      const quickchartButtonEl =\n",
              "        document.querySelector('#' + key + ' button');\n",
              "      quickchartButtonEl.disabled = true;  // To prevent multiple clicks.\n",
              "      quickchartButtonEl.classList.add('colab-df-spinner');\n",
              "      try {\n",
              "        const charts = await google.colab.kernel.invokeFunction(\n",
              "            'suggestCharts', [key], {});\n",
              "      } catch (error) {\n",
              "        console.error('Error during call to suggestCharts:', error);\n",
              "      }\n",
              "      quickchartButtonEl.classList.remove('colab-df-spinner');\n",
              "      quickchartButtonEl.classList.add('colab-df-quickchart-complete');\n",
              "    }\n",
              "    (() => {\n",
              "      let quickchartButtonEl =\n",
              "        document.querySelector('#df-09f1d8e4-08dc-409d-88e6-4822cfdef215 button');\n",
              "      quickchartButtonEl.style.display =\n",
              "        google.colab.kernel.accessAllowed ? 'block' : 'none';\n",
              "    })();\n",
              "  </script>\n",
              "</div>\n",
              "\n",
              "    </div>\n",
              "  </div>\n"
            ]
          },
          "metadata": {},
          "execution_count": 60
        }
      ],
      "source": [
        "df = pd.read_csv('./data_for_predictions.csv')\n",
        "df.drop(columns=[\"Unnamed: 0\"], inplace=True)\n",
        "df.head()"
      ]
    },
    {
      "cell_type": "markdown",
      "source": [
        "# 3. Feature Selection\n",
        "\n",
        "Our feature engineering has provided us almost 70 variables for this problem of ours and we now have to choose that ones we think will be useful for our model. As we do this, we have to be careful of **`multi-collinearity`**, meaning we won't just throw variables with high correlation.\n",
        "\n",
        "That said, we're going to do feature selection in this manner:\n",
        "- [x] Identify variables that reasonably correlated with churn\n",
        "- [ ] Use the Random Forest algorithm to identify important features\n",
        "- [ ] Use the Variance Inflation Factor to measure variables' multi-collinearity"
      ],
      "metadata": {
        "id": "FZo3r75oL6e8"
      }
    },
    {
      "cell_type": "code",
      "source": [
        "df_corr = df.drop(columns=['id'], inplace=False).corr()"
      ],
      "metadata": {
        "id": "sCMfJ3olZXGf"
      },
      "execution_count": 61,
      "outputs": []
    },
    {
      "cell_type": "code",
      "source": [
        "fig = px.imshow(\n",
        "    df_corr,\n",
        "    labels=dict(x='Features', y='Features', color='Correlation'),\n",
        "    x=df_corr.columns,\n",
        "    y=df_corr.columns,\n",
        "    color_continuous_scale=DIVERGENT_COLOUR_GRADIENT,\n",
        "    title='Correlation Matrix'\n",
        "  )\n",
        "\n",
        "fig.update_layout(\n",
        "    width=1000,\n",
        "    height=1000,\n",
        "    # xaxis=dict(\n",
        "    #       tickmode='array',\n",
        "    #       tickvals=list(range(len(df_corr.columns))),\n",
        "    #       ticktext=df_corr.columns,\n",
        "    #       tickangle=-90\n",
        "    #     ),\n",
        ")\n",
        "\n",
        "fig.show()"
      ],
      "metadata": {
        "colab": {
          "base_uri": "https://localhost:8080/",
          "height": 1000
        },
        "id": "pIDs2lgWSuFW",
        "outputId": "a724dbca-906d-4f7d-a247-2d166facaac6"
      },
      "execution_count": 62,
      "outputs": [
        {
          "output_type": "display_data",
          "data": {
            "text/html": [
              "<html>\n",
              "<head><meta charset=\"utf-8\" /></head>\n",
              "<body>\n",
              "    <div>            <script src=\"https://cdnjs.cloudflare.com/ajax/libs/mathjax/2.7.5/MathJax.js?config=TeX-AMS-MML_SVG\"></script><script type=\"text/javascript\">if (window.MathJax && window.MathJax.Hub && window.MathJax.Hub.Config) {window.MathJax.Hub.Config({SVG: {font: \"STIX-Web\"}});}</script>                <script type=\"text/javascript\">window.PlotlyConfig = {MathJaxConfig: 'local'};</script>\n",
              "        <script charset=\"utf-8\" src=\"https://cdn.plot.ly/plotly-2.24.1.min.js\"></script>                <div id=\"d390786f-070b-455d-956e-e5cad6600804\" class=\"plotly-graph-div\" style=\"height:1000px; width:1000px;\"></div>            <script type=\"text/javascript\">                                    window.PLOTLYENV=window.PLOTLYENV || {};                                    if (document.getElementById(\"d390786f-070b-455d-956e-e5cad6600804\")) {                    Plotly.newPlot(                        \"d390786f-070b-455d-956e-e5cad6600804\",                        [{\"coloraxis\":\"coloraxis\",\"name\":\"0\",\"x\":[\"cons_12m\",\"cons_gas_12m\",\"cons_last_month\",\"forecast_cons_12m\",\"forecast_discount_energy\",\"forecast_meter_rent_12m\",\"forecast_price_energy_off_peak\",\"forecast_price_energy_peak\",\"forecast_price_pow_off_peak\",\"has_gas\",\"imp_cons\",\"margin_gross_pow_ele\",\"margin_net_pow_ele\",\"nb_prod_act\",\"net_margin\",\"pow_max\",\"var_year_price_off_peak_var\",\"var_year_price_peak_var\",\"var_year_price_mid_peak_var\",\"var_year_price_off_peak_fix\",\"var_year_price_peak_fix\",\"var_year_price_mid_peak_fix\",\"var_year_price_off_peak\",\"var_year_price_peak\",\"var_year_price_mid_peak\",\"var_6m_price_off_peak_var\",\"var_6m_price_peak_var\",\"var_6m_price_mid_peak_var\",\"var_6m_price_off_peak_fix\",\"var_6m_price_peak_fix\",\"var_6m_price_mid_peak_fix\",\"var_6m_price_off_peak\",\"var_6m_price_peak\",\"var_6m_price_mid_peak\",\"churn\",\"offpeak_diff_dec_january_energy\",\"offpeak_diff_dec_january_power\",\"off_peak_peak_var_mean_diff\",\"peak_mid_peak_var_mean_diff\",\"off_peak_mid_peak_var_mean_diff\",\"off_peak_peak_fix_mean_diff\",\"peak_mid_peak_fix_mean_diff\",\"off_peak_mid_peak_fix_mean_diff\",\"off_peak_peak_var_max_monthly_diff\",\"peak_mid_peak_var_max_monthly_diff\",\"off_peak_mid_peak_var_max_monthly_diff\",\"off_peak_peak_fix_max_monthly_diff\",\"peak_mid_peak_fix_max_monthly_diff\",\"off_peak_mid_peak_fix_max_monthly_diff\",\"tenure\",\"months_activ\",\"months_to_end\",\"months_modif_prod\",\"months_renewal\",\"channel_MISSING\",\"channel_ewpakwlliwisiwduibdlfmalxowmwpci\",\"channel_foosdfpfkusacimwkcsosbicdxkicaua\",\"channel_lmkebamcaaclubfxadlmueccxoimlema\",\"channel_usilxuppasemubllopkaafesmlibmsdf\",\"origin_up_kamkkxfxxuwbdslkwifmmcsiusiuosws\",\"origin_up_ldkssxwpmemidmecebumciepifcamkci\",\"origin_up_lxidpiddsbxsbosboudacockeimpuepw\"],\"y\":[\"cons_12m\",\"cons_gas_12m\",\"cons_last_month\",\"forecast_cons_12m\",\"forecast_discount_energy\",\"forecast_meter_rent_12m\",\"forecast_price_energy_off_peak\",\"forecast_price_energy_peak\",\"forecast_price_pow_off_peak\",\"has_gas\",\"imp_cons\",\"margin_gross_pow_ele\",\"margin_net_pow_ele\",\"nb_prod_act\",\"net_margin\",\"pow_max\",\"var_year_price_off_peak_var\",\"var_year_price_peak_var\",\"var_year_price_mid_peak_var\",\"var_year_price_off_peak_fix\",\"var_year_price_peak_fix\",\"var_year_price_mid_peak_fix\",\"var_year_price_off_peak\",\"var_year_price_peak\",\"var_year_price_mid_peak\",\"var_6m_price_off_peak_var\",\"var_6m_price_peak_var\",\"var_6m_price_mid_peak_var\",\"var_6m_price_off_peak_fix\",\"var_6m_price_peak_fix\",\"var_6m_price_mid_peak_fix\",\"var_6m_price_off_peak\",\"var_6m_price_peak\",\"var_6m_price_mid_peak\",\"churn\",\"offpeak_diff_dec_january_energy\",\"offpeak_diff_dec_january_power\",\"off_peak_peak_var_mean_diff\",\"peak_mid_peak_var_mean_diff\",\"off_peak_mid_peak_var_mean_diff\",\"off_peak_peak_fix_mean_diff\",\"peak_mid_peak_fix_mean_diff\",\"off_peak_mid_peak_fix_mean_diff\",\"off_peak_peak_var_max_monthly_diff\",\"peak_mid_peak_var_max_monthly_diff\",\"off_peak_mid_peak_var_max_monthly_diff\",\"off_peak_peak_fix_max_monthly_diff\",\"peak_mid_peak_fix_max_monthly_diff\",\"off_peak_mid_peak_fix_max_monthly_diff\",\"tenure\",\"months_activ\",\"months_to_end\",\"months_modif_prod\",\"months_renewal\",\"channel_MISSING\",\"channel_ewpakwlliwisiwduibdlfmalxowmwpci\",\"channel_foosdfpfkusacimwkcsosbicdxkicaua\",\"channel_lmkebamcaaclubfxadlmueccxoimlema\",\"channel_usilxuppasemubllopkaafesmlibmsdf\",\"origin_up_kamkkxfxxuwbdslkwifmmcsiusiuosws\",\"origin_up_ldkssxwpmemidmecebumciepifcamkci\",\"origin_up_lxidpiddsbxsbosboudacockeimpuepw\"],\"z\":[[1.0,0.20963654107206342,0.6234933134664762,0.5571859162758404,-0.02843695025833803,0.2014875226927744,-0.14467772364150358,0.2778313774594396,-0.162694300230671,0.1548014981068626,0.32997747875159655,-0.04450313461062516,-0.0444754252792793,0.10727246424215901,0.3412903739213882,0.17255793326926716,-0.0252064521487154,-0.022745077361466155,0.06769664869134567,0.010464127670635112,0.06579591134381375,0.06372283755962935,0.010463519824000083,0.06579508525674317,0.06372298136971102,0.01585101463587057,-0.01020726885715418,0.04748205894067056,0.023079745367142045,0.045578380197583125,0.045955869547095615,0.023079712604781377,0.04557791994996976,0.04595592558708009,-0.01669292969128491,-0.05968661469151943,-0.07964663205262874,-0.276561958217545,0.2024204244639663,-0.20903135346022772,-0.22760239624052703,0.1495699390935832,-0.23717170974826637,-0.2737366542808128,0.17050874018222115,-0.19532215669150774,-0.21501769300027526,0.1521853374515046,-0.22732185427147303,-0.026941602592802108,-0.003322705077329403,-0.09437653909534793,0.07415546744179066,0.08105937489874955,-0.0845048266641586,-0.06454868207293026,-0.021040069478596136,0.30002945453141877,-0.12587624666292413,0.03219109980345868,-0.026175405228433497,-0.006561390179317673],[0.20963654107206342,1.0,0.17107702151877255,0.10844993896185165,0.0014437945601321505,0.06346206743223638,-0.04191570670476073,0.07568357389372161,-0.030439122418298437,0.9411982637058564,0.09201589049088418,-0.013347891715475119,-0.013361912870103977,0.688465777531661,0.10462075388788838,0.06625391617881482,0.007551682205618455,-0.002424843960732045,0.03388375717247014,0.01044058982533826,0.027326077813337412,0.03065904933891828,0.010440633019572026,0.027325845363073777,0.030659147899339097,0.013852147828195837,0.0016639904544824102,0.041521518710467734,0.016023149016576373,0.040866661580726896,0.040367334156586644,0.016023158173388983,0.04086642434083094,0.04036737935607539,-0.02513440541075697,-0.010175996207791397,-0.016742176430015413,-0.07505673720865318,0.03854945806247524,-0.06571093560029498,-0.06858425055353597,0.053084563026880346,-0.06769417262627302,-0.07444783962990159,0.02544562801291825,-0.06227271835604315,-0.06504508353767023,0.053542888277849365,-0.06412632441501283,0.004944717513582226,0.006175198534114511,0.009399367477888153,0.019232681538016282,-0.005421969151703989,0.03056505698241645,-0.008177007976714177,-0.04645811811771731,0.048663985766963326,-0.014000654631537128,0.00044338743429938536,0.0015820006050728168,-0.002898676508657262],[0.6234933134664762,0.17107702151877255,1.0,0.29272486998872294,-0.015106384879298648,0.32636164417433927,-0.2369347839608859,0.39665706180873983,-0.16261055626828175,0.13260230833750913,0.7737819064881464,0.04044193216318756,0.04038145582975389,0.09624932773793153,0.24279479106213317,0.23414186688816294,-0.016622112872481283,-0.04978365456220373,0.06373137743675579,-0.011236866891697485,0.059282681158020614,0.05670305573294776,-0.011237082138628519,0.05928147532909034,0.05670326182798334,-0.006961973149058402,-0.036194497835868616,0.03220237813249549,-0.012038398548975439,0.026819658994706203,0.02888979429348418,-0.012038366829479999,0.02681889853939924,0.028889880340741195,-0.01146328483725724,-0.07287823456010886,-0.04555645474661664,-0.40760276714547394,0.21419416195743246,-0.35419238621775406,-0.37462354793990466,0.3240738839249935,-0.3536986683800431,-0.4028147972864403,0.17771331017126532,-0.3339781225702052,-0.35601106974773633,0.323664783800384,-0.3382581277721774,-0.005820645768079496,0.018041739727890166,-0.0877892543203996,0.06522311670193069,0.06966841446162463,-0.05807691719495501,-0.06606207003046231,0.010777479006481678,0.2056848668872967,-0.11111479963658374,-0.03180520802018528,-0.023549505719551292,0.049515649000975645],[0.5571859162758404,0.10844993896185165,0.29272486998872294,1.0,0.05605268486648781,0.2221872567462122,0.04793503937762191,0.22018932703986904,0.10143860980726173,0.09594007835913805,0.42294408809729894,-0.1102092182209481,-0.11024560108696894,0.05997473009112967,0.43667160476916367,0.14356100623191778,-0.02625894468431242,-0.003609329707420929,0.039103488303135016,-0.011233421800811442,0.03380116869775954,0.028229814479751033,-0.011233828536214447,0.033800871556810747,0.028230082065556637,-0.0020279383461213,0.0008946568137295896,0.02578429801746825,0.0023344492649615936,0.023350129576639067,0.02140980560877244,0.002334405269336191,0.023349993114080675,0.021409910831993114,0.012169053404417615,-0.05320382954111811,-0.08263384988125128,-0.1447393271255956,0.13745685212211053,-0.09212035807965041,-0.09862096160951345,0.10642588876672111,-0.08317119034339074,-0.14370623735249852,0.12058810478283338,-0.08299521954053628,-0.09455219452187313,0.10820874110224131,-0.08185264222938765,-0.07668851746864855,-0.07168067178663871,-0.09065164337095605,-0.10455137863880982,0.09558262684548981,-0.09993239667573715,-0.006703876400296039,0.05596260408108621,0.08141588630734571,-0.03436876422761852,-0.03151327408447509,-0.02016585886989062,0.04618519770980201],[-0.02843695025833803,0.0014437945601321505,-0.015106384879298648,0.05605268486648781,1.0,-0.007036547641434572,0.3537345138951936,0.05931784867945353,0.04802382369489838,0.005223442194440815,0.029099269141889088,0.24114183054649682,0.24042091461804513,0.10681168193774031,0.07978414432106533,-0.005032235823345455,0.24541054885347616,0.09127420966604581,0.08680198971867112,-0.005143451445679962,0.022119164379141208,0.024463348660253202,-0.005138523287501976,0.02212044533355215,0.024464764347773862,0.1095192717132442,0.02906711278233387,0.02843603666707289,-0.0074414985894349665,-0.00029259546268912637,-0.0013390510976003063,-0.007440203787054444,-0.00029212212270471734,-0.0013384087550955036,0.017025985759605743,0.45979488691814435,0.07972960587629936,0.06740020386431099,0.03610072119234774,0.09776984006038134,0.017105602935109383,-0.012797384225818276,0.017091942031045533,0.09164164072492319,0.045573616165389685,0.1365399444735428,0.024500067707855146,-0.009929737329113812,0.025396852248004205,-0.0990689498298008,-0.07149856764864053,-0.060698343844253946,-0.1810017023318731,0.19438068341890133,-0.03736264373657858,-0.008407500825790571,0.05262863760649944,-0.052703057479776216,0.033448092710323285,-0.05972538845592387,-0.029638254590081205,0.07755880796264487],[0.2014875226927744,0.06346206743223638,0.32636164417433927,0.2221872567462122,-0.007036547641434572,1.0,-0.4297858243487064,0.6519893740219563,-0.10610946040975082,0.05190251205433038,0.3739723338238017,0.13158076005092165,0.13159939304651158,0.025222599385841496,0.20535064506987372,0.42255658209299907,-0.010276466990631483,-0.03904178840913595,0.10492008543397185,0.02290646861705658,0.09584640699531358,0.09025267064072211,0.02290603006509859,0.09584511051643992,0.09025307654329742,0.023875089282018064,-0.036317350867728145,0.07117297373494517,0.025846083994146334,0.06634879794889972,0.06562187577212929,0.025846115916046835,0.06634777992027376,0.06562202861001053,0.038964165660013726,-0.15436259087715165,-0.05725068606258368,-0.6863057806719424,0.18967866305266634,-0.6900898956370265,-0.6991576879956097,0.7056638685493445,-0.6126196676963281,-0.678315338081416,0.15620140576767108,-0.6567563173586978,-0.6687866455827893,0.7036286423173078,-0.5861079836801286,0.036710469023176505,0.0434585900309312,-0.04817259296969991,-0.0059514069687315796,0.04029383631863099,-0.008968413660429258,-0.006480861814316135,0.03596322703147248,0.018299523934420657,-0.062368823875930325,-0.05850230528122481,0.05305715415799888,0.010820752762815928],[-0.14467772364150358,-0.04191570670476073,-0.2369347839608859,0.04793503937762191,0.3537345138951936,-0.4297858243487064,1.0,-0.3301379908534232,0.6303768326015209,-0.032754189102781855,-0.2317186839815563,0.09449785386091443,0.09421622833711114,0.03509337115570817,-0.13510678352235972,-0.38439720708901653,0.19894995758442882,0.09444901473066766,-0.048089391504195216,-0.0020009121157716333,-0.06900069066710257,-0.058733232669639576,-0.001996939138020624,-0.06899871197864975,-0.05873304516171266,0.0336700641527967,0.042027656106353756,-0.048565391451157874,-0.02961653453517548,-0.056839583837802146,-0.05602581105240283,-0.029615887395822164,-0.05683853467507884,-0.05602567807743433,-0.010837142891972469,0.428250632281371,0.20746691157827324,0.6430827354632574,0.18396504513676565,0.8448836989416261,0.7701309185119831,-0.6253893125773363,0.7463377707668046,0.6492611886713663,0.16666017183588186,0.8386137953518499,0.745961291505187,-0.6215267895739649,0.727413126474101,-0.15457917919304426,-0.1663017081796062,-0.01862328423862504,-0.09937701056069262,0.07909134473489984,-0.07602436197845443,0.01895602756708739,-0.006813348053170788,0.011610970861893463,0.09669064105383482,0.12054719888214227,-0.0810677567303477,-0.043862522901736],[0.2778313774594396,0.07568357389372161,0.39665706180873983,0.22018932703986904,0.05931784867945353,0.6519893740219563,-0.3301379908534232,1.0,-0.24201720312997282,0.0647146872667714,0.4121319110306481,0.16548328445625438,0.16556043806069612,0.04414148875495657,0.23494248347464286,0.4115323614000006,0.03519304155932386,-0.06887639063414164,0.13657685105575215,0.03613172346753698,0.12027616440822453,0.11819080745955854,0.03613205292233145,0.12027422417845347,0.11819132062768208,0.05955171339707522,-0.04689411913205083,0.1062926880167309,0.038773898220121436,0.09805192479532067,0.09923289160130752,0.038774212016376944,0.09805053023829355,0.09923309390138613,0.029315137437974117,-0.09541354716474879,-0.0648885298219591,-0.9247532005836204,0.7209787400645796,-0.6747559255591729,-0.7586170962969564,0.6953214413128042,-0.6978478795879096,-0.9149693229104866,0.6061362431232699,-0.6296943878929658,-0.7189825257190616,0.6947435863130934,-0.6621197938475828,0.05838931369825855,0.07903232885174248,-0.05556983336826793,0.04752321046371549,0.0604656849680723,0.018550760424477376,-0.01746993994508497,-0.02051939425030246,0.09243474024504218,-0.08318118182827207,-0.007883243364218322,0.053993138953776866,-0.03813785456222551],[-0.162694300230671,-0.030439122418298437,-0.16261055626828175,0.10143860980726173,0.04802382369489838,-0.10610946040975082,0.6303768326015209,-0.24201720312997282,1.0,-0.02613812011605296,-0.12216144956659701,-0.06186916324084367,-0.0619249643711604,-0.005334886608672812,-0.07262261274104148,-0.0958974279263087,0.03894441591835901,0.042477371547068286,-0.0399444499722565,0.015566900710937364,-0.011066448799835678,-0.04914242062973701,0.015567515123866185,-0.011065700830752251,-0.04914225720365062,-0.02703379604963268,0.024478250037563924,-0.04117785923231495,-0.00869947125828305,-0.033807337856543135,-0.04523096392750715,-0.008699694840843198,-0.03380672225081736,-0.04523089911443688,0.014777990661591045,0.10511356337747894,0.13552161151667363,0.4398080978289366,-0.027327707943072124,0.49387994879514185,0.5392147443193093,-0.06585147022109722,0.6977305612029067,0.43957322584386693,-0.007351996255713792,0.4878071082890654,0.5293418288801298,-0.06502791777357575,0.6836622065017502,-0.08974673984806063,-0.11582217213525939,0.036366213673463176,-0.08313120622617834,-0.023260314715188392,-0.033717916989745966,0.006490579795849598,0.00916154371559347,-0.023254498726315666,0.055977156266503604,0.06431097287674069,-0.005937654974247058,-0.05545934396614689],[0.1548014981068626,0.9411982637058564,0.13260230833750913,0.09594007835913805,0.005223442194440815,0.05190251205433038,-0.032754189102781855,0.0647146872667714,-0.02613812011605296,1.0,0.07742765349646202,-0.016696946521880772,-0.016695817086988526,0.7295461269641366,0.0899650604410917,0.05232924083133827,0.009239962047803736,-0.002259754574912915,0.022633088592309863,0.006601197878068106,0.015583568453615705,0.01901781145867276,0.006601313899765406,0.015583422074183506,0.019017908725434234,0.013380243300505057,0.004366386902817547,0.031896511150116116,0.011817931810788329,0.03133083872112727,0.03116271754274686,0.011817974006646803,0.031330706967293905,0.031162749040671612,-0.02432056614003061,-0.0032891228719222287,-0.013287204037299823,-0.06271395901264644,0.03320120842912685,-0.05436181695920805,-0.05762617060161107,0.04365363941863726,-0.05732531172807663,-0.06260902067072108,0.020024034040955364,-0.0526803505448217,-0.056442422315266486,0.04350363413136764,-0.055973171549503146,0.005458444026109932,0.006724078341101305,0.006812858670165645,0.01105698357996382,-0.0018147254055325332,0.030527562234580252,-0.0022836772127257368,-0.045551467812269375,0.03664087444003043,-0.006425593625179619,-0.011838903970292096,0.008914512263083518,0.0020930335159678507],[0.32997747875159655,0.09201589049088418,0.7737819064881464,0.42294408809729894,0.029099269141889088,0.3739723338238017,-0.2317186839815563,0.4121319110306481,-0.12216144956659701,0.07742765349646202,1.0,0.028932377748339823,0.02887429373370655,0.05238563072392363,0.2871043662032683,0.2639116107320128,-0.02186762709223278,-0.052644389765374215,0.05090652277940862,-0.04079412984007342,0.04422564773538996,0.03860071665366806,-0.0407941468530011,0.0442245038608498,0.038601025215008605,-0.029452499048195357,-0.04691890878705881,0.012228993887537723,-0.04467154359087516,0.007179846119248214,0.007354762799230739,-0.04467146642491886,0.007179038705256106,0.007354871755697156,0.006187509440358214,-0.07153715526803281,-0.04661852809656426,-0.4178264391032624,0.18004190700089184,-0.38474085580129824,-0.4028219896831971,0.3664029389103739,-0.3718766868458078,-0.41312642807042244,0.14808622010262124,-0.36405414421487464,-0.3859296048608555,0.36470366931797504,-0.35845816630014316,-0.0077896179281369505,0.007106062948989005,-0.06425248418660386,-0.02453944206440388,0.06191684863105092,-0.04472064409675422,-0.03235718084649809,0.059291389184890214,0.04322353384620501,-0.05776538672594747,-0.09081027143659812,-0.012999039165437497,0.09391175864337827],[-0.04450313461062516,-0.013347891715475119,0.04044193216318756,-0.1102092182209481,0.24114183054649682,0.13158076005092165,0.09449785386091443,0.16548328445625438,-0.06186916324084367,-0.016696946521880772,0.028932377748339823,1.0,0.9999141087859968,-0.006783802787999206,0.03181403527973351,0.37329775337216414,0.19884202492382744,0.041575478841720984,0.08883846949872187,0.09418232956514175,0.04765294911197746,0.06378603497698858,0.09418531620031918,0.047653265473666655,0.06378665040144609,0.07965529852207277,0.018927236055056595,0.057711783588684375,0.06190399936740543,0.04413448239607926,0.04964565005177928,0.061904327585340084,0.044134504025396884,0.049645849179840364,0.09572515487112968,0.20155106792239244,0.1462452880524584,-0.10316469853961338,0.016831879396844964,-0.11013582597771597,-0.17435294342631444,0.08837872736110457,-0.19401942467102978,-0.09208813718073494,0.02338665509639701,-0.08288426230392523,-0.15487976189924832,0.08916377196358136,-0.1718536464905158,-0.14314385479767486,-0.08505795514484249,-0.25536552781291055,-0.010992083127301459,0.2634963643893892,-0.06517198142428564,0.031381164414165726,0.04880817912856213,-0.020725601411627742,0.012012100577847663,-0.03654539474989607,-0.06284767265283657,0.08293560376059514],[-0.0444754252792793,-0.013361912870103977,0.04038145582975389,-0.11024560108696894,0.24042091461804513,0.13159939304651158,0.09421622833711114,0.16556043806069612,-0.0619249643711604,-0.016695817086988526,0.02887429373370655,0.9999141087859968,1.0,-0.006762987705379597,0.03163921909836371,0.37335075744231405,0.19863491007704276,0.04159133871295946,0.08885117085199083,0.09419099771182254,0.04767514942417454,0.06380875542337153,0.09419398014358968,0.04767546587795614,0.0638093706432654,0.07963590290344667,0.018920865491871705,0.057704443846046075,0.061913108699896885,0.044149993667052516,0.049661492572478746,0.06191343661751575,0.04415001509275368,0.0496616912078587,0.09577159663854501,0.2009696770455772,0.1461352798276436,-0.10332355137099959,0.016914284935961848,-0.11027445061801909,-0.17442506050248227,0.0884343382836892,-0.19409070379328952,-0.09225713058591878,0.02347543168050627,-0.08303618685749112,-0.15494648786706813,0.0892201402621368,-0.17192032544760946,-0.14323777651001,-0.08515387645627542,-0.25529756995752145,-0.01087046210443975,0.2633332046384631,-0.06509954793531703,0.03141539303020991,0.04888429043024196,-0.020997033638075462,0.012054122121663208,-0.03646395087295092,-0.06309599680825065,0.083064388757012],[0.10727246424215901,0.688465777531661,0.09624932773793153,0.05997473009112967,0.10681168193774031,0.025222599385841496,0.03509337115570817,0.04414148875495657,-0.005334886608672812,0.7295461269641366,0.05238563072392363,-0.006783802787999206,-0.006762987705379597,1.0,0.053781006089201555,0.012712227844125195,0.04724518972759497,-1.6239686744740205e-05,0.00901615372522372,0.00011383218856281139,-0.0015074073141711278,-0.0005935049822699967,0.00011476963553517085,-0.0015073968549162993,-0.0005932905114440849,0.026239963750012436,0.00590713495991847,0.0158929486085911,0.0035215421564397512,0.013679704467956334,0.012508066301738667,0.003521804036584863,0.01367971182965238,0.012508145682803468,-0.014930025115360098,0.07317173303779775,0.00488016207636176,-0.02453447039038427,0.03624218861517818,-0.00852123354556803,-0.019621039604517256,0.011587834968465069,-0.02106105056222959,-0.02086843044510231,0.023886260699150084,-0.0025176927026624826,-0.020217169030577204,0.010862866941260192,-0.02129226673085928,0.0007592242392750911,0.0026131863425230685,0.0035312538976890557,-0.009208809388213404,0.027575996721790418,0.03519079382431889,-0.00968907491939906,-0.033181364962821806,0.006741798066827964,0.005623788904318292,-0.007692766843413939,0.004386037697571142,0.003131143950088521],[0.3412903739213882,0.10462075388788838,0.24279479106213317,0.43667160476916367,0.07978414432106533,0.20535064506987372,-0.13510678352235972,0.23494248347464286,-0.07262261274104148,0.0899650604410917,0.2871043662032683,0.03181403527973351,0.03163921909836371,0.053781006089201555,1.0,0.32541718880067644,0.024932150206389173,-0.003126641659471,0.0982250886799321,0.036182278008908324,0.11703163010943013,0.04528763445187445,0.03618240309510164,0.11703074894499607,0.04528885776528517,0.022688549018279353,0.0005942714972298449,0.08864577528577189,0.023453594185099833,0.11711775861588365,0.04276739939722467,0.02345363461871584,0.11711701101462821,0.04276841165408655,0.04113463136582986,-0.00876854847898255,-0.04867031874063446,-0.2395705784338343,0.0927796697196921,-0.2263289402171088,-0.2375962037949477,0.2415922477835316,-0.2073472835908769,-0.23296338242125075,0.08265515639819522,-0.2058677434672263,-0.22156430461262921,0.24725782948672817,-0.19972359397363076,-0.01529933912433503,-0.0029581982381602008,-0.05290432594623835,0.0009869317127024972,0.05116487016469194,-0.03606414528243015,-0.021320030630695378,0.029415929154222517,0.05997200507237419,-0.04716137807985039,-0.07154083208871401,0.013071402212472345,0.052180667594242856],[0.17255793326926716,0.06625391617881482,0.23414186688816294,0.14356100623191778,-0.005032235823345455,0.42255658209299907,-0.38439720708901653,0.4115323614000006,-0.0958974279263087,0.05232924083133827,0.2639116107320128,0.37329775337216414,0.37335075744231405,0.012712227844125195,0.32541718880067644,1.0,0.00820868774515866,-0.039834235325291956,0.079829075108491,0.02749969384489798,0.07783703220857145,0.06643352293800597,0.027499575533880962,0.07783585125978235,0.06643387986214279,0.02276327173121222,-0.0211782526092075,0.06562980780553135,0.02833712716702786,0.06534082668189053,0.05851726317888801,0.02833712392973051,0.06534006071598213,0.058517446169155544,0.030361780847576382,-0.0882000605329666,-0.04918192475600791,-0.47917507314042757,0.08316990745851845,-0.5088191925018818,-0.5004754956533126,0.5562171540536129,-0.4144750295356487,-0.47423874077512135,0.06989593852351612,-0.484694414676905,-0.4757594151111968,0.5538696009971078,-0.3935940558090361,0.04005216458851942,0.05379577590772537,-0.03129298984706708,0.03523783580852323,0.01886240922964238,0.014239234829301508,-0.017375673047150684,0.01913960681013327,0.01082534751001606,-0.05144852731418059,-0.0956578898942222,0.03631643846436549,0.053841282996470036],[-0.0252064521487154,0.007551682205618455,-0.016622112872481283,-0.02625894468431242,0.24541054885347616,-0.010276466990631483,0.19894995758442882,0.03519304155932386,0.03894441591835901,0.009239962047803736,-0.02186762709223278,0.19884202492382744,0.19863491007704276,0.04724518972759497,0.024932150206389173,0.00820868774515866,1.0,0.26847684213488576,0.2453113387958,0.5150491186510797,0.22726924075452504,0.22989302694645092,0.5150637152152205,0.22727185557272783,0.22989356997599691,0.6193432569623081,0.2659682457555001,0.2695551025233549,0.4418775626547842,0.2644348312212375,0.2643124207276328,0.44188047413552256,0.2644374353021434,0.26431266669503645,0.028646056566512926,0.337583415816136,0.11218574344048542,0.04057606155026648,0.027307611707765866,0.06191453847340332,-0.0007007045447442094,-0.005107682881443423,-0.003352060937498243,0.0987020658312941,0.06519509571314736,0.15107143916090196,0.03988126035348239,0.009728582240710479,0.04186723454406491,-0.05880722403055325,-0.04784326712012787,-0.00749919763678965,-0.07040801943908473,0.10441928014491876,-0.017323663124044222,0.03655142518269466,-0.008831265514637364,-0.015856092306057827,0.02931072512440209,-0.01479962899779765,0.005060491065505887,0.0082375149381413],[-0.022745077361466155,-0.002424843960732045,-0.04978365456220373,-0.003609329707420929,0.09127420966604581,-0.03904178840913595,0.09444901473066766,-0.06887639063414164,0.042477371547068286,-0.002259754574912915,-0.052644389765374215,0.041575478841720984,0.04159133871295946,-1.6239686744740205e-05,-0.003126641659471,-0.039834235325291956,0.26847684213488576,1.0,0.5156448245389068,0.298253920740272,0.45112263289353827,0.4757598192720024,0.29825620262845026,0.4511351829143761,0.4757611215213655,0.2956378577097253,0.6470828768353153,0.31253860129017774,0.2783714027384646,0.27913543900235316,0.2839054477801352,0.27837217781830376,0.27914412944645006,0.2839062087224309,0.006273662846109862,0.12381236808756423,0.033440458919767505,0.07199621823030736,-0.03673366162292726,0.06316518958171809,0.06172582407757284,-0.06098166677478357,0.05470660563568762,0.12973666869118283,0.2809089178423711,0.1126352502463875,0.10546576007333346,-0.01941473794074283,0.09958248232170361,-0.041733836649276726,-0.03855271779727341,0.010696594038378415,-0.07449793162231126,0.07271990047238172,-0.011648130762690874,0.019590973114432142,0.005471146517184868,-0.014455114274281429,0.006406069565402927,0.0024553294977762456,0.0092931138522438,-0.010314001630740482],[0.06769664869134567,0.03388375717247014,0.06373137743675579,0.039103488303135016,0.08680198971867112,0.10492008543397185,-0.048089391504195216,0.13657685105575215,-0.0399444499722565,0.022633088592309863,0.05090652277940862,0.08883846949872187,0.08885117085199083,0.00901615372522372,0.0982250886799321,0.079829075108491,0.2453113387958,0.5156448245389068,1.0,0.29668898875964045,0.9485779672755752,0.9614812927201201,0.2966908264361121,0.9485793493609898,0.9614829829502658,0.3017871254911184,0.29214463344563146,0.6664206197874916,0.2766256735145219,0.637463027580774,0.6387726183805675,0.2766265333970854,0.6374636443625696,0.6387735362756488,0.010414777904423814,0.08159360148889423,0.028187030584581208,-0.13202132068693495,0.05616890468889197,-0.12196144514754326,-0.1300477178049245,0.11555854481276627,-0.12134351655970657,-0.04221398334836117,0.2098466808846869,0.06886012430139889,0.07805129565084748,0.17868793710953515,0.07434522651663726,-0.03555362200813051,-0.02413940837269144,-0.023861075075560963,-0.055789347997699794,0.1005840964129422,-0.014043319840884026,0.000375669468896134,0.02675631217327218,-0.0009749401354768547,-0.025194982568958996,-0.03221690982629178,0.015816997074310665,0.017483911407963685],[0.010464127670635112,0.01044058982533826,-0.011236866891697485,-0.011233421800811442,-0.005143451445679962,0.02290646861705658,-0.0020009121157716333,0.03613172346753698,0.015566900710937364,0.006601197878068106,-0.04079412984007342,0.09418232956514175,0.09419099771182254,0.00011383218856281139,0.036182278008908324,0.02749969384489798,0.5150491186510797,0.298253920740272,0.29668898875964045,1.0,0.3407216721050272,0.31047094266713016,0.9999999998550035,0.3407239496564844,0.3104709018777334,0.7558748212700078,0.4254669898969573,0.42025609311560025,0.9189996608193851,0.4601901793005395,0.426242567060525,0.9189997534635858,0.46019410465778515,0.42624265185352767,0.018929920767535215,-0.03158823542152261,-0.11562235041112466,-0.031737473766594984,0.004402006092627024,-0.03430748148328749,-0.04363562896306141,0.03476874052513298,-0.042601029113465916,-0.008172312954144131,0.037169307022186966,0.011035205133352481,-0.0005513207281060315,0.05196494154966907,0.003774658686836172,-0.011807708430291379,-0.008671875202842143,-0.004955326016666985,-0.006773158867817984,0.014968456521634735,0.00799265863986296,0.012662882670014745,-0.0177151289236609,0.01369145609504866,-0.007476055381035043,0.0033788098164138705,0.026095199471637222,-0.02402110996163975],[0.06579591134381375,0.027326077813337412,0.059282681158020614,0.03380116869775954,0.022119164379141208,0.09584640699531358,-0.06900069066710257,0.12027616440822453,-0.011066448799835678,0.015583568453615705,0.04422564773538996,0.04765294911197746,0.04767514942417454,-0.0015074073141711278,0.11703163010943013,0.07783703220857145,0.22726924075452504,0.45112263289353827,0.9485779672755752,0.3407216721050272,1.0,0.9543531496458874,0.34072270077642275,0.9999999999011271,0.954353842814007,0.30947716553101323,0.2734337832564803,0.649140303635201,0.3106099385064943,0.6622913125363337,0.6373548070661066,0.31061057481379584,0.6622914653108006,0.6373553816865922,0.014673800237647664,0.0460765989959251,0.020039383047030325,-0.1276340067161737,0.05191078247020842,-0.11921929103851923,-0.11950747136942373,0.1327170125473273,-0.0990191107436274,-0.035774300866213186,0.2120073641457249,0.08060015940683053,0.09834304158905519,0.19850130271789698,0.09787896652254063,-0.028437974045658152,-0.01637042643889223,-0.028425733859792687,-0.04304711805975278,0.0898111947751645,-0.009329594303402107,-0.0027498742049684804,0.02118553232255918,0.0040177096360705655,-0.026081570741851075,-0.031016818457645073,0.02019269285152001,0.013093726416877888],[0.06372283755962935,0.03065904933891828,0.05670305573294776,0.028229814479751033,0.024463348660253202,0.09025267064072211,-0.058733232669639576,0.11819080745955854,-0.04914242062973701,0.01901781145867276,0.03860071665366806,0.06378603497698858,0.06380875542337153,-0.0005935049822699967,0.04528763445187445,0.06643352293800597,0.22989302694645092,0.4757598192720024,0.9614812927201201,0.31047094266713016,0.9543531496458874,1.0,0.31047233300643384,0.954353862221507,0.9999999999810901,0.3108651257898039,0.2831879627323946,0.6646599331491311,0.2907564999260273,0.6506800337964184,0.6702651249837623,0.29075733272547427,0.6506804198510546,0.6702653405683008,0.007955991796744779,0.049141036183286926,0.024993099498173892,-0.12255532229289419,0.0523008394456315,-0.11312944281103912,-0.11997276418668411,0.09340940310980103,-0.11815685518991796,-0.03217233057965181,0.20684872925716782,0.08003992935455628,0.09648952382525433,0.15696090883487132,0.08995157779817836,-0.02925891163459743,-0.020089527655890237,-0.018078391794980452,-0.05080277973106554,0.08655403563412939,-0.01209094471530788,-0.0023332761724755994,0.0251673398703501,-0.0003542794865454331,-0.024255817234019383,-0.029487839014010708,0.014892286673774256,0.016046780433657416],[0.010463519824000083,0.010440633019572026,-0.011237082138628519,-0.011233828536214447,-0.005138523287501976,0.02290603006509859,-0.001996939138020624,0.03613205292233145,0.015567515123866185,0.006601313899765406,-0.0407941468530011,0.09418531620031918,0.09419398014358968,0.00011476963553517085,0.03618240309510164,0.027499575533880962,0.5150637152152205,0.29825620262845026,0.2966908264361121,0.9999999998550035,0.34072270077642275,0.31047233300643384,1.0,0.3407249783565226,0.3104722922282453,0.755879391137272,0.4254679202352389,0.42025714803400305,0.9189990358268526,0.4601907238685281,0.42624345656670803,0.9189991285279457,0.46019464923734105,0.42624354136372766,0.018930296172576837,-0.03158120548427193,-0.1156189385273188,-0.03173634289443118,0.004402503564404771,-0.034305900385714426,-0.04363519638077517,0.03476828327938649,-0.04260065979178263,-0.008170268434322904,0.03717022190533476,0.011038093524597566,-0.0005505227728062601,0.0519646030926456,0.003775451831399571,-0.011808755920151888,-0.008672736961245072,-0.004955424296347698,-0.006774488344813136,0.01497037783562245,0.007992232688583543,0.012663479257286553,-0.017715123102179132,0.013691000986598267,-0.007475396571091714,0.0033784812210357444,0.026095032987494726,-0.024020700511572946],[0.06579508525674317,0.027325845363073777,0.05928147532909034,0.033800871556810747,0.02212044533355215,0.09584511051643992,-0.06899871197864975,0.12027422417845347,-0.011065700830752251,0.015583422074183506,0.0442245038608498,0.047653265473666655,0.04767546587795614,-0.0015073968549162993,0.11703074894499607,0.07783585125978235,0.22727185557272783,0.4511351829143761,0.9485793493609898,0.3407239496564844,0.9999999999011271,0.954353862221507,0.3407249783565226,1.0,0.9543545554052287,0.3094796239579016,0.2734420355215217,0.6491406139272158,0.31061211681810647,0.6622910030215582,0.6373547499679041,0.31061275313309794,0.6622911559318742,0.6373553245962987,0.01467379478403875,0.046078222348648924,0.020039767513443406,-0.12763196502614496,0.05190983466855401,-0.11921744831129584,-0.11950564927343843,0.13271510827914298,-0.09901754488559247,-0.03577200234307814,0.21201028333935812,0.08060136123989095,0.09834400433212252,0.19849958579323582,0.09787983986308699,-0.028438429488817963,-0.01637091753800501,-0.028425363256947278,-0.043047985911927725,0.08981170219714847,-0.009329711522269095,-0.00274954596797233,0.021185467936403066,0.004017453311315922,-0.026081284406783298,-0.031016559292048423,0.020192695744559206,0.013093470827319077],[0.06372298136971102,0.030659147899339097,0.05670326182798334,0.028230082065556637,0.024464764347773862,0.09025307654329742,-0.05873304516171266,0.11819132062768208,-0.04914225720365062,0.019017908725434234,0.038601025215008605,0.06378665040144609,0.0638093706432654,-0.0005932905114440849,0.04528885776528517,0.06643387986214279,0.22989356997599691,0.4757611215213655,0.9614829829502658,0.3104709018777334,0.954353842814007,0.9999999999810901,0.3104722922282453,0.9543545554052287,1.0,0.31086519057446216,0.2831884071298133,0.6646605452767052,0.29075643434387594,0.6506802988044023,0.670264998018326,0.2907572671446467,0.6506806848645276,0.6702652136187643,0.007956053659109036,0.0491418045399771,0.024993192487716486,-0.12255563966734793,0.05230097104766953,-0.11312973787977074,-0.11997309295897189,0.09340997910981146,-0.11815702829616853,-0.03217258294918985,0.2068489745676182,0.08003974821633732,0.09648919448003541,0.1569615301540063,0.08995130617246735,-0.02925907766900618,-0.020089635568874515,-0.018078536740317494,-0.05080293506478644,0.0865544240910353,-0.01209099881160583,-0.002333217579950352,0.02516739710473886,-0.0003542936769234254,-0.02425585914580685,-0.029487925477066326,0.014892320193615693,0.01604682641193228],[0.01585101463587057,0.013852147828195837,-0.006961973149058402,-0.0020279383461213,0.1095192717132442,0.023875089282018064,0.0336700641527967,0.05955171339707522,-0.02703379604963268,0.013380243300505057,-0.029452499048195357,0.07965529852207277,0.07963590290344667,0.026239963750012436,0.022688549018279353,0.02276327173121222,0.6193432569623081,0.2956378577097253,0.3017871254911184,0.7558748212700078,0.30947716553101323,0.3108651257898039,0.755879391137272,0.3094796239579016,0.31086519057446216,1.0,0.4687002324101127,0.4754583944608352,0.8134972972970076,0.4800897601685088,0.4736194362423373,0.8135010864963119,0.48009425807530737,0.47361971382580764,0.019628164803024945,0.04677106188740111,-0.18238536895496224,-0.039185374809970516,0.02685579926995308,-0.030617263518024542,-0.05305528012523622,0.02652397539843344,-0.05921374612092893,-0.000903383264649455,0.06615031792420373,0.03772833472427573,-0.0061091031239953655,0.043468452360700925,-0.006753379803723938,-0.017969007279474845,-0.015617790385913688,0.030401033380044427,-0.04407628884262742,0.031804128901211676,0.0016759366025972903,0.010284754848384618,-0.012613051363054514,0.004491055126008403,0.005538863649676107,0.004870430643164749,0.012656024521467654,-0.014103259856229143],[-0.01020726885715418,0.0016639904544824102,-0.036194497835868616,0.0008946568137295896,0.02906711278233387,-0.036317350867728145,0.042027656106353756,-0.04689411913205083,0.024478250037563924,0.004366386902817547,-0.04691890878705881,0.018927236055056595,0.018920865491871705,0.00590713495991847,0.0005942714972298449,-0.0211782526092075,0.2659682457555001,0.6470828768353153,0.29214463344563146,0.4254669898969573,0.2734337832564803,0.2831879627323946,0.4254679202352389,0.2734420355215217,0.2831884071298133,0.4687002324101127,1.0,0.4188504323945123,0.45906374787960175,0.3986311745084967,0.40308067231601574,0.45906481502256147,0.39864481640562843,0.40308121531818186,0.007990876830249986,0.015630759980022002,-0.10409380655781986,0.04737849548409272,-0.04017044835226206,0.03279864743346865,0.03693207389310051,-0.0416430077407,0.030304394406317804,0.0830190567560013,0.19841807337697817,0.06551721318347878,0.06723088400263341,-0.020508189245604987,0.0633498485991532,-0.011396653392576134,-0.020717587009848035,0.05891185839881687,-0.057729458804856776,-0.005194267260861764,-0.0011613291477781868,0.01753393953184769,-0.009924712158516048,-0.006087814579830004,0.00882751418065859,0.0216951829162739,-0.005278512258765537,-0.014876274130030022],[0.04748205894067056,0.041521518710467734,0.03220237813249549,0.02578429801746825,0.02843603666707289,0.07117297373494517,-0.048565391451157874,0.1062926880167309,-0.04117785923231495,0.031896511150116116,0.012228993887537723,0.057711783588684375,0.057704443846046075,0.0158929486085911,0.08864577528577189,0.06562980780553135,0.2695551025233549,0.31253860129017774,0.6664206197874916,0.42025609311560025,0.649140303635201,0.6646599331491311,0.42025714803400305,0.6491406139272158,0.6646605452767052,0.4754583944608352,0.4188504323945123,1.0,0.45076490788193563,0.9700927538945711,0.9767431438191719,0.45076612637370217,0.970093275095269,0.976744136625961,0.010223028864005357,0.022058144588750564,-0.06000835233582844,-0.1003648085279347,0.04022306169904426,-0.09407508662333636,-0.09918360984698354,0.07602924462091444,-0.09824457165579947,-0.041892039377299004,0.1448910314941342,0.03857562348059482,0.04806185081307619,0.11379290035783814,0.04502781147497054,-0.01864907359292898,-0.02007783781238226,0.012126247886289335,-0.035549512605318544,0.03032863416946681,-0.010744025822847001,0.008255177519826183,0.016765465791060988,-0.00367222958754244,-0.01751984893443963,-0.01824541614542218,0.006146962839193896,0.012581584101154496],[0.023079745367142045,0.016023149016576373,-0.012038398548975439,0.0023344492649615936,-0.0074414985894349665,0.025846083994146334,-0.02961653453517548,0.038773898220121436,-0.00869947125828305,0.011817931810788329,-0.04467154359087516,0.06190399936740543,0.061913108699896885,0.0035215421564397512,0.023453594185099833,0.02833712716702786,0.4418775626547842,0.2783714027384646,0.2766256735145219,0.9189996608193851,0.3106099385064943,0.2907564999260273,0.9189990358268526,0.31061211681810647,0.29075643434387594,0.8134972972970076,0.45906374787960175,0.45076490788193563,1.0,0.4954312627124223,0.4604276664315181,0.9999999999787763,0.4954355051297479,0.4604276890015025,0.011891119267210655,-0.07961137155356968,-0.28085406596986123,-0.04380007322056354,0.005401740420486723,-0.04771595687208821,-0.05086877947199549,0.03181173482494415,-0.05376886728706021,-0.03022785534288958,0.02924161146343931,-0.015328012327480083,-0.013955120411598887,0.04680680410856214,-0.012152976459947751,-0.007544460229824357,-0.006642394004842258,0.0036455759478652918,-0.005632262905066277,-0.0004761184313008088,0.004697130419781426,0.010128836484522388,-0.015816195394024936,0.018735335658847153,-0.009484227147649812,0.010639427328699033,0.018823513118138232,-0.024736157305714313],[0.045578380197583125,0.040866661580726896,0.026819658994706203,0.023350129576639067,-0.00029259546268912637,0.06634879794889972,-0.056839583837802146,0.09805192479532067,-0.033807337856543135,0.03133083872112727,0.007179846119248214,0.04413448239607926,0.044149993667052516,0.013679704467956334,0.11711775861588365,0.06534082668189053,0.2644348312212375,0.27913543900235316,0.637463027580774,0.4601901793005395,0.6622913125363337,0.6506800337964184,0.4601907238685281,0.6622910030215582,0.6506802988044023,0.4800897601685088,0.3986311745084967,0.9700927538945711,0.4954312627124223,1.0,0.9702134370848255,0.4954321260060117,0.9999999998893717,0.9702139217568988,0.01352074696750762,0.009032476368579007,-0.0922195830960345,-0.09693246510379107,0.03712175557794583,-0.09180375720362836,-0.09505803004265664,0.0778757385611627,-0.09179946555047802,-0.0394239291012941,0.1399484931203993,0.04065939741033276,0.052808547042925744,0.11626140398431542,0.05062787483513731,-0.017168668392277705,-0.018660223986679644,0.010041833920219942,-0.03096377486661899,0.02186900116938555,-0.010739294886816726,0.005009376566494746,0.011929717625615411,0.0032680984706549656,-0.014819052475206877,-0.017753133588973114,0.009870297793223976,0.0090327976181261],[0.045955869547095615,0.040367334156586644,0.02888979429348418,0.02140980560877244,-0.0013390510976003063,0.06562187577212929,-0.05602581105240283,0.09923289160130752,-0.04523096392750715,0.03116271754274686,0.007354762799230739,0.04964565005177928,0.049661492572478746,0.012508066301738667,0.04276739939722467,0.05851726317888801,0.2643124207276328,0.2839054477801352,0.6387726183805675,0.426242567060525,0.6373548070661066,0.6702651249837623,0.42624345656670803,0.6373547499679041,0.670264998018326,0.4736194362423373,0.40308067231601574,0.9767431438191719,0.4604276664315181,0.9702134370848255,1.0,0.4604287762553483,0.9702137017307672,0.9999999999892796,0.005446129682570863,0.0038383070776223365,-0.07548590109445824,-0.09760218644193291,0.03742275800463547,-0.09241363967420366,-0.09721134700963202,0.0701430796465832,-0.09835073556744559,-0.039548789439553894,0.14065435843625912,0.040667324749049064,0.05265285296842319,0.10656923707096745,0.048741205826066475,-0.016651731283159676,-0.018426847311806816,0.012973185184171432,-0.03004073686731696,0.02074664763671443,-0.009447140714664232,0.005991028220305409,0.01296533572640082,-0.0010720056241304784,-0.014494686991204453,-0.01652711113895431,0.0073026350387419975,0.010037244025974106],[0.023079712604781377,0.016023158173388983,-0.012038366829479999,0.002334405269336191,-0.007440203787054444,0.025846115916046835,-0.029615887395822164,0.038774212016376944,-0.008699694840843198,0.011817974006646803,-0.04467146642491886,0.061904327585340084,0.06191343661751575,0.003521804036584863,0.02345363461871584,0.02833712392973051,0.44188047413552256,0.27837217781830376,0.2766265333970854,0.9189997534635858,0.31061057481379584,0.29075733272547427,0.9189991285279457,0.31061275313309794,0.2907572671446467,0.8135010864963119,0.45906481502256147,0.45076612637370217,0.9999999999787763,0.4954321260060117,0.4604287762553483,1.0,0.4954363684350612,0.4604287988282374,0.011891230793613409,-0.07961012199111904,-0.28085354961718884,-0.04380011303778961,0.005401992064095597,-0.047715865008886305,-0.05086891025492024,0.031811742052830834,-0.05376904063422673,-0.0302275899699859,0.02924208606244115,-0.015327449946193415,-0.013955061668292067,0.046806864507486876,-0.012152941359258707,-0.0075445927831656445,-0.006642508438055389,0.003645883315441952,-0.005632705374656481,-0.0004757577796405364,0.004697106386661576,0.010128859394836614,-0.015816192554978424,0.018735215221574855,-0.009484078655547946,0.010639384927040092,0.018823483352125553,-0.024736089866287028],[0.04557791994996976,0.04086642434083094,0.02681889853939924,0.023349993114080675,-0.00029212212270471734,0.06634777992027376,-0.05683853467507884,0.09805053023829355,-0.03380672225081736,0.031330706967293905,0.007179038705256106,0.044134504025396884,0.04415001509275368,0.01367971182965238,0.11711701101462821,0.06534006071598213,0.2644374353021434,0.27914412944645006,0.6374636443625696,0.46019410465778515,0.6622914653108006,0.6506804198510546,0.46019464923734105,0.6622911559318742,0.6506806848645276,0.48009425807530737,0.39864481640562843,0.970093275095269,0.4954355051297479,0.9999999998893717,0.9702137017307672,0.4954363684350612,1.0,0.9702141864085263,0.013520789153794724,0.009032671487899708,-0.09222067516695906,-0.09693106992853127,0.03712086402598193,-0.09180263166359215,-0.09505681642042398,0.07787455962520344,-0.09179838049322474,-0.03942232768997298,0.13995080646733404,0.040660197164992265,0.05280929604023513,0.11626031965282668,0.0506285749841926,-0.01716874223176561,-0.018660439361325238,0.010042724502452511,-0.030964510997661735,0.021868775525178075,-0.01073924428646902,0.005009628565921058,0.011929479520626448,0.003267978600263987,-0.014818813484633238,-0.017752666923164212,0.009870148361780375,0.00903249793268553],[0.04595592558708009,0.04036737935607539,0.028889880340741195,0.021409910831993114,-0.0013384087550955036,0.06562202861001053,-0.05602567807743433,0.09923309390138613,-0.04523089911443688,0.031162749040671612,0.007354871755697156,0.049645849179840364,0.0496616912078587,0.012508145682803468,0.04276841165408655,0.058517446169155544,0.26431266669503645,0.2839062087224309,0.6387735362756488,0.42624265185352767,0.6373553816865922,0.6702653405683008,0.42624354136372766,0.6373553245962987,0.6702652136187643,0.47361971382580764,0.40308121531818186,0.976744136625961,0.4604276890015025,0.9702139217568988,0.9999999999892796,0.4604287988282374,0.9702141864085263,1.0,0.005446235578494181,0.00383870247622459,-0.07548560475726179,-0.09760229512235281,0.03742283727440509,-0.09241372196804613,-0.09721143842536491,0.07014324199120595,-0.09835078267026058,-0.03954885990668421,0.14065452057234798,0.04066730000190128,0.05265278026661668,0.10656944659446482,0.04874115011227053,-0.016651782780380008,-0.018426892220834976,0.012973173409564647,-0.030040870921008402,0.020746864986556392,-0.009447173466572348,0.00599108012520668,0.012965424304706253,-0.0010720623162910768,-0.01449475960159906,-0.016527156547568794,0.007302613748809483,0.010037304013966795],[-0.01669292969128491,-0.02513440541075697,-0.01146328483725724,0.012169053404417615,0.017025985759605743,0.038964165660013726,-0.010837142891972469,0.029315137437974117,0.014777990661591045,-0.02432056614003061,0.006187509440358214,0.09572515487112968,0.09577159663854501,-0.014930025115360098,0.04113463136582986,0.030361780847576382,0.028646056566512926,0.006273662846109862,0.010414777904423814,0.018929920767535215,0.014673800237647664,0.007955991796744779,0.018930296172576837,0.01467379478403875,0.007956053659109036,0.019628164803024945,0.007990876830249986,0.010223028864005357,0.011891119267210655,0.01352074696750762,0.005446129682570863,0.011891230793613409,0.013520789153794724,0.005446235578494181,1.0,-0.0010644314844721176,0.002671529932250388,-0.02660802923442996,-0.006604303777887978,-0.03440552208126196,-0.035662374856706584,0.04587938058991981,-0.02659362521993275,-0.023899644325331364,0.0018477387577646468,-0.02720092724346646,-0.02956925911399785,0.04579501474119738,-0.02103943892786464,-0.07240944544953698,-0.07479704430907744,-0.006608870526441443,-0.05211982553129871,0.007185124337403288,-0.041840334578342096,-0.011343762472237309,0.07596380937235747,-0.0529458868336306,0.0034959726734954608,-0.0807655253990598,-0.023519340539787378,0.09413072404306451],[-0.05968661469151943,-0.010175996207791397,-0.07287823456010886,-0.05320382954111811,0.45979488691814435,-0.15436259087715165,0.428250632281371,-0.09541354716474879,0.10511356337747894,-0.0032891228719222287,-0.07153715526803281,0.20155106792239244,0.2009696770455772,0.07317173303779775,-0.00876854847898255,-0.0882000605329666,0.337583415816136,0.12381236808756423,0.08159360148889423,-0.03158823542152261,0.0460765989959251,0.049141036183286926,-0.03158120548427193,0.046078222348648924,0.0491418045399771,0.04677106188740111,0.015630759980022002,0.022058144588750564,-0.07961137155356968,0.009032476368579007,0.0038383070776223365,-0.07961012199111904,0.009032671487899708,0.00383870247622459,-0.0010644314844721176,1.0,0.46808333475885655,0.19432194203321815,0.023283760813144035,0.23759328396408916,0.17942157311249946,-0.15572346353509775,0.16915873018735827,0.21862097722156443,0.03802034646150521,0.2736672144003647,0.1883483629886529,-0.14844464049354356,0.1799153020614635,-0.04920597497892935,-0.0309149166588629,-0.038956077547536855,-0.004395452374547472,0.12561874373152723,-0.0015152724589582891,0.02111900642907383,-0.020270665832036426,-0.008321005101445825,0.029382508959053002,-0.013836581960892715,-0.0027673516862170475,0.01482212175182653],[-0.07964663205262874,-0.016742176430015413,-0.04555645474661664,-0.08263384988125128,0.07972960587629936,-0.05725068606258368,0.20746691157827324,-0.0648885298219591,0.13552161151667363,-0.013287204037299823,-0.04661852809656426,0.1462452880524584,0.1461352798276436,0.00488016207636176,-0.04867031874063446,-0.04918192475600791,0.11218574344048542,0.033440458919767505,0.028187030584581208,-0.11562235041112466,0.020039383047030325,0.024993099498173892,-0.1156189385273188,0.020039767513443406,0.024993192487716486,-0.18238536895496224,-0.10409380655781986,-0.06000835233582844,-0.28085406596986123,-0.0922195830960345,-0.07548590109445824,-0.28085354961718884,-0.09222067516695906,-0.07548560475726179,0.002671529932250388,0.46808333475885655,1.0,0.10785142307131966,-0.0015920089600393358,0.12391170997133619,0.0978827089484806,-0.07015079072987913,0.09925443726501026,0.12868541721978088,0.008851181400671869,0.15051215459137127,0.11602327213891428,-0.06604337382143498,0.11875425452010517,0.0012281256134611719,-0.009631817807583286,0.049497445029042846,-0.0018800923172924897,-0.015047579560047814,0.00851065245862409,0.003276271798576874,-0.012094782338220936,-0.01230553715239158,0.019891060543829525,0.020371452191013672,-0.011634174514546219,-0.008504127454300065],[-0.276561958217545,-0.07505673720865318,-0.40760276714547394,-0.1447393271255956,0.06740020386431099,-0.6863057806719424,0.6430827354632574,-0.9247532005836204,0.4398080978289366,-0.06271395901264644,-0.4178264391032624,-0.10316469853961338,-0.10332355137099959,-0.02453447039038427,-0.2395705784338343,-0.47917507314042757,0.04057606155026648,0.07199621823030736,-0.13202132068693495,-0.031737473766594984,-0.1276340067161737,-0.12255532229289419,-0.03173634289443118,-0.12763196502614496,-0.12255563966734793,-0.039185374809970516,0.04737849548409272,-0.1003648085279347,-0.04380007322056354,-0.09693246510379107,-0.09760218644193291,-0.04380011303778961,-0.09693106992853127,-0.09760229512235281,-0.02660802923442996,0.19432194203321815,0.10785142307131966,1.0,-0.5038737079538909,0.8808170400501132,0.9201605171477403,-0.804839769364195,0.8646014058764255,0.9912698920280245,-0.428184936807021,0.8401150335044449,0.8786272586710819,-0.8023546932451887,0.8280315705113609,-0.11065599537819278,-0.13350087140616654,0.035869749268823456,-0.0801628140356826,-0.021929071938093972,-0.04984419673241435,0.022774856991396572,0.016487687527805744,-0.06849388805354506,0.10502251001341914,0.05555915806460374,-0.07420776360305861,0.010924816440931788],[0.2024204244639663,0.03854945806247524,0.21419416195743246,0.13745685212211053,0.03610072119234774,0.18967866305266634,0.18396504513676565,0.7209787400645796,-0.027327707943072124,0.03320120842912685,0.18004190700089184,0.016831879396844964,0.016914284935961848,0.03624218861517818,0.0927796697196921,0.08316990745851845,0.027307611707765866,-0.03673366162292726,0.05616890468889197,0.004402006092627024,0.05191078247020842,0.0523008394456315,0.004402503564404771,0.05190983466855401,0.05230097104766953,0.02685579926995308,-0.04017044835226206,0.04022306169904426,0.005401740420486723,0.03712175557794583,0.03742275800463547,0.005401992064095597,0.03712086402598193,0.03742283727440509,-0.006604303777887978,0.023283760813144035,-0.0015920089600393358,-0.5038737079538909,1.0,-0.03485929406866424,-0.15597987997264123,0.15008804860540303,-0.14013130381370537,-0.49875961831168564,0.8597054128460018,-0.013541875277021559,-0.13957351959647896,0.15122968391267283,-0.1251450290296279,0.051967316310581206,0.07053552464593912,-0.03126655311962476,0.08028599063908574,0.04456888872235931,0.04566908385250221,-0.015881923192751415,-0.10242407310829796,0.1480513069682472,-0.04822451756680359,0.1246340026987456,0.029747093974232895,-0.13919769200517243],[-0.20903135346022772,-0.06571093560029498,-0.35419238621775406,-0.09212035807965041,0.09776984006038134,-0.6900898956370265,0.8448836989416261,-0.6747559255591729,0.49387994879514185,-0.05436181695920805,-0.38474085580129824,-0.11013582597771597,-0.11027445061801909,-0.00852123354556803,-0.2263289402171088,-0.5088191925018818,0.06191453847340332,0.06316518958171809,-0.12196144514754326,-0.03430748148328749,-0.11921929103851923,-0.11312944281103912,-0.034305900385714426,-0.11921744831129584,-0.11312973787977074,-0.030617263518024542,0.03279864743346865,-0.09407508662333636,-0.04771595687208821,-0.09180375720362836,-0.09241363967420366,-0.047715865008886305,-0.09180263166359215,-0.09241372196804613,-0.03440552208126196,0.23759328396408916,0.12391170997133619,0.8808170400501132,-0.03485929406866424,1.0,0.9791314277329594,-0.8489345274761818,0.9235363965294153,0.8735194399720041,-0.024186007051892708,0.9645922728974481,0.9400700730187614,-0.8454335317473228,0.8894393504769411,-0.0995447079786153,-0.11579860409635079,0.024363439085138477,-0.048741896175600694,-0.00094272055698099,-0.032637536813892885,0.017645300403880095,-0.037064768664869706,0.0019028498547471616,0.09507826990205491,0.13259691154516132,-0.06955345539600791,-0.0636575132607849],[-0.22760239624052703,-0.06858425055353597,-0.37462354793990466,-0.09862096160951345,0.017105602935109383,-0.6991576879956097,0.7701309185119831,-0.7586170962969564,0.5392147443193093,-0.05762617060161107,-0.4028219896831971,-0.17435294342631444,-0.17442506050248227,-0.019621039604517256,-0.2375962037949477,-0.5004754956533126,-0.0007007045447442094,0.06172582407757284,-0.1300477178049245,-0.04363562896306141,-0.11950747136942373,-0.11997276418668411,-0.04363519638077517,-0.11950564927343843,-0.11997309295897189,-0.05305528012523622,0.03693207389310051,-0.09918360984698354,-0.05086877947199549,-0.09505803004265664,-0.09721134700963202,-0.05086891025492024,-0.09505681642042398,-0.09721143842536491,-0.035662374856706584,0.17942157311249946,0.0978827089484806,0.9201605171477403,-0.15597987997264123,0.9791314277329594,1.0,-0.8235862676907065,0.9636756901859901,0.9095830846248782,-0.1243140784065873,0.938122200874838,0.9600445183023255,-0.820442421842434,0.9273863282580845,-0.08998553805562447,-0.10953970464946552,0.03498960047538054,-0.04471048308495134,-0.021067589109548087,-0.02580198258115029,0.01705175358961908,-0.030575336548029894,-0.01115847562383253,0.08896014323060446,0.12071047527679954,-0.059867084660180654,-0.06072059366315207],[0.1495699390935832,0.053084563026880346,0.3240738839249935,0.10642588876672111,-0.012797384225818276,0.7056638685493445,-0.6253893125773363,0.6953214413128042,-0.06585147022109722,0.04365363941863726,0.3664029389103739,0.08837872736110457,0.0884343382836892,0.011587834968465069,0.2415922477835316,0.5562171540536129,-0.005107682881443423,-0.06098166677478357,0.11555854481276627,0.03476874052513298,0.1327170125473273,0.09340940310980103,0.03476828327938649,0.13271510827914298,0.09340997910981146,0.02652397539843344,-0.0416430077407,0.07602924462091444,0.03181173482494415,0.0778757385611627,0.0701430796465832,0.031811742052830834,0.07787455962520344,0.07014324199120595,0.04587938058991981,-0.15572346353509775,-0.07015079072987913,-0.804839769364195,0.15008804860540303,-0.8489345274761818,-0.8235862676907065,1.0,-0.6421874065148474,-0.7942396300203635,0.12566659337033087,-0.8079426919489127,-0.7860711995972924,0.9965947943160014,-0.6149877518654363,0.08581647069416558,0.105519789744834,-0.0250800334555327,0.05129491523906452,0.014954402335595644,0.05268723825485982,-0.018679796374691547,0.013059015797351392,-0.002055923372609241,-0.08273332775227207,-0.11833301338559515,0.10588671095774688,0.0192161399600836],[-0.23717170974826637,-0.06769417262627302,-0.3536986683800431,-0.08317119034339074,0.017091942031045533,-0.6126196676963281,0.7463377707668046,-0.6978478795879096,0.6977305612029067,-0.05732531172807663,-0.3718766868458078,-0.19401942467102978,-0.19409070379328952,-0.02106105056222959,-0.2073472835908769,-0.4144750295356487,-0.003352060937498243,0.05470660563568762,-0.12134351655970657,-0.042601029113465916,-0.0990191107436274,-0.11815685518991796,-0.04260065979178263,-0.09901754488559247,-0.11815702829616853,-0.05921374612092893,0.030304394406317804,-0.09824457165579947,-0.05376886728706021,-0.09179946555047802,-0.09835073556744559,-0.05376904063422673,-0.09179838049322474,-0.09835078267026058,-0.02659362521993275,0.16915873018735827,0.09925443726501026,0.8646014058764255,-0.14013130381370537,0.9235363965294153,0.9636756901859901,-0.6421874065148474,1.0,0.8552975352613807,-0.10883500225221242,0.887415189234433,0.9273414815164445,-0.6395419808095854,0.963763226646819,-0.08120501094204878,-0.09835431782343586,0.0354782443279992,-0.03627193647894437,-0.02143080692973763,-0.010061856738371072,0.014249293898270496,-0.03517283045475548,-0.01604854319381346,0.08127097991706649,0.107417990711839,-0.031049961640099603,-0.0730143345192344],[-0.2737366542808128,-0.07444783962990159,-0.4028147972864403,-0.14370623735249852,0.09164164072492319,-0.678315338081416,0.6492611886713663,-0.9149693229104866,0.43957322584386693,-0.06260902067072108,-0.41312642807042244,-0.09208813718073494,-0.09225713058591878,-0.02086843044510231,-0.23296338242125075,-0.47423874077512135,0.0987020658312941,0.12973666869118283,-0.04221398334836117,-0.008172312954144131,-0.035774300866213186,-0.03217233057965181,-0.008170268434322904,-0.03577200234307814,-0.03217258294918985,-0.000903383264649455,0.0830190567560013,-0.041892039377299004,-0.03022785534288958,-0.0394239291012941,-0.039548789439553894,-0.0302275899699859,-0.03942232768997298,-0.03954885990668421,-0.023899644325331364,0.21862097722156443,0.12868541721978088,0.9912698920280245,-0.49875961831168564,0.8735194399720041,0.9095830846248782,-0.7942396300203635,0.8552975352613807,1.0,-0.3917936689030244,0.8636065925862837,0.8956000496718045,-0.7865761411367173,0.8444071371012217,-0.11732585362795832,-0.13828424776844223,0.03463551810161871,-0.09294634960480853,-0.0057454634164374714,-0.05193161845120089,0.023704922310079778,0.018927160335693624,-0.07088793446322747,0.1058983544531857,0.05106605050054512,-0.07240148518682678,0.013622216728527486],[0.17050874018222115,0.02544562801291825,0.17771331017126532,0.12058810478283338,0.045573616165389685,0.15620140576767108,0.16666017183588186,0.6061362431232699,-0.007351996255713792,0.020024034040955364,0.14808622010262124,0.02338665509639701,0.02347543168050627,0.023886260699150084,0.08265515639819522,0.06989593852351612,0.06519509571314736,0.2809089178423711,0.2098466808846869,0.037169307022186966,0.2120073641457249,0.20684872925716782,0.03717022190533476,0.21201028333935812,0.2068489745676182,0.06615031792420373,0.19841807337697817,0.1448910314941342,0.02924161146343931,0.1399484931203993,0.14065435843625912,0.02924208606244115,0.13995080646733404,0.14065452057234798,0.0018477387577646468,0.03802034646150521,0.008851181400671869,-0.428184936807021,0.8597054128460018,-0.024186007051892708,-0.1243140784065873,0.12566659337033087,-0.10883500225221242,-0.3917936689030244,1.0,0.04966127307545679,-0.05109947462774648,0.13575944220581074,-0.041416403286291835,0.03739031177919441,0.05080078822909443,-0.02123782124135543,0.05422405196995633,0.040881155585027716,0.04129750650358769,-0.014183278847953723,-0.08575093336777698,0.1204961261249926,-0.04044240492823564,0.1101390885415397,0.03147257477258519,-0.12724297694992176],[-0.19532215669150774,-0.06227271835604315,-0.3339781225702052,-0.08299521954053628,0.1365399444735428,-0.6567563173586978,0.8386137953518499,-0.6296943878929658,0.4878071082890654,-0.0526803505448217,-0.36405414421487464,-0.08288426230392523,-0.08303618685749112,-0.0025176927026624826,-0.2058677434672263,-0.484694414676905,0.15107143916090196,0.1126352502463875,0.06886012430139889,0.011035205133352481,0.08060015940683053,0.08003992935455628,0.011038093524597566,0.08060136123989095,0.08003974821633732,0.03772833472427573,0.06551721318347878,0.03857562348059482,-0.015328012327480083,0.04065939741033276,0.040667324749049064,-0.015327449946193415,0.040660197164992265,0.04066730000190128,-0.02720092724346646,0.2736672144003647,0.15051215459137127,0.8401150335044449,-0.013541875277021559,0.9645922728974481,0.938122200874838,-0.8079426919489127,0.887415189234433,0.8636065925862837,0.04966127307545679,1.0,0.968899126926834,-0.7949039345430031,0.9179105343080863,-0.10859268396187059,-0.12175836903542374,0.017856822842484552,-0.06599166593011555,0.023665364679641993,-0.03632983601714498,0.016908234748638472,-0.029025643558444603,-0.0021336041153406436,0.09214314118852883,0.12111384669774468,-0.0655892754170552,-0.056291956332298186],[-0.21501769300027526,-0.06504508353767023,-0.35601106974773633,-0.09455219452187313,0.024500067707855146,-0.6687866455827893,0.745961291505187,-0.7189825257190616,0.5293418288801298,-0.056442422315266486,-0.3859296048608555,-0.15487976189924832,-0.15494648786706813,-0.020217169030577204,-0.22156430461262921,-0.4757594151111968,0.03988126035348239,0.10546576007333346,0.07805129565084748,-0.0005513207281060315,0.09834304158905519,0.09648952382525433,-0.0005505227728062601,0.09834400433212252,0.09648919448003541,-0.0061091031239953655,0.06723088400263341,0.04806185081307619,-0.013955120411598887,0.052808547042925744,0.05265285296842319,-0.013955061668292067,0.05280929604023513,0.05265278026661668,-0.02956925911399785,0.1883483629886529,0.11602327213891428,0.8786272586710819,-0.13957351959647896,0.9400700730187614,0.9600445183023255,-0.7860711995972924,0.9273414815164445,0.8956000496718045,-0.05109947462774648,0.968899126926834,1.0,-0.7728384195439972,0.9659496919582072,-0.09029130733181807,-0.10997570574407604,0.038380740577759476,-0.04982027194247576,-0.018222219649647802,-0.024734606818018118,0.013110249996400215,-0.02402670658093331,-0.013747684201286681,0.0824486062749245,0.11297738174308465,-0.05592313219311431,-0.05647253555676599],[0.1521853374515046,0.053542888277849365,0.323664783800384,0.10820874110224131,-0.009929737329113812,0.7036286423173078,-0.6215267895739649,0.6947435863130934,-0.06502791777357575,0.04350363413136764,0.36470366931797504,0.08916377196358136,0.0892201402621368,0.010862866941260192,0.24725782948672817,0.5538696009971078,0.009728582240710479,-0.01941473794074283,0.17868793710953515,0.05196494154966907,0.19850130271789698,0.15696090883487132,0.0519646030926456,0.19849958579323582,0.1569615301540063,0.043468452360700925,-0.020508189245604987,0.11379290035783814,0.04680680410856214,0.11626140398431542,0.10656923707096745,0.046806864507486876,0.11626031965282668,0.10656944659446482,0.04579501474119738,-0.14844464049354356,-0.06604337382143498,-0.8023546932451887,0.15122968391267283,-0.8454335317473228,-0.820442421842434,0.9965947943160014,-0.6395419808095854,-0.7865761411367173,0.13575944220581074,-0.7949039345430031,-0.7728384195439972,1.0,-0.6033231423311461,0.08256698554454027,0.10314546297049756,-0.02673865874484754,0.046122329170423186,0.024138523573125705,0.05165200406576835,-0.018308385505207594,0.013662759135989739,-0.0012618074944668544,-0.08368915513735135,-0.11881519423740837,0.10676331053922866,0.019037462992032055],[-0.22732185427147303,-0.06412632441501283,-0.3382581277721774,-0.08185264222938765,0.025396852248004205,-0.5861079836801286,0.727413126474101,-0.6621197938475828,0.6836622065017502,-0.055973171549503146,-0.35845816630014316,-0.1718536464905158,-0.17192032544760946,-0.02129226673085928,-0.19972359397363076,-0.3935940558090361,0.04186723454406491,0.09958248232170361,0.07434522651663726,0.003774658686836172,0.09787896652254063,0.08995157779817836,0.003775451831399571,0.09787983986308699,0.08995130617246735,-0.006753379803723938,0.0633498485991532,0.04502781147497054,-0.012152976459947751,0.05062787483513731,0.048741205826066475,-0.012152941359258707,0.0506285749841926,0.04874115011227053,-0.02103943892786464,0.1799153020614635,0.11875425452010517,0.8280315705113609,-0.1251450290296279,0.8894393504769411,0.9273863282580845,-0.6149877518654363,0.963763226646819,0.8444071371012217,-0.041416403286291835,0.9179105343080863,0.9659496919582072,-0.6033231423311461,1.0,-0.08092120563368622,-0.09924385330607255,0.04314864186743129,-0.04232899733154308,-0.02191993039313468,-0.009053404242250337,0.010274616681494608,-0.028699718617659884,-0.019236434575428802,0.07568735931328796,0.10116089134653543,-0.028238990724983298,-0.06920177943099512],[-0.026941602592802108,0.004944717513582226,-0.005820645768079496,-0.07668851746864855,-0.0990689498298008,0.036710469023176505,-0.15457917919304426,0.05838931369825855,-0.08974673984806063,0.005458444026109932,-0.0077896179281369505,-0.14314385479767486,-0.14323777651001,0.0007592242392750911,-0.01529933912433503,0.04005216458851942,-0.05880722403055325,-0.041733836649276726,-0.03555362200813051,-0.011807708430291379,-0.028437974045658152,-0.02925891163459743,-0.011808755920151888,-0.028438429488817963,-0.02925907766900618,-0.017969007279474845,-0.011396653392576134,-0.01864907359292898,-0.007544460229824357,-0.017168668392277705,-0.016651731283159676,-0.0075445927831656445,-0.01716874223176561,-0.016651782780380008,-0.07240944544953698,-0.04920597497892935,0.0012281256134611719,-0.11065599537819278,0.051967316310581206,-0.0995447079786153,-0.08998553805562447,0.08581647069416558,-0.08120501094204878,-0.11732585362795832,0.03739031177919441,-0.10859268396187059,-0.09029130733181807,0.08256698554454027,-0.08092120563368622,1.0,0.9564446122370847,0.27101585745768797,0.40665267597919796,-0.27461313280943644,0.5423746452597688,-0.13395550421700475,-0.3181879669875066,0.008269724671094516,-0.1602609468649741,0.221164781186134,0.22191003739149104,-0.3817988744907],[-0.003322705077329403,0.006175198534114511,0.018041739727890166,-0.07168067178663871,-0.07149856764864053,0.0434585900309312,-0.1663017081796062,0.07903232885174248,-0.11582217213525939,0.006724078341101305,0.007106062948989005,-0.08505795514484249,-0.08515387645627542,0.0026131863425230685,-0.0029581982381602008,0.05379577590772537,-0.04784326712012787,-0.03855271779727341,-0.02413940837269144,-0.008671875202842143,-0.01637042643889223,-0.020089527655890237,-0.008672736961245072,-0.01637091753800501,-0.020089635568874515,-0.015617790385913688,-0.020717587009848035,-0.02007783781238226,-0.006642394004842258,-0.018660223986679644,-0.018426847311806816,-0.006642508438055389,-0.018660439361325238,-0.018426892220834976,-0.07479704430907744,-0.0309149166588629,-0.009631817807583286,-0.13350087140616654,0.07053552464593912,-0.11579860409635079,-0.10953970464946552,0.105519789744834,-0.09835431782343586,-0.13828424776844223,0.05080078822909443,-0.12175836903542374,-0.10997570574407604,0.10314546297049756,-0.09924385330607255,0.9564446122370847,1.0,0.05687140954638985,0.44733662075389513,-0.06596074338187208,0.5661688773346263,-0.124829170131618,-0.3429727505874607,0.032967439560035554,-0.18901574800597135,0.2120934767175815,0.24529590641213486,-0.3936300077733757],[-0.09437653909534793,0.009399367477888153,-0.0877892543203996,-0.09065164337095605,-0.060698343844253946,-0.04817259296969991,-0.01862328423862504,-0.05556983336826793,0.036366213673463176,0.006812858670165645,-0.06425248418660386,-0.25536552781291055,-0.25529756995752145,0.0035312538976890557,-0.05290432594623835,-0.03129298984706708,-0.00749919763678965,0.010696594038378415,-0.023861075075560963,-0.004955326016666985,-0.028425733859792687,-0.018078391794980452,-0.004955424296347698,-0.028425363256947278,-0.018078536740317494,0.030401033380044427,0.05891185839881687,0.012126247886289335,0.0036455759478652918,0.010041833920219942,0.012973185184171432,0.003645883315441952,0.010042724502452511,0.012973173409564647,-0.006608870526441443,-0.038956077547536855,0.049497445029042846,0.035869749268823456,-0.03126655311962476,0.024363439085138477,0.03498960047538054,-0.0250800334555327,0.0354782443279992,0.03463551810161871,-0.02123782124135543,0.017856822842484552,0.038380740577759476,-0.02673865874484754,0.04314864186743129,0.27101585745768797,0.05687140954638985,1.0,-0.14819056238889183,-0.8824550464940042,0.0807106058629491,-0.05844191629490091,-0.038501320568939144,-0.05401543015899089,0.05598717396015672,0.05433582925719802,-0.013454154105170845,-0.03883594346578469],[0.07415546744179066,0.019232681538016282,0.06522311670193069,-0.10455137863880982,-0.1810017023318731,-0.0059514069687315796,-0.09937701056069262,0.04752321046371549,-0.08313120622617834,0.01105698357996382,-0.02453944206440388,-0.010992083127301459,-0.01087046210443975,-0.009208809388213404,0.0009869317127024972,0.03523783580852323,-0.07040801943908473,-0.07449793162231126,-0.055789347997699794,-0.006773158867817984,-0.04304711805975278,-0.05080277973106554,-0.006774488344813136,-0.043047985911927725,-0.05080293506478644,-0.04407628884262742,-0.057729458804856776,-0.035549512605318544,-0.005632262905066277,-0.03096377486661899,-0.03004073686731696,-0.005632705374656481,-0.030964510997661735,-0.030040870921008402,-0.05211982553129871,-0.004395452374547472,-0.0018800923172924897,-0.0801628140356826,0.08028599063908574,-0.048741896175600694,-0.04471048308495134,0.05129491523906452,-0.03627193647894437,-0.09294634960480853,0.05422405196995633,-0.06599166593011555,-0.04982027194247576,0.046122329170423186,-0.04232899733154308,0.40665267597919796,0.44733662075389513,-0.14819056238889183,1.0,0.05522000566918129,0.2463574190041027,-0.04309444499679529,-0.20596173551222044,0.1304840404526802,-0.12627489874465095,0.14674698527524452,0.11893798595180682,-0.22970432626012996],[0.08105937489874955,-0.005421969151703989,0.06966841446162463,0.09558262684548981,0.19438068341890133,0.04029383631863099,0.07909134473489984,0.0604656849680723,-0.023260314715188392,-0.0018147254055325332,0.06191684863105092,0.2634963643893892,0.2633332046384631,0.027575996721790418,0.05116487016469194,0.01886240922964238,0.10441928014491876,0.07271990047238172,0.1005840964129422,0.014968456521634735,0.0898111947751645,0.08655403563412939,0.01497037783562245,0.08981170219714847,0.0865544240910353,0.031804128901211676,-0.005194267260861764,0.03032863416946681,-0.0004761184313008088,0.02186900116938555,0.02074664763671443,-0.0004757577796405364,0.021868775525178075,0.020746864986556392,0.007185124337403288,0.12561874373152723,-0.015047579560047814,-0.021929071938093972,0.04456888872235931,-0.00094272055698099,-0.021067589109548087,0.014954402335595644,-0.02143080692973763,-0.0057454634164374714,0.040881155585027716,0.023665364679641993,-0.018222219649647802,0.024138523573125705,-0.02191993039313468,-0.27461313280943644,-0.06596074338187208,-0.8824550464940042,0.05522000566918129,1.0,-0.07952090670762997,0.06247955157024717,0.03977168088183911,0.03546658530612209,-0.042925108179374435,-0.06127729775624294,0.013234136759776608,0.04507714926719313],[-0.0845048266641586,0.03056505698241645,-0.05807691719495501,-0.09993239667573715,-0.03736264373657858,-0.008968413660429258,-0.07602436197845443,0.018550760424477376,-0.033717916989745966,0.030527562234580252,-0.04472064409675422,-0.06517198142428564,-0.06509954793531703,0.03519079382431889,-0.03606414528243015,0.014239234829301508,-0.017323663124044222,-0.011648130762690874,-0.014043319840884026,0.00799265863986296,-0.009329594303402107,-0.01209094471530788,0.007992232688583543,-0.009329711522269095,-0.01209099881160583,0.0016759366025972903,-0.0011613291477781868,-0.010744025822847001,0.004697130419781426,-0.010739294886816726,-0.009447140714664232,0.004697106386661576,-0.01073924428646902,-0.009447173466572348,-0.041840334578342096,-0.0015152724589582891,0.00851065245862409,-0.04984419673241435,0.04566908385250221,-0.032637536813892885,-0.02580198258115029,0.05268723825485982,-0.010061856738371072,-0.05193161845120089,0.04129750650358769,-0.03632983601714498,-0.024734606818018118,0.05165200406576835,-0.009053404242250337,0.5423746452597688,0.5661688773346263,0.0807106058629491,0.2463574190041027,-0.07952090670762997,1.0,-0.1493097694376487,-0.5426491362625191,-0.2223386766254864,-0.188618265897342,0.15545462303018173,0.26898776871838226,-0.3626580496534685],[-0.06454868207293026,-0.008177007976714177,-0.06606207003046231,-0.006703876400296039,-0.008407500825790571,-0.006480861814316135,0.01895602756708739,-0.01746993994508497,0.006490579795849598,-0.0022836772127257368,-0.03235718084649809,0.031381164414165726,0.03141539303020991,-0.00968907491939906,-0.021320030630695378,-0.017375673047150684,0.03655142518269466,0.019590973114432142,0.000375669468896134,0.012662882670014745,-0.0027498742049684804,-0.0023332761724755994,0.012663479257286553,-0.00274954596797233,-0.002333217579950352,0.010284754848384618,0.01753393953184769,0.008255177519826183,0.010128836484522388,0.005009376566494746,0.005991028220305409,0.010128859394836614,0.005009628565921058,0.00599108012520668,-0.011343762472237309,0.02111900642907383,0.003276271798576874,0.022774856991396572,-0.015881923192751415,0.017645300403880095,0.01705175358961908,-0.018679796374691547,0.014249293898270496,0.023704922310079778,-0.014183278847953723,0.016908234748638472,0.013110249996400215,-0.018308385505207594,0.010274616681494608,-0.13395550421700475,-0.124829170131618,-0.05844191629490091,-0.04309444499679529,0.06247955157024717,-0.1493097694376487,1.0,-0.23667363123671667,-0.09697187085517354,-0.0822648870593624,0.08246259576260306,0.0670881991104287,-0.13144978544563787],[-0.021040069478596136,-0.04645811811771731,0.010777479006481678,0.05596260408108621,0.05262863760649944,0.03596322703147248,-0.006813348053170788,-0.02051939425030246,0.00916154371559347,-0.045551467812269375,0.059291389184890214,0.04880817912856213,0.04888429043024196,-0.033181364962821806,0.029415929154222517,0.01913960681013327,-0.008831265514637364,0.005471146517184868,0.02675631217327218,-0.0177151289236609,0.02118553232255918,0.0251673398703501,-0.017715123102179132,0.021185467936403066,0.02516739710473886,-0.012613051363054514,-0.009924712158516048,0.016765465791060988,-0.015816195394024936,0.011929717625615411,0.01296533572640082,-0.015816192554978424,0.011929479520626448,0.012965424304706253,0.07596380937235747,-0.020270665832036426,-0.012094782338220936,0.016487687527805744,-0.10242407310829796,-0.037064768664869706,-0.030575336548029894,0.013059015797351392,-0.03517283045475548,0.018927160335693624,-0.08575093336777698,-0.029025643558444603,-0.02402670658093331,0.013662759135989739,-0.028699718617659884,-0.3181879669875066,-0.3429727505874607,-0.038501320568939144,-0.20596173551222044,0.03977168088183911,-0.5426491362625191,-0.23667363123671667,1.0,-0.3524330802968346,-0.2989822439323944,-0.32419701391206546,-0.2697277321256979,0.5171435268306126],[0.30002945453141877,0.048663985766963326,0.2056848668872967,0.08141588630734571,-0.052703057479776216,0.018299523934420657,0.011610970861893463,0.09243474024504218,-0.023254498726315666,0.03664087444003043,0.04322353384620501,-0.020725601411627742,-0.020997033638075462,0.006741798066827964,0.05997200507237419,0.01082534751001606,-0.015856092306057827,-0.014455114274281429,-0.0009749401354768547,0.01369145609504866,0.0040177096360705655,-0.0003542794865454331,0.013691000986598267,0.004017453311315922,-0.0003542936769234254,0.004491055126008403,-0.006087814579830004,-0.00367222958754244,0.018735335658847153,0.0032680984706549656,-0.0010720056241304784,0.018735215221574855,0.003267978600263987,-0.0010720623162910768,-0.0529458868336306,-0.008321005101445825,-0.01230553715239158,-0.06849388805354506,0.1480513069682472,0.0019028498547471616,-0.01115847562383253,-0.002055923372609241,-0.01604854319381346,-0.07088793446322747,0.1204961261249926,-0.0021336041153406436,-0.013747684201286681,-0.0012618074944668544,-0.019236434575428802,0.008269724671094516,0.032967439560035554,-0.05401543015899089,0.1304840404526802,0.03546658530612209,-0.2223386766254864,-0.09697187085517354,-0.3524330802968346,1.0,-0.12250146919664201,0.17477450508437015,0.0836315270114664,-0.22751738616714964],[-0.12587624666292413,-0.014000654631537128,-0.11111479963658374,-0.03436876422761852,0.033448092710323285,-0.062368823875930325,0.09669064105383482,-0.08318118182827207,0.055977156266503604,-0.006425593625179619,-0.05776538672594747,0.012012100577847663,0.012054122121663208,0.005623788904318292,-0.04716137807985039,-0.05144852731418059,0.02931072512440209,0.006406069565402927,-0.025194982568958996,-0.007476055381035043,-0.026081570741851075,-0.024255817234019383,-0.007475396571091714,-0.026081284406783298,-0.02425585914580685,0.005538863649676107,0.00882751418065859,-0.01751984893443963,-0.009484227147649812,-0.014819052475206877,-0.014494686991204453,-0.009484078655547946,-0.014818813484633238,-0.01449475960159906,0.0034959726734954608,0.029382508959053002,0.019891060543829525,0.10502251001341914,-0.04822451756680359,0.09507826990205491,0.08896014323060446,-0.08273332775227207,0.08127097991706649,0.1058983544531857,-0.04044240492823564,0.09214314118852883,0.0824486062749245,-0.08368915513735135,0.07568735931328796,-0.1602609468649741,-0.18901574800597135,0.05598717396015672,-0.12627489874465095,-0.042925108179374435,-0.188618265897342,-0.0822648870593624,-0.2989822439323944,-0.12250146919664201,1.0,0.05648677215630153,-0.09542005723643349,0.027156830231133845],[0.03219109980345868,0.00044338743429938536,-0.03180520802018528,-0.03151327408447509,-0.05972538845592387,-0.05850230528122481,0.12054719888214227,-0.007883243364218322,0.06431097287674069,-0.011838903970292096,-0.09081027143659812,-0.03654539474989607,-0.03646395087295092,-0.007692766843413939,-0.07154083208871401,-0.0956578898942222,-0.01479962899779765,0.0024553294977762456,-0.03221690982629178,0.0033788098164138705,-0.031016818457645073,-0.029487839014010708,0.0033784812210357444,-0.031016559292048423,-0.029487925477066326,0.004870430643164749,0.0216951829162739,-0.01824541614542218,0.010639427328699033,-0.017753133588973114,-0.01652711113895431,0.010639384927040092,-0.017752666923164212,-0.016527156547568794,-0.0807655253990598,-0.013836581960892715,0.020371452191013672,0.05555915806460374,0.1246340026987456,0.13259691154516132,0.12071047527679954,-0.11833301338559515,0.107417990711839,0.05106605050054512,0.1101390885415397,0.12111384669774468,0.11297738174308465,-0.11881519423740837,0.10116089134653543,0.221164781186134,0.2120934767175815,0.05433582925719802,0.14674698527524452,-0.06127729775624294,0.15545462303018173,0.08246259576260306,-0.32419701391206546,0.17477450508437015,0.05648677215630153,1.0,-0.3382380958814215,-0.6273442450304397],[-0.026175405228433497,0.0015820006050728168,-0.023549505719551292,-0.02016585886989062,-0.029638254590081205,0.05305715415799888,-0.0810677567303477,0.053993138953776866,-0.005937654974247058,0.008914512263083518,-0.012999039165437497,-0.06284767265283657,-0.06309599680825065,0.004386037697571142,0.013071402212472345,0.03631643846436549,0.005060491065505887,0.0092931138522438,0.015816997074310665,0.026095199471637222,0.02019269285152001,0.014892286673774256,0.026095032987494726,0.020192695744559206,0.014892320193615693,0.012656024521467654,-0.005278512258765537,0.006146962839193896,0.018823513118138232,0.009870297793223976,0.0073026350387419975,0.018823483352125553,0.009870148361780375,0.007302613748809483,-0.023519340539787378,-0.0027673516862170475,-0.011634174514546219,-0.07420776360305861,0.029747093974232895,-0.06955345539600791,-0.059867084660180654,0.10588671095774688,-0.031049961640099603,-0.07240148518682678,0.03147257477258519,-0.0655892754170552,-0.05592313219311431,0.10676331053922866,-0.028238990724983298,0.22191003739149104,0.24529590641213486,-0.013454154105170845,0.11893798595180682,0.013234136759776608,0.26898776871838226,0.0670881991104287,-0.2697277321256979,0.0836315270114664,-0.09542005723643349,-0.3382380958814215,1.0,-0.5095763964969288],[-0.006561390179317673,-0.002898676508657262,0.049515649000975645,0.04618519770980201,0.07755880796264487,0.010820752762815928,-0.043862522901736,-0.03813785456222551,-0.05545934396614689,0.0020930335159678507,0.09391175864337827,0.08293560376059514,0.083064388757012,0.003131143950088521,0.052180667594242856,0.053841282996470036,0.0082375149381413,-0.010314001630740482,0.017483911407963685,-0.02402110996163975,0.013093726416877888,0.016046780433657416,-0.024020700511572946,0.013093470827319077,0.01604682641193228,-0.014103259856229143,-0.014876274130030022,0.012581584101154496,-0.024736157305714313,0.0090327976181261,0.010037244025974106,-0.024736089866287028,0.00903249793268553,0.010037304013966795,0.09413072404306451,0.01482212175182653,-0.008504127454300065,0.010924816440931788,-0.13919769200517243,-0.0636575132607849,-0.06072059366315207,0.0192161399600836,-0.0730143345192344,0.013622216728527486,-0.12724297694992176,-0.056291956332298186,-0.05647253555676599,0.019037462992032055,-0.06920177943099512,-0.3817988744907,-0.3936300077733757,-0.03883594346578469,-0.22970432626012996,0.04507714926719313,-0.3626580496534685,-0.13144978544563787,0.5171435268306126,-0.22751738616714964,0.027156830231133845,-0.6273442450304397,-0.5095763964969288,1.0]],\"type\":\"heatmap\",\"xaxis\":\"x\",\"yaxis\":\"y\",\"hovertemplate\":\"Features: %{x}\\u003cbr\\u003eFeatures: %{y}\\u003cbr\\u003eCorrelation: %{z}\\u003cextra\\u003e\\u003c\\u002fextra\\u003e\"}],                        {\"template\":{\"data\":{\"histogram2dcontour\":[{\"type\":\"histogram2dcontour\",\"colorbar\":{\"outlinewidth\":0,\"ticks\":\"\"},\"colorscale\":[[0.0,\"#0d0887\"],[0.1111111111111111,\"#46039f\"],[0.2222222222222222,\"#7201a8\"],[0.3333333333333333,\"#9c179e\"],[0.4444444444444444,\"#bd3786\"],[0.5555555555555556,\"#d8576b\"],[0.6666666666666666,\"#ed7953\"],[0.7777777777777778,\"#fb9f3a\"],[0.8888888888888888,\"#fdca26\"],[1.0,\"#f0f921\"]]}],\"choropleth\":[{\"type\":\"choropleth\",\"colorbar\":{\"outlinewidth\":0,\"ticks\":\"\"}}],\"histogram2d\":[{\"type\":\"histogram2d\",\"colorbar\":{\"outlinewidth\":0,\"ticks\":\"\"},\"colorscale\":[[0.0,\"#0d0887\"],[0.1111111111111111,\"#46039f\"],[0.2222222222222222,\"#7201a8\"],[0.3333333333333333,\"#9c179e\"],[0.4444444444444444,\"#bd3786\"],[0.5555555555555556,\"#d8576b\"],[0.6666666666666666,\"#ed7953\"],[0.7777777777777778,\"#fb9f3a\"],[0.8888888888888888,\"#fdca26\"],[1.0,\"#f0f921\"]]}],\"heatmap\":[{\"type\":\"heatmap\",\"colorbar\":{\"outlinewidth\":0,\"ticks\":\"\"},\"colorscale\":[[0.0,\"#0d0887\"],[0.1111111111111111,\"#46039f\"],[0.2222222222222222,\"#7201a8\"],[0.3333333333333333,\"#9c179e\"],[0.4444444444444444,\"#bd3786\"],[0.5555555555555556,\"#d8576b\"],[0.6666666666666666,\"#ed7953\"],[0.7777777777777778,\"#fb9f3a\"],[0.8888888888888888,\"#fdca26\"],[1.0,\"#f0f921\"]]}],\"heatmapgl\":[{\"type\":\"heatmapgl\",\"colorbar\":{\"outlinewidth\":0,\"ticks\":\"\"},\"colorscale\":[[0.0,\"#0d0887\"],[0.1111111111111111,\"#46039f\"],[0.2222222222222222,\"#7201a8\"],[0.3333333333333333,\"#9c179e\"],[0.4444444444444444,\"#bd3786\"],[0.5555555555555556,\"#d8576b\"],[0.6666666666666666,\"#ed7953\"],[0.7777777777777778,\"#fb9f3a\"],[0.8888888888888888,\"#fdca26\"],[1.0,\"#f0f921\"]]}],\"contourcarpet\":[{\"type\":\"contourcarpet\",\"colorbar\":{\"outlinewidth\":0,\"ticks\":\"\"}}],\"contour\":[{\"type\":\"contour\",\"colorbar\":{\"outlinewidth\":0,\"ticks\":\"\"},\"colorscale\":[[0.0,\"#0d0887\"],[0.1111111111111111,\"#46039f\"],[0.2222222222222222,\"#7201a8\"],[0.3333333333333333,\"#9c179e\"],[0.4444444444444444,\"#bd3786\"],[0.5555555555555556,\"#d8576b\"],[0.6666666666666666,\"#ed7953\"],[0.7777777777777778,\"#fb9f3a\"],[0.8888888888888888,\"#fdca26\"],[1.0,\"#f0f921\"]]}],\"surface\":[{\"type\":\"surface\",\"colorbar\":{\"outlinewidth\":0,\"ticks\":\"\"},\"colorscale\":[[0.0,\"#0d0887\"],[0.1111111111111111,\"#46039f\"],[0.2222222222222222,\"#7201a8\"],[0.3333333333333333,\"#9c179e\"],[0.4444444444444444,\"#bd3786\"],[0.5555555555555556,\"#d8576b\"],[0.6666666666666666,\"#ed7953\"],[0.7777777777777778,\"#fb9f3a\"],[0.8888888888888888,\"#fdca26\"],[1.0,\"#f0f921\"]]}],\"mesh3d\":[{\"type\":\"mesh3d\",\"colorbar\":{\"outlinewidth\":0,\"ticks\":\"\"}}],\"scatter\":[{\"fillpattern\":{\"fillmode\":\"overlay\",\"size\":10,\"solidity\":0.2},\"type\":\"scatter\"}],\"parcoords\":[{\"type\":\"parcoords\",\"line\":{\"colorbar\":{\"outlinewidth\":0,\"ticks\":\"\"}}}],\"scatterpolargl\":[{\"type\":\"scatterpolargl\",\"marker\":{\"colorbar\":{\"outlinewidth\":0,\"ticks\":\"\"}}}],\"bar\":[{\"error_x\":{\"color\":\"#2a3f5f\"},\"error_y\":{\"color\":\"#2a3f5f\"},\"marker\":{\"line\":{\"color\":\"#E5ECF6\",\"width\":0.5},\"pattern\":{\"fillmode\":\"overlay\",\"size\":10,\"solidity\":0.2}},\"type\":\"bar\"}],\"scattergeo\":[{\"type\":\"scattergeo\",\"marker\":{\"colorbar\":{\"outlinewidth\":0,\"ticks\":\"\"}}}],\"scatterpolar\":[{\"type\":\"scatterpolar\",\"marker\":{\"colorbar\":{\"outlinewidth\":0,\"ticks\":\"\"}}}],\"histogram\":[{\"marker\":{\"pattern\":{\"fillmode\":\"overlay\",\"size\":10,\"solidity\":0.2}},\"type\":\"histogram\"}],\"scattergl\":[{\"type\":\"scattergl\",\"marker\":{\"colorbar\":{\"outlinewidth\":0,\"ticks\":\"\"}}}],\"scatter3d\":[{\"type\":\"scatter3d\",\"line\":{\"colorbar\":{\"outlinewidth\":0,\"ticks\":\"\"}},\"marker\":{\"colorbar\":{\"outlinewidth\":0,\"ticks\":\"\"}}}],\"scattermapbox\":[{\"type\":\"scattermapbox\",\"marker\":{\"colorbar\":{\"outlinewidth\":0,\"ticks\":\"\"}}}],\"scatterternary\":[{\"type\":\"scatterternary\",\"marker\":{\"colorbar\":{\"outlinewidth\":0,\"ticks\":\"\"}}}],\"scattercarpet\":[{\"type\":\"scattercarpet\",\"marker\":{\"colorbar\":{\"outlinewidth\":0,\"ticks\":\"\"}}}],\"carpet\":[{\"aaxis\":{\"endlinecolor\":\"#2a3f5f\",\"gridcolor\":\"white\",\"linecolor\":\"white\",\"minorgridcolor\":\"white\",\"startlinecolor\":\"#2a3f5f\"},\"baxis\":{\"endlinecolor\":\"#2a3f5f\",\"gridcolor\":\"white\",\"linecolor\":\"white\",\"minorgridcolor\":\"white\",\"startlinecolor\":\"#2a3f5f\"},\"type\":\"carpet\"}],\"table\":[{\"cells\":{\"fill\":{\"color\":\"#EBF0F8\"},\"line\":{\"color\":\"white\"}},\"header\":{\"fill\":{\"color\":\"#C8D4E3\"},\"line\":{\"color\":\"white\"}},\"type\":\"table\"}],\"barpolar\":[{\"marker\":{\"line\":{\"color\":\"#E5ECF6\",\"width\":0.5},\"pattern\":{\"fillmode\":\"overlay\",\"size\":10,\"solidity\":0.2}},\"type\":\"barpolar\"}],\"pie\":[{\"automargin\":true,\"type\":\"pie\"}]},\"layout\":{\"autotypenumbers\":\"strict\",\"colorway\":[\"#636efa\",\"#EF553B\",\"#00cc96\",\"#ab63fa\",\"#FFA15A\",\"#19d3f3\",\"#FF6692\",\"#B6E880\",\"#FF97FF\",\"#FECB52\"],\"font\":{\"color\":\"#2a3f5f\"},\"hovermode\":\"closest\",\"hoverlabel\":{\"align\":\"left\"},\"paper_bgcolor\":\"white\",\"plot_bgcolor\":\"#E5ECF6\",\"polar\":{\"bgcolor\":\"#E5ECF6\",\"angularaxis\":{\"gridcolor\":\"white\",\"linecolor\":\"white\",\"ticks\":\"\"},\"radialaxis\":{\"gridcolor\":\"white\",\"linecolor\":\"white\",\"ticks\":\"\"}},\"ternary\":{\"bgcolor\":\"#E5ECF6\",\"aaxis\":{\"gridcolor\":\"white\",\"linecolor\":\"white\",\"ticks\":\"\"},\"baxis\":{\"gridcolor\":\"white\",\"linecolor\":\"white\",\"ticks\":\"\"},\"caxis\":{\"gridcolor\":\"white\",\"linecolor\":\"white\",\"ticks\":\"\"}},\"coloraxis\":{\"colorbar\":{\"outlinewidth\":0,\"ticks\":\"\"}},\"colorscale\":{\"sequential\":[[0.0,\"#0d0887\"],[0.1111111111111111,\"#46039f\"],[0.2222222222222222,\"#7201a8\"],[0.3333333333333333,\"#9c179e\"],[0.4444444444444444,\"#bd3786\"],[0.5555555555555556,\"#d8576b\"],[0.6666666666666666,\"#ed7953\"],[0.7777777777777778,\"#fb9f3a\"],[0.8888888888888888,\"#fdca26\"],[1.0,\"#f0f921\"]],\"sequentialminus\":[[0.0,\"#0d0887\"],[0.1111111111111111,\"#46039f\"],[0.2222222222222222,\"#7201a8\"],[0.3333333333333333,\"#9c179e\"],[0.4444444444444444,\"#bd3786\"],[0.5555555555555556,\"#d8576b\"],[0.6666666666666666,\"#ed7953\"],[0.7777777777777778,\"#fb9f3a\"],[0.8888888888888888,\"#fdca26\"],[1.0,\"#f0f921\"]],\"diverging\":[[0,\"#8e0152\"],[0.1,\"#c51b7d\"],[0.2,\"#de77ae\"],[0.3,\"#f1b6da\"],[0.4,\"#fde0ef\"],[0.5,\"#f7f7f7\"],[0.6,\"#e6f5d0\"],[0.7,\"#b8e186\"],[0.8,\"#7fbc41\"],[0.9,\"#4d9221\"],[1,\"#276419\"]]},\"xaxis\":{\"gridcolor\":\"white\",\"linecolor\":\"white\",\"ticks\":\"\",\"title\":{\"standoff\":15},\"zerolinecolor\":\"white\",\"automargin\":true,\"zerolinewidth\":2},\"yaxis\":{\"gridcolor\":\"white\",\"linecolor\":\"white\",\"ticks\":\"\",\"title\":{\"standoff\":15},\"zerolinecolor\":\"white\",\"automargin\":true,\"zerolinewidth\":2},\"scene\":{\"xaxis\":{\"backgroundcolor\":\"#E5ECF6\",\"gridcolor\":\"white\",\"linecolor\":\"white\",\"showbackground\":true,\"ticks\":\"\",\"zerolinecolor\":\"white\",\"gridwidth\":2},\"yaxis\":{\"backgroundcolor\":\"#E5ECF6\",\"gridcolor\":\"white\",\"linecolor\":\"white\",\"showbackground\":true,\"ticks\":\"\",\"zerolinecolor\":\"white\",\"gridwidth\":2},\"zaxis\":{\"backgroundcolor\":\"#E5ECF6\",\"gridcolor\":\"white\",\"linecolor\":\"white\",\"showbackground\":true,\"ticks\":\"\",\"zerolinecolor\":\"white\",\"gridwidth\":2}},\"shapedefaults\":{\"line\":{\"color\":\"#2a3f5f\"}},\"annotationdefaults\":{\"arrowcolor\":\"#2a3f5f\",\"arrowhead\":0,\"arrowwidth\":1},\"geo\":{\"bgcolor\":\"white\",\"landcolor\":\"#E5ECF6\",\"subunitcolor\":\"white\",\"showland\":true,\"showlakes\":true,\"lakecolor\":\"white\"},\"title\":{\"x\":0.05},\"mapbox\":{\"style\":\"light\"}}},\"xaxis\":{\"anchor\":\"y\",\"domain\":[0.0,1.0],\"scaleanchor\":\"y\",\"constrain\":\"domain\",\"title\":{\"text\":\"Features\"}},\"yaxis\":{\"anchor\":\"x\",\"domain\":[0.0,1.0],\"autorange\":\"reversed\",\"constrain\":\"domain\",\"title\":{\"text\":\"Features\"}},\"coloraxis\":{\"colorbar\":{\"title\":{\"text\":\"Correlation\"}},\"colorscale\":[[0.0,\"#e2f1fc\"],[0.2,\"#b9dcfa\"],[0.4,\"#8cc7f7\"],[0.6,\"#5eb1f3\"],[0.8,\"#39a0f1\"],[1.0,\"#0691ef\"]]},\"title\":{\"text\":\"Correlation Matrix\"},\"width\":1000,\"height\":1000},                        {\"responsive\": true}                    ).then(function(){\n",
              "                            \n",
              "var gd = document.getElementById('d390786f-070b-455d-956e-e5cad6600804');\n",
              "var x = new MutationObserver(function (mutations, observer) {{\n",
              "        var display = window.getComputedStyle(gd).display;\n",
              "        if (!display || display === 'none') {{\n",
              "            console.log([gd, 'removed!']);\n",
              "            Plotly.purge(gd);\n",
              "            observer.disconnect();\n",
              "        }}\n",
              "}});\n",
              "\n",
              "// Listen for the removal of the full notebook cells\n",
              "var notebookContainer = gd.closest('#notebook-container');\n",
              "if (notebookContainer) {{\n",
              "    x.observe(notebookContainer, {childList: true});\n",
              "}}\n",
              "\n",
              "// Listen for the clearing of the current output cell\n",
              "var outputEl = gd.closest('.output');\n",
              "if (outputEl) {{\n",
              "    x.observe(outputEl, {childList: true});\n",
              "}}\n",
              "\n",
              "                        })                };                            </script>        </div>\n",
              "</body>\n",
              "</html>"
            ]
          },
          "metadata": {}
        }
      ]
    },
    {
      "cell_type": "code",
      "source": [
        "churn_corr_df = df.corrwith(df['churn']).sort_values(ascending=False).reset_index()\n",
        "churn_corr_df.columns = ['Variable', 'Correlation']\n",
        "churn_corr_df.head()"
      ],
      "metadata": {
        "colab": {
          "base_uri": "https://localhost:8080/",
          "height": 206
        },
        "id": "feYpShZoVyqk",
        "outputId": "84602107-aea9-4c47-d1fd-31b28e42a833"
      },
      "execution_count": 63,
      "outputs": [
        {
          "output_type": "execute_result",
          "data": {
            "text/plain": [
              "                                     Variable  Correlation\n",
              "0                                       churn     1.000000\n",
              "1                          margin_net_pow_ele     0.095772\n",
              "2                        margin_gross_pow_ele     0.095725\n",
              "3  origin_up_lxidpiddsbxsbosboudacockeimpuepw     0.094131\n",
              "4    channel_foosdfpfkusacimwkcsosbicdxkicaua     0.075964"
            ],
            "text/html": [
              "\n",
              "  <div id=\"df-e71a833f-e52c-4c79-963e-23ddd8a4261d\" class=\"colab-df-container\">\n",
              "    <div>\n",
              "<style scoped>\n",
              "    .dataframe tbody tr th:only-of-type {\n",
              "        vertical-align: middle;\n",
              "    }\n",
              "\n",
              "    .dataframe tbody tr th {\n",
              "        vertical-align: top;\n",
              "    }\n",
              "\n",
              "    .dataframe thead th {\n",
              "        text-align: right;\n",
              "    }\n",
              "</style>\n",
              "<table border=\"1\" class=\"dataframe\">\n",
              "  <thead>\n",
              "    <tr style=\"text-align: right;\">\n",
              "      <th></th>\n",
              "      <th>Variable</th>\n",
              "      <th>Correlation</th>\n",
              "    </tr>\n",
              "  </thead>\n",
              "  <tbody>\n",
              "    <tr>\n",
              "      <th>0</th>\n",
              "      <td>churn</td>\n",
              "      <td>1.000000</td>\n",
              "    </tr>\n",
              "    <tr>\n",
              "      <th>1</th>\n",
              "      <td>margin_net_pow_ele</td>\n",
              "      <td>0.095772</td>\n",
              "    </tr>\n",
              "    <tr>\n",
              "      <th>2</th>\n",
              "      <td>margin_gross_pow_ele</td>\n",
              "      <td>0.095725</td>\n",
              "    </tr>\n",
              "    <tr>\n",
              "      <th>3</th>\n",
              "      <td>origin_up_lxidpiddsbxsbosboudacockeimpuepw</td>\n",
              "      <td>0.094131</td>\n",
              "    </tr>\n",
              "    <tr>\n",
              "      <th>4</th>\n",
              "      <td>channel_foosdfpfkusacimwkcsosbicdxkicaua</td>\n",
              "      <td>0.075964</td>\n",
              "    </tr>\n",
              "  </tbody>\n",
              "</table>\n",
              "</div>\n",
              "    <div class=\"colab-df-buttons\">\n",
              "\n",
              "  <div class=\"colab-df-container\">\n",
              "    <button class=\"colab-df-convert\" onclick=\"convertToInteractive('df-e71a833f-e52c-4c79-963e-23ddd8a4261d')\"\n",
              "            title=\"Convert this dataframe to an interactive table.\"\n",
              "            style=\"display:none;\">\n",
              "\n",
              "  <svg xmlns=\"http://www.w3.org/2000/svg\" height=\"24px\" viewBox=\"0 -960 960 960\">\n",
              "    <path d=\"M120-120v-720h720v720H120Zm60-500h600v-160H180v160Zm220 220h160v-160H400v160Zm0 220h160v-160H400v160ZM180-400h160v-160H180v160Zm440 0h160v-160H620v160ZM180-180h160v-160H180v160Zm440 0h160v-160H620v160Z\"/>\n",
              "  </svg>\n",
              "    </button>\n",
              "\n",
              "  <style>\n",
              "    .colab-df-container {\n",
              "      display:flex;\n",
              "      gap: 12px;\n",
              "    }\n",
              "\n",
              "    .colab-df-convert {\n",
              "      background-color: #E8F0FE;\n",
              "      border: none;\n",
              "      border-radius: 50%;\n",
              "      cursor: pointer;\n",
              "      display: none;\n",
              "      fill: #1967D2;\n",
              "      height: 32px;\n",
              "      padding: 0 0 0 0;\n",
              "      width: 32px;\n",
              "    }\n",
              "\n",
              "    .colab-df-convert:hover {\n",
              "      background-color: #E2EBFA;\n",
              "      box-shadow: 0px 1px 2px rgba(60, 64, 67, 0.3), 0px 1px 3px 1px rgba(60, 64, 67, 0.15);\n",
              "      fill: #174EA6;\n",
              "    }\n",
              "\n",
              "    .colab-df-buttons div {\n",
              "      margin-bottom: 4px;\n",
              "    }\n",
              "\n",
              "    [theme=dark] .colab-df-convert {\n",
              "      background-color: #3B4455;\n",
              "      fill: #D2E3FC;\n",
              "    }\n",
              "\n",
              "    [theme=dark] .colab-df-convert:hover {\n",
              "      background-color: #434B5C;\n",
              "      box-shadow: 0px 1px 3px 1px rgba(0, 0, 0, 0.15);\n",
              "      filter: drop-shadow(0px 1px 2px rgba(0, 0, 0, 0.3));\n",
              "      fill: #FFFFFF;\n",
              "    }\n",
              "  </style>\n",
              "\n",
              "    <script>\n",
              "      const buttonEl =\n",
              "        document.querySelector('#df-e71a833f-e52c-4c79-963e-23ddd8a4261d button.colab-df-convert');\n",
              "      buttonEl.style.display =\n",
              "        google.colab.kernel.accessAllowed ? 'block' : 'none';\n",
              "\n",
              "      async function convertToInteractive(key) {\n",
              "        const element = document.querySelector('#df-e71a833f-e52c-4c79-963e-23ddd8a4261d');\n",
              "        const dataTable =\n",
              "          await google.colab.kernel.invokeFunction('convertToInteractive',\n",
              "                                                    [key], {});\n",
              "        if (!dataTable) return;\n",
              "\n",
              "        const docLinkHtml = 'Like what you see? Visit the ' +\n",
              "          '<a target=\"_blank\" href=https://colab.research.google.com/notebooks/data_table.ipynb>data table notebook</a>'\n",
              "          + ' to learn more about interactive tables.';\n",
              "        element.innerHTML = '';\n",
              "        dataTable['output_type'] = 'display_data';\n",
              "        await google.colab.output.renderOutput(dataTable, element);\n",
              "        const docLink = document.createElement('div');\n",
              "        docLink.innerHTML = docLinkHtml;\n",
              "        element.appendChild(docLink);\n",
              "      }\n",
              "    </script>\n",
              "  </div>\n",
              "\n",
              "\n",
              "<div id=\"df-30daf50d-6afb-42fc-bfb7-f156ba90e955\">\n",
              "  <button class=\"colab-df-quickchart\" onclick=\"quickchart('df-30daf50d-6afb-42fc-bfb7-f156ba90e955')\"\n",
              "            title=\"Suggest charts\"\n",
              "            style=\"display:none;\">\n",
              "\n",
              "<svg xmlns=\"http://www.w3.org/2000/svg\" height=\"24px\"viewBox=\"0 0 24 24\"\n",
              "     width=\"24px\">\n",
              "    <g>\n",
              "        <path d=\"M19 3H5c-1.1 0-2 .9-2 2v14c0 1.1.9 2 2 2h14c1.1 0 2-.9 2-2V5c0-1.1-.9-2-2-2zM9 17H7v-7h2v7zm4 0h-2V7h2v10zm4 0h-2v-4h2v4z\"/>\n",
              "    </g>\n",
              "</svg>\n",
              "  </button>\n",
              "\n",
              "<style>\n",
              "  .colab-df-quickchart {\n",
              "      --bg-color: #E8F0FE;\n",
              "      --fill-color: #1967D2;\n",
              "      --hover-bg-color: #E2EBFA;\n",
              "      --hover-fill-color: #174EA6;\n",
              "      --disabled-fill-color: #AAA;\n",
              "      --disabled-bg-color: #DDD;\n",
              "  }\n",
              "\n",
              "  [theme=dark] .colab-df-quickchart {\n",
              "      --bg-color: #3B4455;\n",
              "      --fill-color: #D2E3FC;\n",
              "      --hover-bg-color: #434B5C;\n",
              "      --hover-fill-color: #FFFFFF;\n",
              "      --disabled-bg-color: #3B4455;\n",
              "      --disabled-fill-color: #666;\n",
              "  }\n",
              "\n",
              "  .colab-df-quickchart {\n",
              "    background-color: var(--bg-color);\n",
              "    border: none;\n",
              "    border-radius: 50%;\n",
              "    cursor: pointer;\n",
              "    display: none;\n",
              "    fill: var(--fill-color);\n",
              "    height: 32px;\n",
              "    padding: 0;\n",
              "    width: 32px;\n",
              "  }\n",
              "\n",
              "  .colab-df-quickchart:hover {\n",
              "    background-color: var(--hover-bg-color);\n",
              "    box-shadow: 0 1px 2px rgba(60, 64, 67, 0.3), 0 1px 3px 1px rgba(60, 64, 67, 0.15);\n",
              "    fill: var(--button-hover-fill-color);\n",
              "  }\n",
              "\n",
              "  .colab-df-quickchart-complete:disabled,\n",
              "  .colab-df-quickchart-complete:disabled:hover {\n",
              "    background-color: var(--disabled-bg-color);\n",
              "    fill: var(--disabled-fill-color);\n",
              "    box-shadow: none;\n",
              "  }\n",
              "\n",
              "  .colab-df-spinner {\n",
              "    border: 2px solid var(--fill-color);\n",
              "    border-color: transparent;\n",
              "    border-bottom-color: var(--fill-color);\n",
              "    animation:\n",
              "      spin 1s steps(1) infinite;\n",
              "  }\n",
              "\n",
              "  @keyframes spin {\n",
              "    0% {\n",
              "      border-color: transparent;\n",
              "      border-bottom-color: var(--fill-color);\n",
              "      border-left-color: var(--fill-color);\n",
              "    }\n",
              "    20% {\n",
              "      border-color: transparent;\n",
              "      border-left-color: var(--fill-color);\n",
              "      border-top-color: var(--fill-color);\n",
              "    }\n",
              "    30% {\n",
              "      border-color: transparent;\n",
              "      border-left-color: var(--fill-color);\n",
              "      border-top-color: var(--fill-color);\n",
              "      border-right-color: var(--fill-color);\n",
              "    }\n",
              "    40% {\n",
              "      border-color: transparent;\n",
              "      border-right-color: var(--fill-color);\n",
              "      border-top-color: var(--fill-color);\n",
              "    }\n",
              "    60% {\n",
              "      border-color: transparent;\n",
              "      border-right-color: var(--fill-color);\n",
              "    }\n",
              "    80% {\n",
              "      border-color: transparent;\n",
              "      border-right-color: var(--fill-color);\n",
              "      border-bottom-color: var(--fill-color);\n",
              "    }\n",
              "    90% {\n",
              "      border-color: transparent;\n",
              "      border-bottom-color: var(--fill-color);\n",
              "    }\n",
              "  }\n",
              "</style>\n",
              "\n",
              "  <script>\n",
              "    async function quickchart(key) {\n",
              "      const quickchartButtonEl =\n",
              "        document.querySelector('#' + key + ' button');\n",
              "      quickchartButtonEl.disabled = true;  // To prevent multiple clicks.\n",
              "      quickchartButtonEl.classList.add('colab-df-spinner');\n",
              "      try {\n",
              "        const charts = await google.colab.kernel.invokeFunction(\n",
              "            'suggestCharts', [key], {});\n",
              "      } catch (error) {\n",
              "        console.error('Error during call to suggestCharts:', error);\n",
              "      }\n",
              "      quickchartButtonEl.classList.remove('colab-df-spinner');\n",
              "      quickchartButtonEl.classList.add('colab-df-quickchart-complete');\n",
              "    }\n",
              "    (() => {\n",
              "      let quickchartButtonEl =\n",
              "        document.querySelector('#df-30daf50d-6afb-42fc-bfb7-f156ba90e955 button');\n",
              "      quickchartButtonEl.style.display =\n",
              "        google.colab.kernel.accessAllowed ? 'block' : 'none';\n",
              "    })();\n",
              "  </script>\n",
              "</div>\n",
              "\n",
              "    </div>\n",
              "  </div>\n"
            ]
          },
          "metadata": {},
          "execution_count": 63
        }
      ]
    },
    {
      "cell_type": "code",
      "source": [
        "fig = px.histogram(\n",
        "    churn_corr_df[1:],\n",
        "    x='Correlation',\n",
        "    title='Correlation of Churn with Other Variables',\n",
        ")\n",
        "\n",
        "fig.update_layout(\n",
        "    xaxis_title='Correlations with Churn',\n",
        "    yaxis_title='Number of Variables',\n",
        ")\n",
        "\n",
        "fig.show()"
      ],
      "metadata": {
        "colab": {
          "base_uri": "https://localhost:8080/",
          "height": 542
        },
        "id": "0sw9VGnQWKi7",
        "outputId": "af58dfd4-a9f7-4299-de68-c0c9b2627fef"
      },
      "execution_count": 64,
      "outputs": [
        {
          "output_type": "display_data",
          "data": {
            "text/html": [
              "<html>\n",
              "<head><meta charset=\"utf-8\" /></head>\n",
              "<body>\n",
              "    <div>            <script src=\"https://cdnjs.cloudflare.com/ajax/libs/mathjax/2.7.5/MathJax.js?config=TeX-AMS-MML_SVG\"></script><script type=\"text/javascript\">if (window.MathJax && window.MathJax.Hub && window.MathJax.Hub.Config) {window.MathJax.Hub.Config({SVG: {font: \"STIX-Web\"}});}</script>                <script type=\"text/javascript\">window.PlotlyConfig = {MathJaxConfig: 'local'};</script>\n",
              "        <script charset=\"utf-8\" src=\"https://cdn.plot.ly/plotly-2.24.1.min.js\"></script>                <div id=\"8a3ad90e-f0ec-46e7-a78d-b64d79b80e0f\" class=\"plotly-graph-div\" style=\"height:525px; width:100%;\"></div>            <script type=\"text/javascript\">                                    window.PLOTLYENV=window.PLOTLYENV || {};                                    if (document.getElementById(\"8a3ad90e-f0ec-46e7-a78d-b64d79b80e0f\")) {                    Plotly.newPlot(                        \"8a3ad90e-f0ec-46e7-a78d-b64d79b80e0f\",                        [{\"alignmentgroup\":\"True\",\"bingroup\":\"x\",\"hovertemplate\":\"Correlation=%{x}\\u003cbr\\u003ecount=%{y}\\u003cextra\\u003e\\u003c\\u002fextra\\u003e\",\"legendgroup\":\"\",\"marker\":{\"color\":\"#636efa\",\"pattern\":{\"shape\":\"\"}},\"name\":\"\",\"offsetgroup\":\"\",\"orientation\":\"v\",\"showlegend\":false,\"x\":[0.09577159663854501,0.09572515487112984,0.0941307240430642,0.075963809372357,0.045879380589920034,0.045795014741197404,0.04113463136582975,0.03896416566001339,0.030361780847576438,0.02931513743797395,0.028646056566513176,0.0196281648030249,0.018930296172576928,0.018929920767535184,0.01702598575960569,0.014777990661590896,0.014673800237647633,0.014673794784038671,0.013520789153794724,0.013520746967507588,0.012169053404417486,0.011891230793613428,0.011891119267210684,0.010414777904423848,0.010223028864005407,0.007990876830249972,0.007956053659109027,0.007955991796744773,0.0071851243374033025,0.006273662846109785,0.0061875094403582515,0.005446235578494082,0.005446129682570973,0.0034959726734954885,0.002671529932250377,0.001847738757764681,-0.0010644314844721681,-0.006604303777887953,-0.006608870526441516,-0.010837142891972315,-0.011343762472237435,-0.01146328483725723,-0.014930025115360077,-0.016692929691285104,-0.02103943892786458,-0.023519340539787447,-0.023899644325331343,-0.02432056614003066,-0.0251344054107569,-0.02659362521993267,-0.0266080292344302,-0.027200927243466292,-0.029569259113998003,-0.034405522081261845,-0.03566237485670657,-0.041840334578342436,-0.05211982553129863,-0.05294588683363016,-0.07240944544953638,-0.07479704430907765,-0.08076552539905912],\"xaxis\":\"x\",\"yaxis\":\"y\",\"type\":\"histogram\"}],                        {\"template\":{\"data\":{\"histogram2dcontour\":[{\"type\":\"histogram2dcontour\",\"colorbar\":{\"outlinewidth\":0,\"ticks\":\"\"},\"colorscale\":[[0.0,\"#0d0887\"],[0.1111111111111111,\"#46039f\"],[0.2222222222222222,\"#7201a8\"],[0.3333333333333333,\"#9c179e\"],[0.4444444444444444,\"#bd3786\"],[0.5555555555555556,\"#d8576b\"],[0.6666666666666666,\"#ed7953\"],[0.7777777777777778,\"#fb9f3a\"],[0.8888888888888888,\"#fdca26\"],[1.0,\"#f0f921\"]]}],\"choropleth\":[{\"type\":\"choropleth\",\"colorbar\":{\"outlinewidth\":0,\"ticks\":\"\"}}],\"histogram2d\":[{\"type\":\"histogram2d\",\"colorbar\":{\"outlinewidth\":0,\"ticks\":\"\"},\"colorscale\":[[0.0,\"#0d0887\"],[0.1111111111111111,\"#46039f\"],[0.2222222222222222,\"#7201a8\"],[0.3333333333333333,\"#9c179e\"],[0.4444444444444444,\"#bd3786\"],[0.5555555555555556,\"#d8576b\"],[0.6666666666666666,\"#ed7953\"],[0.7777777777777778,\"#fb9f3a\"],[0.8888888888888888,\"#fdca26\"],[1.0,\"#f0f921\"]]}],\"heatmap\":[{\"type\":\"heatmap\",\"colorbar\":{\"outlinewidth\":0,\"ticks\":\"\"},\"colorscale\":[[0.0,\"#0d0887\"],[0.1111111111111111,\"#46039f\"],[0.2222222222222222,\"#7201a8\"],[0.3333333333333333,\"#9c179e\"],[0.4444444444444444,\"#bd3786\"],[0.5555555555555556,\"#d8576b\"],[0.6666666666666666,\"#ed7953\"],[0.7777777777777778,\"#fb9f3a\"],[0.8888888888888888,\"#fdca26\"],[1.0,\"#f0f921\"]]}],\"heatmapgl\":[{\"type\":\"heatmapgl\",\"colorbar\":{\"outlinewidth\":0,\"ticks\":\"\"},\"colorscale\":[[0.0,\"#0d0887\"],[0.1111111111111111,\"#46039f\"],[0.2222222222222222,\"#7201a8\"],[0.3333333333333333,\"#9c179e\"],[0.4444444444444444,\"#bd3786\"],[0.5555555555555556,\"#d8576b\"],[0.6666666666666666,\"#ed7953\"],[0.7777777777777778,\"#fb9f3a\"],[0.8888888888888888,\"#fdca26\"],[1.0,\"#f0f921\"]]}],\"contourcarpet\":[{\"type\":\"contourcarpet\",\"colorbar\":{\"outlinewidth\":0,\"ticks\":\"\"}}],\"contour\":[{\"type\":\"contour\",\"colorbar\":{\"outlinewidth\":0,\"ticks\":\"\"},\"colorscale\":[[0.0,\"#0d0887\"],[0.1111111111111111,\"#46039f\"],[0.2222222222222222,\"#7201a8\"],[0.3333333333333333,\"#9c179e\"],[0.4444444444444444,\"#bd3786\"],[0.5555555555555556,\"#d8576b\"],[0.6666666666666666,\"#ed7953\"],[0.7777777777777778,\"#fb9f3a\"],[0.8888888888888888,\"#fdca26\"],[1.0,\"#f0f921\"]]}],\"surface\":[{\"type\":\"surface\",\"colorbar\":{\"outlinewidth\":0,\"ticks\":\"\"},\"colorscale\":[[0.0,\"#0d0887\"],[0.1111111111111111,\"#46039f\"],[0.2222222222222222,\"#7201a8\"],[0.3333333333333333,\"#9c179e\"],[0.4444444444444444,\"#bd3786\"],[0.5555555555555556,\"#d8576b\"],[0.6666666666666666,\"#ed7953\"],[0.7777777777777778,\"#fb9f3a\"],[0.8888888888888888,\"#fdca26\"],[1.0,\"#f0f921\"]]}],\"mesh3d\":[{\"type\":\"mesh3d\",\"colorbar\":{\"outlinewidth\":0,\"ticks\":\"\"}}],\"scatter\":[{\"fillpattern\":{\"fillmode\":\"overlay\",\"size\":10,\"solidity\":0.2},\"type\":\"scatter\"}],\"parcoords\":[{\"type\":\"parcoords\",\"line\":{\"colorbar\":{\"outlinewidth\":0,\"ticks\":\"\"}}}],\"scatterpolargl\":[{\"type\":\"scatterpolargl\",\"marker\":{\"colorbar\":{\"outlinewidth\":0,\"ticks\":\"\"}}}],\"bar\":[{\"error_x\":{\"color\":\"#2a3f5f\"},\"error_y\":{\"color\":\"#2a3f5f\"},\"marker\":{\"line\":{\"color\":\"#E5ECF6\",\"width\":0.5},\"pattern\":{\"fillmode\":\"overlay\",\"size\":10,\"solidity\":0.2}},\"type\":\"bar\"}],\"scattergeo\":[{\"type\":\"scattergeo\",\"marker\":{\"colorbar\":{\"outlinewidth\":0,\"ticks\":\"\"}}}],\"scatterpolar\":[{\"type\":\"scatterpolar\",\"marker\":{\"colorbar\":{\"outlinewidth\":0,\"ticks\":\"\"}}}],\"histogram\":[{\"marker\":{\"pattern\":{\"fillmode\":\"overlay\",\"size\":10,\"solidity\":0.2}},\"type\":\"histogram\"}],\"scattergl\":[{\"type\":\"scattergl\",\"marker\":{\"colorbar\":{\"outlinewidth\":0,\"ticks\":\"\"}}}],\"scatter3d\":[{\"type\":\"scatter3d\",\"line\":{\"colorbar\":{\"outlinewidth\":0,\"ticks\":\"\"}},\"marker\":{\"colorbar\":{\"outlinewidth\":0,\"ticks\":\"\"}}}],\"scattermapbox\":[{\"type\":\"scattermapbox\",\"marker\":{\"colorbar\":{\"outlinewidth\":0,\"ticks\":\"\"}}}],\"scatterternary\":[{\"type\":\"scatterternary\",\"marker\":{\"colorbar\":{\"outlinewidth\":0,\"ticks\":\"\"}}}],\"scattercarpet\":[{\"type\":\"scattercarpet\",\"marker\":{\"colorbar\":{\"outlinewidth\":0,\"ticks\":\"\"}}}],\"carpet\":[{\"aaxis\":{\"endlinecolor\":\"#2a3f5f\",\"gridcolor\":\"white\",\"linecolor\":\"white\",\"minorgridcolor\":\"white\",\"startlinecolor\":\"#2a3f5f\"},\"baxis\":{\"endlinecolor\":\"#2a3f5f\",\"gridcolor\":\"white\",\"linecolor\":\"white\",\"minorgridcolor\":\"white\",\"startlinecolor\":\"#2a3f5f\"},\"type\":\"carpet\"}],\"table\":[{\"cells\":{\"fill\":{\"color\":\"#EBF0F8\"},\"line\":{\"color\":\"white\"}},\"header\":{\"fill\":{\"color\":\"#C8D4E3\"},\"line\":{\"color\":\"white\"}},\"type\":\"table\"}],\"barpolar\":[{\"marker\":{\"line\":{\"color\":\"#E5ECF6\",\"width\":0.5},\"pattern\":{\"fillmode\":\"overlay\",\"size\":10,\"solidity\":0.2}},\"type\":\"barpolar\"}],\"pie\":[{\"automargin\":true,\"type\":\"pie\"}]},\"layout\":{\"autotypenumbers\":\"strict\",\"colorway\":[\"#636efa\",\"#EF553B\",\"#00cc96\",\"#ab63fa\",\"#FFA15A\",\"#19d3f3\",\"#FF6692\",\"#B6E880\",\"#FF97FF\",\"#FECB52\"],\"font\":{\"color\":\"#2a3f5f\"},\"hovermode\":\"closest\",\"hoverlabel\":{\"align\":\"left\"},\"paper_bgcolor\":\"white\",\"plot_bgcolor\":\"#E5ECF6\",\"polar\":{\"bgcolor\":\"#E5ECF6\",\"angularaxis\":{\"gridcolor\":\"white\",\"linecolor\":\"white\",\"ticks\":\"\"},\"radialaxis\":{\"gridcolor\":\"white\",\"linecolor\":\"white\",\"ticks\":\"\"}},\"ternary\":{\"bgcolor\":\"#E5ECF6\",\"aaxis\":{\"gridcolor\":\"white\",\"linecolor\":\"white\",\"ticks\":\"\"},\"baxis\":{\"gridcolor\":\"white\",\"linecolor\":\"white\",\"ticks\":\"\"},\"caxis\":{\"gridcolor\":\"white\",\"linecolor\":\"white\",\"ticks\":\"\"}},\"coloraxis\":{\"colorbar\":{\"outlinewidth\":0,\"ticks\":\"\"}},\"colorscale\":{\"sequential\":[[0.0,\"#0d0887\"],[0.1111111111111111,\"#46039f\"],[0.2222222222222222,\"#7201a8\"],[0.3333333333333333,\"#9c179e\"],[0.4444444444444444,\"#bd3786\"],[0.5555555555555556,\"#d8576b\"],[0.6666666666666666,\"#ed7953\"],[0.7777777777777778,\"#fb9f3a\"],[0.8888888888888888,\"#fdca26\"],[1.0,\"#f0f921\"]],\"sequentialminus\":[[0.0,\"#0d0887\"],[0.1111111111111111,\"#46039f\"],[0.2222222222222222,\"#7201a8\"],[0.3333333333333333,\"#9c179e\"],[0.4444444444444444,\"#bd3786\"],[0.5555555555555556,\"#d8576b\"],[0.6666666666666666,\"#ed7953\"],[0.7777777777777778,\"#fb9f3a\"],[0.8888888888888888,\"#fdca26\"],[1.0,\"#f0f921\"]],\"diverging\":[[0,\"#8e0152\"],[0.1,\"#c51b7d\"],[0.2,\"#de77ae\"],[0.3,\"#f1b6da\"],[0.4,\"#fde0ef\"],[0.5,\"#f7f7f7\"],[0.6,\"#e6f5d0\"],[0.7,\"#b8e186\"],[0.8,\"#7fbc41\"],[0.9,\"#4d9221\"],[1,\"#276419\"]]},\"xaxis\":{\"gridcolor\":\"white\",\"linecolor\":\"white\",\"ticks\":\"\",\"title\":{\"standoff\":15},\"zerolinecolor\":\"white\",\"automargin\":true,\"zerolinewidth\":2},\"yaxis\":{\"gridcolor\":\"white\",\"linecolor\":\"white\",\"ticks\":\"\",\"title\":{\"standoff\":15},\"zerolinecolor\":\"white\",\"automargin\":true,\"zerolinewidth\":2},\"scene\":{\"xaxis\":{\"backgroundcolor\":\"#E5ECF6\",\"gridcolor\":\"white\",\"linecolor\":\"white\",\"showbackground\":true,\"ticks\":\"\",\"zerolinecolor\":\"white\",\"gridwidth\":2},\"yaxis\":{\"backgroundcolor\":\"#E5ECF6\",\"gridcolor\":\"white\",\"linecolor\":\"white\",\"showbackground\":true,\"ticks\":\"\",\"zerolinecolor\":\"white\",\"gridwidth\":2},\"zaxis\":{\"backgroundcolor\":\"#E5ECF6\",\"gridcolor\":\"white\",\"linecolor\":\"white\",\"showbackground\":true,\"ticks\":\"\",\"zerolinecolor\":\"white\",\"gridwidth\":2}},\"shapedefaults\":{\"line\":{\"color\":\"#2a3f5f\"}},\"annotationdefaults\":{\"arrowcolor\":\"#2a3f5f\",\"arrowhead\":0,\"arrowwidth\":1},\"geo\":{\"bgcolor\":\"white\",\"landcolor\":\"#E5ECF6\",\"subunitcolor\":\"white\",\"showland\":true,\"showlakes\":true,\"lakecolor\":\"white\"},\"title\":{\"x\":0.05},\"mapbox\":{\"style\":\"light\"}}},\"xaxis\":{\"anchor\":\"y\",\"domain\":[0.0,1.0],\"title\":{\"text\":\"Correlations with Churn\"}},\"yaxis\":{\"anchor\":\"x\",\"domain\":[0.0,1.0],\"title\":{\"text\":\"Number of Variables\"}},\"legend\":{\"tracegroupgap\":0},\"title\":{\"text\":\"Correlation of Churn with Other Variables\"},\"barmode\":\"relative\"},                        {\"responsive\": true}                    ).then(function(){\n",
              "                            \n",
              "var gd = document.getElementById('8a3ad90e-f0ec-46e7-a78d-b64d79b80e0f');\n",
              "var x = new MutationObserver(function (mutations, observer) {{\n",
              "        var display = window.getComputedStyle(gd).display;\n",
              "        if (!display || display === 'none') {{\n",
              "            console.log([gd, 'removed!']);\n",
              "            Plotly.purge(gd);\n",
              "            observer.disconnect();\n",
              "        }}\n",
              "}});\n",
              "\n",
              "// Listen for the removal of the full notebook cells\n",
              "var notebookContainer = gd.closest('#notebook-container');\n",
              "if (notebookContainer) {{\n",
              "    x.observe(notebookContainer, {childList: true});\n",
              "}}\n",
              "\n",
              "// Listen for the clearing of the current output cell\n",
              "var outputEl = gd.closest('.output');\n",
              "if (outputEl) {{\n",
              "    x.observe(outputEl, {childList: true});\n",
              "}}\n",
              "\n",
              "                        })                };                            </script>        </div>\n",
              "</body>\n",
              "</html>"
            ]
          },
          "metadata": {}
        }
      ]
    },
    {
      "cell_type": "markdown",
      "source": [
        "These correlations are just too little to matter because they're capped at |0.1|. I'm gonna use the same `Random Forest` algorithm to find importance features, then feed them to the algorithm to build a predictive model."
      ],
      "metadata": {
        "id": "UOdmoElJf0GQ"
      }
    },
    {
      "cell_type": "markdown",
      "metadata": {
        "id": "N2gjvbtCUSKV"
      },
      "source": [
        "# 4. Model Iterations\n",
        "\n",
        "So we now have a dataset containing features that we have engineered and we are ready to start training a predictive model.\n",
        "\n",
        "We are going to focus on a **`Random Forest`** for the following reasons:\n",
        "- It is easy to understand because it's just an ensamble of decision trees, which are very intuitive, espeically for a classification problem\n",
        "- It's easy to explain as it can return the importance of features in its decision-making\n",
        "- The random forest uses a rule-based approach instead of a distance calculation and so features do not need to be scaled\n",
        "- It is able to handle non-linear parameters better than linear based models\n",
        "\n",
        "On the flip side, some disadvantages of the random forest classifier include:\n",
        "- The computational power needed to train a random forest on a large dataset is high, since we need to build a whole ensemble of estimators.\n",
        "- Training time can be longer due to the increased complexity and size of thee ensemble"
      ]
    },
    {
      "cell_type": "code",
      "execution_count": 65,
      "metadata": {
        "id": "dstIVhBnUSKW"
      },
      "outputs": [],
      "source": [
        "train_df = df.copy()\n",
        "\n",
        "labels = np.array(df['churn'])\n",
        "features = np.array(df.drop(columns=['id', 'churn']))\n",
        "feature_list = (df.drop(columns=['id', 'churn'])).columns\n",
        "\n",
        "train_features, test_features, train_labels, test_labels = train_test_split(\n",
        "    features,\n",
        "    labels,\n",
        "    stratify=labels,\n",
        "    test_size=0.25,\n",
        "    random_state=42)"
      ]
    },
    {
      "cell_type": "markdown",
      "source": [
        "## Base Model\n",
        "\n",
        "We are now going to create a baseline model with no hyperparameter tuning and using all independent variables in the data."
      ],
      "metadata": {
        "id": "VP49Y_XQmcRx"
      }
    },
    {
      "cell_type": "code",
      "execution_count": 66,
      "metadata": {
        "id": "km_R7pYnUSKX",
        "colab": {
          "base_uri": "https://localhost:8080/",
          "height": 75
        },
        "outputId": "a4ba8027-4593-4490-eef1-86636b1a16b1"
      },
      "outputs": [
        {
          "output_type": "execute_result",
          "data": {
            "text/plain": [
              "RandomForestClassifier(n_estimators=1000, random_state=42)"
            ],
            "text/html": [
              "<style>#sk-container-id-5 {color: black;background-color: white;}#sk-container-id-5 pre{padding: 0;}#sk-container-id-5 div.sk-toggleable {background-color: white;}#sk-container-id-5 label.sk-toggleable__label {cursor: pointer;display: block;width: 100%;margin-bottom: 0;padding: 0.3em;box-sizing: border-box;text-align: center;}#sk-container-id-5 label.sk-toggleable__label-arrow:before {content: \"▸\";float: left;margin-right: 0.25em;color: #696969;}#sk-container-id-5 label.sk-toggleable__label-arrow:hover:before {color: black;}#sk-container-id-5 div.sk-estimator:hover label.sk-toggleable__label-arrow:before {color: black;}#sk-container-id-5 div.sk-toggleable__content {max-height: 0;max-width: 0;overflow: hidden;text-align: left;background-color: #f0f8ff;}#sk-container-id-5 div.sk-toggleable__content pre {margin: 0.2em;color: black;border-radius: 0.25em;background-color: #f0f8ff;}#sk-container-id-5 input.sk-toggleable__control:checked~div.sk-toggleable__content {max-height: 200px;max-width: 100%;overflow: auto;}#sk-container-id-5 input.sk-toggleable__control:checked~label.sk-toggleable__label-arrow:before {content: \"▾\";}#sk-container-id-5 div.sk-estimator input.sk-toggleable__control:checked~label.sk-toggleable__label {background-color: #d4ebff;}#sk-container-id-5 div.sk-label input.sk-toggleable__control:checked~label.sk-toggleable__label {background-color: #d4ebff;}#sk-container-id-5 input.sk-hidden--visually {border: 0;clip: rect(1px 1px 1px 1px);clip: rect(1px, 1px, 1px, 1px);height: 1px;margin: -1px;overflow: hidden;padding: 0;position: absolute;width: 1px;}#sk-container-id-5 div.sk-estimator {font-family: monospace;background-color: #f0f8ff;border: 1px dotted black;border-radius: 0.25em;box-sizing: border-box;margin-bottom: 0.5em;}#sk-container-id-5 div.sk-estimator:hover {background-color: #d4ebff;}#sk-container-id-5 div.sk-parallel-item::after {content: \"\";width: 100%;border-bottom: 1px solid gray;flex-grow: 1;}#sk-container-id-5 div.sk-label:hover label.sk-toggleable__label {background-color: #d4ebff;}#sk-container-id-5 div.sk-serial::before {content: \"\";position: absolute;border-left: 1px solid gray;box-sizing: border-box;top: 0;bottom: 0;left: 50%;z-index: 0;}#sk-container-id-5 div.sk-serial {display: flex;flex-direction: column;align-items: center;background-color: white;padding-right: 0.2em;padding-left: 0.2em;position: relative;}#sk-container-id-5 div.sk-item {position: relative;z-index: 1;}#sk-container-id-5 div.sk-parallel {display: flex;align-items: stretch;justify-content: center;background-color: white;position: relative;}#sk-container-id-5 div.sk-item::before, #sk-container-id-5 div.sk-parallel-item::before {content: \"\";position: absolute;border-left: 1px solid gray;box-sizing: border-box;top: 0;bottom: 0;left: 50%;z-index: -1;}#sk-container-id-5 div.sk-parallel-item {display: flex;flex-direction: column;z-index: 1;position: relative;background-color: white;}#sk-container-id-5 div.sk-parallel-item:first-child::after {align-self: flex-end;width: 50%;}#sk-container-id-5 div.sk-parallel-item:last-child::after {align-self: flex-start;width: 50%;}#sk-container-id-5 div.sk-parallel-item:only-child::after {width: 0;}#sk-container-id-5 div.sk-dashed-wrapped {border: 1px dashed gray;margin: 0 0.4em 0.5em 0.4em;box-sizing: border-box;padding-bottom: 0.4em;background-color: white;}#sk-container-id-5 div.sk-label label {font-family: monospace;font-weight: bold;display: inline-block;line-height: 1.2em;}#sk-container-id-5 div.sk-label-container {text-align: center;}#sk-container-id-5 div.sk-container {/* jupyter's `normalize.less` sets `[hidden] { display: none; }` but bootstrap.min.css set `[hidden] { display: none !important; }` so we also need the `!important` here to be able to override the default hidden behavior on the sphinx rendered scikit-learn.org. See: https://github.com/scikit-learn/scikit-learn/issues/21755 */display: inline-block !important;position: relative;}#sk-container-id-5 div.sk-text-repr-fallback {display: none;}</style><div id=\"sk-container-id-5\" class=\"sk-top-container\"><div class=\"sk-text-repr-fallback\"><pre>RandomForestClassifier(n_estimators=1000, random_state=42)</pre><b>In a Jupyter environment, please rerun this cell to show the HTML representation or trust the notebook. <br />On GitHub, the HTML representation is unable to render, please try loading this page with nbviewer.org.</b></div><div class=\"sk-container\" hidden><div class=\"sk-item\"><div class=\"sk-estimator sk-toggleable\"><input class=\"sk-toggleable__control sk-hidden--visually\" id=\"sk-estimator-id-5\" type=\"checkbox\" checked><label for=\"sk-estimator-id-5\" class=\"sk-toggleable__label sk-toggleable__label-arrow\">RandomForestClassifier</label><div class=\"sk-toggleable__content\"><pre>RandomForestClassifier(n_estimators=1000, random_state=42)</pre></div></div></div></div></div>"
            ]
          },
          "metadata": {},
          "execution_count": 66
        }
      ],
      "source": [
        "base_all_vars_model = RandomForestClassifier(n_estimators= 1000, random_state=42)\n",
        "base_all_vars_model.fit(train_features, train_labels)"
      ]
    },
    {
      "cell_type": "markdown",
      "source": [
        "Let's now see how this has performed"
      ],
      "metadata": {
        "id": "AK9P696Sm9oG"
      }
    },
    {
      "cell_type": "code",
      "source": [
        "basic_rf_eval(base_all_vars_model, test_features, test_labels)"
      ],
      "metadata": {
        "colab": {
          "base_uri": "https://localhost:8080/"
        },
        "id": "UlwMBKWynpUI",
        "outputId": "b790c61e-155b-4464-8e13-fdefc0d640cc"
      },
      "execution_count": 74,
      "outputs": [
        {
          "output_type": "stream",
          "name": "stdout",
          "text": [
            "Accuracy = 0.91;\n",
            "    \n",
            "Precision = 0.7631578947368421;\n",
            "    \n",
            "Confusion Matrix: \n",
            "[[3288    9]\n",
            " [ 326   29]];\n",
            "    \n",
            "Classification Report:\n",
            "              precision    recall  f1-score   support\n",
            "\n",
            "           0       0.91      1.00      0.95      3297\n",
            "           1       0.76      0.08      0.15       355\n",
            "\n",
            "    accuracy                           0.91      3652\n",
            "   macro avg       0.84      0.54      0.55      3652\n",
            "weighted avg       0.90      0.91      0.87      3652\n",
            "\n"
          ]
        }
      ]
    },
    {
      "cell_type": "code",
      "source": [
        "base_all_vars_importance_df = create_feature_importance_df(base_all_vars_model, feature_list)\n",
        "view_feature_importances(base_all_vars_importance_df)"
      ],
      "metadata": {
        "colab": {
          "base_uri": "https://localhost:8080/",
          "height": 542
        },
        "id": "SHrraihNRnFW",
        "outputId": "da91f593-7ded-4c28-f90e-519e05a323bd"
      },
      "execution_count": 75,
      "outputs": [
        {
          "output_type": "display_data",
          "data": {
            "text/html": [
              "<html>\n",
              "<head><meta charset=\"utf-8\" /></head>\n",
              "<body>\n",
              "    <div>            <script src=\"https://cdnjs.cloudflare.com/ajax/libs/mathjax/2.7.5/MathJax.js?config=TeX-AMS-MML_SVG\"></script><script type=\"text/javascript\">if (window.MathJax && window.MathJax.Hub && window.MathJax.Hub.Config) {window.MathJax.Hub.Config({SVG: {font: \"STIX-Web\"}});}</script>                <script type=\"text/javascript\">window.PlotlyConfig = {MathJaxConfig: 'local'};</script>\n",
              "        <script charset=\"utf-8\" src=\"https://cdn.plot.ly/plotly-2.24.1.min.js\"></script>                <div id=\"fe0b67b8-0774-454e-a2fa-2f4a6fe5087c\" class=\"plotly-graph-div\" style=\"height:525px; width:100%;\"></div>            <script type=\"text/javascript\">                                    window.PLOTLYENV=window.PLOTLYENV || {};                                    if (document.getElementById(\"fe0b67b8-0774-454e-a2fa-2f4a6fe5087c\")) {                    Plotly.newPlot(                        \"fe0b67b8-0774-454e-a2fa-2f4a6fe5087c\",                        [{\"alignmentgroup\":\"True\",\"hovertemplate\":\"Variable=%{x}\\u003cbr\\u003eImportance=%{y}\\u003cextra\\u003e\\u003c\\u002fextra\\u003e\",\"legendgroup\":\"\",\"marker\":{\"color\":\"#636efa\",\"pattern\":{\"shape\":\"\"}},\"name\":\"\",\"offsetgroup\":\"\",\"orientation\":\"v\",\"showlegend\":false,\"textposition\":\"auto\",\"x\":[\"cons_12m\",\"cons_gas_12m\",\"cons_last_month\",\"forecast_cons_12m\",\"forecast_discount_energy\",\"forecast_meter_rent_12m\",\"forecast_price_energy_off_peak\",\"forecast_price_energy_peak\",\"forecast_price_pow_off_peak\",\"has_gas\",\"imp_cons\",\"margin_gross_pow_ele\",\"margin_net_pow_ele\",\"nb_prod_act\",\"net_margin\",\"pow_max\",\"var_year_price_off_peak_var\",\"var_year_price_peak_var\",\"var_year_price_mid_peak_var\",\"var_year_price_off_peak_fix\",\"var_year_price_peak_fix\",\"var_year_price_mid_peak_fix\",\"var_year_price_off_peak\",\"var_year_price_peak\",\"var_year_price_mid_peak\",\"var_6m_price_off_peak_var\",\"var_6m_price_peak_var\",\"var_6m_price_mid_peak_var\",\"var_6m_price_off_peak_fix\",\"var_6m_price_peak_fix\",\"var_6m_price_mid_peak_fix\",\"var_6m_price_off_peak\",\"var_6m_price_peak\",\"var_6m_price_mid_peak\",\"offpeak_diff_dec_january_energy\",\"offpeak_diff_dec_january_power\",\"off_peak_peak_var_mean_diff\",\"peak_mid_peak_var_mean_diff\",\"off_peak_mid_peak_var_mean_diff\",\"off_peak_peak_fix_mean_diff\",\"peak_mid_peak_fix_mean_diff\",\"off_peak_mid_peak_fix_mean_diff\",\"off_peak_peak_var_max_monthly_diff\",\"peak_mid_peak_var_max_monthly_diff\",\"off_peak_mid_peak_var_max_monthly_diff\",\"off_peak_peak_fix_max_monthly_diff\",\"peak_mid_peak_fix_max_monthly_diff\",\"off_peak_mid_peak_fix_max_monthly_diff\",\"tenure\",\"months_activ\",\"months_to_end\",\"months_modif_prod\",\"months_renewal\",\"channel_MISSING\",\"channel_ewpakwlliwisiwduibdlfmalxowmwpci\",\"channel_foosdfpfkusacimwkcsosbicdxkicaua\",\"channel_lmkebamcaaclubfxadlmueccxoimlema\",\"channel_usilxuppasemubllopkaafesmlibmsdf\",\"origin_up_kamkkxfxxuwbdslkwifmmcsiusiuosws\",\"origin_up_ldkssxwpmemidmecebumciepifcamkci\",\"origin_up_lxidpiddsbxsbosboudacockeimpuepw\"],\"xaxis\":\"x\",\"y\":[0.05,0.01,0.04,0.05,0.0,0.05,0.02,0.01,0.0,0.0,0.03,0.05,0.05,0.01,0.05,0.04,0.03,0.01,0.01,0.01,0.0,0.0,0.03,0.01,0.01,0.02,0.01,0.0,0.01,0.0,0.0,0.02,0.01,0.0,0.03,0.01,0.03,0.01,0.03,0.01,0.01,0.01,0.02,0.01,0.02,0.0,0.0,0.0,0.01,0.03,0.02,0.03,0.02,0.0,0.0,0.01,0.0,0.0,0.0,0.0,0.01],\"yaxis\":\"y\",\"type\":\"bar\"}],                        {\"template\":{\"data\":{\"histogram2dcontour\":[{\"type\":\"histogram2dcontour\",\"colorbar\":{\"outlinewidth\":0,\"ticks\":\"\"},\"colorscale\":[[0.0,\"#0d0887\"],[0.1111111111111111,\"#46039f\"],[0.2222222222222222,\"#7201a8\"],[0.3333333333333333,\"#9c179e\"],[0.4444444444444444,\"#bd3786\"],[0.5555555555555556,\"#d8576b\"],[0.6666666666666666,\"#ed7953\"],[0.7777777777777778,\"#fb9f3a\"],[0.8888888888888888,\"#fdca26\"],[1.0,\"#f0f921\"]]}],\"choropleth\":[{\"type\":\"choropleth\",\"colorbar\":{\"outlinewidth\":0,\"ticks\":\"\"}}],\"histogram2d\":[{\"type\":\"histogram2d\",\"colorbar\":{\"outlinewidth\":0,\"ticks\":\"\"},\"colorscale\":[[0.0,\"#0d0887\"],[0.1111111111111111,\"#46039f\"],[0.2222222222222222,\"#7201a8\"],[0.3333333333333333,\"#9c179e\"],[0.4444444444444444,\"#bd3786\"],[0.5555555555555556,\"#d8576b\"],[0.6666666666666666,\"#ed7953\"],[0.7777777777777778,\"#fb9f3a\"],[0.8888888888888888,\"#fdca26\"],[1.0,\"#f0f921\"]]}],\"heatmap\":[{\"type\":\"heatmap\",\"colorbar\":{\"outlinewidth\":0,\"ticks\":\"\"},\"colorscale\":[[0.0,\"#0d0887\"],[0.1111111111111111,\"#46039f\"],[0.2222222222222222,\"#7201a8\"],[0.3333333333333333,\"#9c179e\"],[0.4444444444444444,\"#bd3786\"],[0.5555555555555556,\"#d8576b\"],[0.6666666666666666,\"#ed7953\"],[0.7777777777777778,\"#fb9f3a\"],[0.8888888888888888,\"#fdca26\"],[1.0,\"#f0f921\"]]}],\"heatmapgl\":[{\"type\":\"heatmapgl\",\"colorbar\":{\"outlinewidth\":0,\"ticks\":\"\"},\"colorscale\":[[0.0,\"#0d0887\"],[0.1111111111111111,\"#46039f\"],[0.2222222222222222,\"#7201a8\"],[0.3333333333333333,\"#9c179e\"],[0.4444444444444444,\"#bd3786\"],[0.5555555555555556,\"#d8576b\"],[0.6666666666666666,\"#ed7953\"],[0.7777777777777778,\"#fb9f3a\"],[0.8888888888888888,\"#fdca26\"],[1.0,\"#f0f921\"]]}],\"contourcarpet\":[{\"type\":\"contourcarpet\",\"colorbar\":{\"outlinewidth\":0,\"ticks\":\"\"}}],\"contour\":[{\"type\":\"contour\",\"colorbar\":{\"outlinewidth\":0,\"ticks\":\"\"},\"colorscale\":[[0.0,\"#0d0887\"],[0.1111111111111111,\"#46039f\"],[0.2222222222222222,\"#7201a8\"],[0.3333333333333333,\"#9c179e\"],[0.4444444444444444,\"#bd3786\"],[0.5555555555555556,\"#d8576b\"],[0.6666666666666666,\"#ed7953\"],[0.7777777777777778,\"#fb9f3a\"],[0.8888888888888888,\"#fdca26\"],[1.0,\"#f0f921\"]]}],\"surface\":[{\"type\":\"surface\",\"colorbar\":{\"outlinewidth\":0,\"ticks\":\"\"},\"colorscale\":[[0.0,\"#0d0887\"],[0.1111111111111111,\"#46039f\"],[0.2222222222222222,\"#7201a8\"],[0.3333333333333333,\"#9c179e\"],[0.4444444444444444,\"#bd3786\"],[0.5555555555555556,\"#d8576b\"],[0.6666666666666666,\"#ed7953\"],[0.7777777777777778,\"#fb9f3a\"],[0.8888888888888888,\"#fdca26\"],[1.0,\"#f0f921\"]]}],\"mesh3d\":[{\"type\":\"mesh3d\",\"colorbar\":{\"outlinewidth\":0,\"ticks\":\"\"}}],\"scatter\":[{\"fillpattern\":{\"fillmode\":\"overlay\",\"size\":10,\"solidity\":0.2},\"type\":\"scatter\"}],\"parcoords\":[{\"type\":\"parcoords\",\"line\":{\"colorbar\":{\"outlinewidth\":0,\"ticks\":\"\"}}}],\"scatterpolargl\":[{\"type\":\"scatterpolargl\",\"marker\":{\"colorbar\":{\"outlinewidth\":0,\"ticks\":\"\"}}}],\"bar\":[{\"error_x\":{\"color\":\"#2a3f5f\"},\"error_y\":{\"color\":\"#2a3f5f\"},\"marker\":{\"line\":{\"color\":\"#E5ECF6\",\"width\":0.5},\"pattern\":{\"fillmode\":\"overlay\",\"size\":10,\"solidity\":0.2}},\"type\":\"bar\"}],\"scattergeo\":[{\"type\":\"scattergeo\",\"marker\":{\"colorbar\":{\"outlinewidth\":0,\"ticks\":\"\"}}}],\"scatterpolar\":[{\"type\":\"scatterpolar\",\"marker\":{\"colorbar\":{\"outlinewidth\":0,\"ticks\":\"\"}}}],\"histogram\":[{\"marker\":{\"pattern\":{\"fillmode\":\"overlay\",\"size\":10,\"solidity\":0.2}},\"type\":\"histogram\"}],\"scattergl\":[{\"type\":\"scattergl\",\"marker\":{\"colorbar\":{\"outlinewidth\":0,\"ticks\":\"\"}}}],\"scatter3d\":[{\"type\":\"scatter3d\",\"line\":{\"colorbar\":{\"outlinewidth\":0,\"ticks\":\"\"}},\"marker\":{\"colorbar\":{\"outlinewidth\":0,\"ticks\":\"\"}}}],\"scattermapbox\":[{\"type\":\"scattermapbox\",\"marker\":{\"colorbar\":{\"outlinewidth\":0,\"ticks\":\"\"}}}],\"scatterternary\":[{\"type\":\"scatterternary\",\"marker\":{\"colorbar\":{\"outlinewidth\":0,\"ticks\":\"\"}}}],\"scattercarpet\":[{\"type\":\"scattercarpet\",\"marker\":{\"colorbar\":{\"outlinewidth\":0,\"ticks\":\"\"}}}],\"carpet\":[{\"aaxis\":{\"endlinecolor\":\"#2a3f5f\",\"gridcolor\":\"white\",\"linecolor\":\"white\",\"minorgridcolor\":\"white\",\"startlinecolor\":\"#2a3f5f\"},\"baxis\":{\"endlinecolor\":\"#2a3f5f\",\"gridcolor\":\"white\",\"linecolor\":\"white\",\"minorgridcolor\":\"white\",\"startlinecolor\":\"#2a3f5f\"},\"type\":\"carpet\"}],\"table\":[{\"cells\":{\"fill\":{\"color\":\"#EBF0F8\"},\"line\":{\"color\":\"white\"}},\"header\":{\"fill\":{\"color\":\"#C8D4E3\"},\"line\":{\"color\":\"white\"}},\"type\":\"table\"}],\"barpolar\":[{\"marker\":{\"line\":{\"color\":\"#E5ECF6\",\"width\":0.5},\"pattern\":{\"fillmode\":\"overlay\",\"size\":10,\"solidity\":0.2}},\"type\":\"barpolar\"}],\"pie\":[{\"automargin\":true,\"type\":\"pie\"}]},\"layout\":{\"autotypenumbers\":\"strict\",\"colorway\":[\"#636efa\",\"#EF553B\",\"#00cc96\",\"#ab63fa\",\"#FFA15A\",\"#19d3f3\",\"#FF6692\",\"#B6E880\",\"#FF97FF\",\"#FECB52\"],\"font\":{\"color\":\"#2a3f5f\"},\"hovermode\":\"closest\",\"hoverlabel\":{\"align\":\"left\"},\"paper_bgcolor\":\"white\",\"plot_bgcolor\":\"#E5ECF6\",\"polar\":{\"bgcolor\":\"#E5ECF6\",\"angularaxis\":{\"gridcolor\":\"white\",\"linecolor\":\"white\",\"ticks\":\"\"},\"radialaxis\":{\"gridcolor\":\"white\",\"linecolor\":\"white\",\"ticks\":\"\"}},\"ternary\":{\"bgcolor\":\"#E5ECF6\",\"aaxis\":{\"gridcolor\":\"white\",\"linecolor\":\"white\",\"ticks\":\"\"},\"baxis\":{\"gridcolor\":\"white\",\"linecolor\":\"white\",\"ticks\":\"\"},\"caxis\":{\"gridcolor\":\"white\",\"linecolor\":\"white\",\"ticks\":\"\"}},\"coloraxis\":{\"colorbar\":{\"outlinewidth\":0,\"ticks\":\"\"}},\"colorscale\":{\"sequential\":[[0.0,\"#0d0887\"],[0.1111111111111111,\"#46039f\"],[0.2222222222222222,\"#7201a8\"],[0.3333333333333333,\"#9c179e\"],[0.4444444444444444,\"#bd3786\"],[0.5555555555555556,\"#d8576b\"],[0.6666666666666666,\"#ed7953\"],[0.7777777777777778,\"#fb9f3a\"],[0.8888888888888888,\"#fdca26\"],[1.0,\"#f0f921\"]],\"sequentialminus\":[[0.0,\"#0d0887\"],[0.1111111111111111,\"#46039f\"],[0.2222222222222222,\"#7201a8\"],[0.3333333333333333,\"#9c179e\"],[0.4444444444444444,\"#bd3786\"],[0.5555555555555556,\"#d8576b\"],[0.6666666666666666,\"#ed7953\"],[0.7777777777777778,\"#fb9f3a\"],[0.8888888888888888,\"#fdca26\"],[1.0,\"#f0f921\"]],\"diverging\":[[0,\"#8e0152\"],[0.1,\"#c51b7d\"],[0.2,\"#de77ae\"],[0.3,\"#f1b6da\"],[0.4,\"#fde0ef\"],[0.5,\"#f7f7f7\"],[0.6,\"#e6f5d0\"],[0.7,\"#b8e186\"],[0.8,\"#7fbc41\"],[0.9,\"#4d9221\"],[1,\"#276419\"]]},\"xaxis\":{\"gridcolor\":\"white\",\"linecolor\":\"white\",\"ticks\":\"\",\"title\":{\"standoff\":15},\"zerolinecolor\":\"white\",\"automargin\":true,\"zerolinewidth\":2},\"yaxis\":{\"gridcolor\":\"white\",\"linecolor\":\"white\",\"ticks\":\"\",\"title\":{\"standoff\":15},\"zerolinecolor\":\"white\",\"automargin\":true,\"zerolinewidth\":2},\"scene\":{\"xaxis\":{\"backgroundcolor\":\"#E5ECF6\",\"gridcolor\":\"white\",\"linecolor\":\"white\",\"showbackground\":true,\"ticks\":\"\",\"zerolinecolor\":\"white\",\"gridwidth\":2},\"yaxis\":{\"backgroundcolor\":\"#E5ECF6\",\"gridcolor\":\"white\",\"linecolor\":\"white\",\"showbackground\":true,\"ticks\":\"\",\"zerolinecolor\":\"white\",\"gridwidth\":2},\"zaxis\":{\"backgroundcolor\":\"#E5ECF6\",\"gridcolor\":\"white\",\"linecolor\":\"white\",\"showbackground\":true,\"ticks\":\"\",\"zerolinecolor\":\"white\",\"gridwidth\":2}},\"shapedefaults\":{\"line\":{\"color\":\"#2a3f5f\"}},\"annotationdefaults\":{\"arrowcolor\":\"#2a3f5f\",\"arrowhead\":0,\"arrowwidth\":1},\"geo\":{\"bgcolor\":\"white\",\"landcolor\":\"#E5ECF6\",\"subunitcolor\":\"white\",\"showland\":true,\"showlakes\":true,\"lakecolor\":\"white\"},\"title\":{\"x\":0.05},\"mapbox\":{\"style\":\"light\"}}},\"xaxis\":{\"anchor\":\"y\",\"domain\":[0.0,1.0],\"title\":{\"text\":\"Variables\"},\"categoryorder\":\"total descending\"},\"yaxis\":{\"anchor\":\"x\",\"domain\":[0.0,1.0],\"title\":{\"text\":\"Importances\"}},\"legend\":{\"tracegroupgap\":0},\"title\":{\"text\":\"Variable Importances\",\"x\":0.5},\"barmode\":\"relative\"},                        {\"responsive\": true}                    ).then(function(){\n",
              "                            \n",
              "var gd = document.getElementById('fe0b67b8-0774-454e-a2fa-2f4a6fe5087c');\n",
              "var x = new MutationObserver(function (mutations, observer) {{\n",
              "        var display = window.getComputedStyle(gd).display;\n",
              "        if (!display || display === 'none') {{\n",
              "            console.log([gd, 'removed!']);\n",
              "            Plotly.purge(gd);\n",
              "            observer.disconnect();\n",
              "        }}\n",
              "}});\n",
              "\n",
              "// Listen for the removal of the full notebook cells\n",
              "var notebookContainer = gd.closest('#notebook-container');\n",
              "if (notebookContainer) {{\n",
              "    x.observe(notebookContainer, {childList: true});\n",
              "}}\n",
              "\n",
              "// Listen for the clearing of the current output cell\n",
              "var outputEl = gd.closest('.output');\n",
              "if (outputEl) {{\n",
              "    x.observe(outputEl, {childList: true});\n",
              "}}\n",
              "\n",
              "                        })                };                            </script>        </div>\n",
              "</body>\n",
              "</html>"
            ]
          },
          "metadata": {}
        }
      ]
    },
    {
      "cell_type": "markdown",
      "source": [
        "So the feature engineering was not useful at all because we still have the same problem as initial iterations i.e. the model having very low sensitivity on churned customers. The feature importance is also very low. Could the model be overfit due the use of many useless variables?\n",
        "\n",
        "I don't feel comfortable making decisions based on a foul model, but I'm just going to try and experiment with the top 8 variables according to the above graph and see if anything will change.\n",
        "\n",
        "Before throwing these features into the model however, I'm going to calculate VIF of each among them because I'm pretty sure that they're not all independent of each other."
      ],
      "metadata": {
        "id": "tyIuRbL8oDrZ"
      }
    },
    {
      "cell_type": "code",
      "source": [
        "top_features = [\n",
        "    'net_margin',\n",
        "    # 'margin_net_pow_ele',\n",
        "    'margin_gross_pow_ele',\n",
        "    'forecast_meter_rent_12m',\n",
        "    # 'forecast_cons_12m',\n",
        "    'cons_12m',\n",
        "    'pow_max',\n",
        "    'cons_last_month'\n",
        "]\n",
        "\n",
        "calculate_and_view_vif(df, top_features)"
      ],
      "metadata": {
        "colab": {
          "base_uri": "https://localhost:8080/",
          "height": 542
        },
        "id": "mP4YhNIZU6dv",
        "outputId": "75454a47-6e5e-45df-ab31-f4f7bed1e6f0"
      },
      "execution_count": 76,
      "outputs": [
        {
          "output_type": "display_data",
          "data": {
            "text/html": [
              "<html>\n",
              "<head><meta charset=\"utf-8\" /></head>\n",
              "<body>\n",
              "    <div>            <script src=\"https://cdnjs.cloudflare.com/ajax/libs/mathjax/2.7.5/MathJax.js?config=TeX-AMS-MML_SVG\"></script><script type=\"text/javascript\">if (window.MathJax && window.MathJax.Hub && window.MathJax.Hub.Config) {window.MathJax.Hub.Config({SVG: {font: \"STIX-Web\"}});}</script>                <script type=\"text/javascript\">window.PlotlyConfig = {MathJaxConfig: 'local'};</script>\n",
              "        <script charset=\"utf-8\" src=\"https://cdn.plot.ly/plotly-2.24.1.min.js\"></script>                <div id=\"196a791d-349f-4dd6-966c-48fd2580ba60\" class=\"plotly-graph-div\" style=\"height:525px; width:100%;\"></div>            <script type=\"text/javascript\">                                    window.PLOTLYENV=window.PLOTLYENV || {};                                    if (document.getElementById(\"196a791d-349f-4dd6-966c-48fd2580ba60\")) {                    Plotly.newPlot(                        \"196a791d-349f-4dd6-966c-48fd2580ba60\",                        [{\"alignmentgroup\":\"True\",\"hovertemplate\":\"Variable=%{x}\\u003cbr\\u003eVIF=%{y}\\u003cextra\\u003e\\u003c\\u002fextra\\u003e\",\"legendgroup\":\"\",\"marker\":{\"color\":\"#636efa\",\"pattern\":{\"shape\":\"\"}},\"name\":\"\",\"offsetgroup\":\"\",\"orientation\":\"v\",\"showlegend\":false,\"textposition\":\"auto\",\"x\":[\"cons_12m\",\"forecast_meter_rent_12m\",\"pow_max\",\"cons_last_month\",\"margin_gross_pow_ele\",\"net_margin\"],\"xaxis\":\"x\",\"y\":[9.981592960720006,9.074184003962042,4.253814503599245,3.716989272756119,2.7943791041099986,1.6235857729503669],\"yaxis\":\"y\",\"type\":\"bar\"}],                        {\"template\":{\"data\":{\"histogram2dcontour\":[{\"type\":\"histogram2dcontour\",\"colorbar\":{\"outlinewidth\":0,\"ticks\":\"\"},\"colorscale\":[[0.0,\"#0d0887\"],[0.1111111111111111,\"#46039f\"],[0.2222222222222222,\"#7201a8\"],[0.3333333333333333,\"#9c179e\"],[0.4444444444444444,\"#bd3786\"],[0.5555555555555556,\"#d8576b\"],[0.6666666666666666,\"#ed7953\"],[0.7777777777777778,\"#fb9f3a\"],[0.8888888888888888,\"#fdca26\"],[1.0,\"#f0f921\"]]}],\"choropleth\":[{\"type\":\"choropleth\",\"colorbar\":{\"outlinewidth\":0,\"ticks\":\"\"}}],\"histogram2d\":[{\"type\":\"histogram2d\",\"colorbar\":{\"outlinewidth\":0,\"ticks\":\"\"},\"colorscale\":[[0.0,\"#0d0887\"],[0.1111111111111111,\"#46039f\"],[0.2222222222222222,\"#7201a8\"],[0.3333333333333333,\"#9c179e\"],[0.4444444444444444,\"#bd3786\"],[0.5555555555555556,\"#d8576b\"],[0.6666666666666666,\"#ed7953\"],[0.7777777777777778,\"#fb9f3a\"],[0.8888888888888888,\"#fdca26\"],[1.0,\"#f0f921\"]]}],\"heatmap\":[{\"type\":\"heatmap\",\"colorbar\":{\"outlinewidth\":0,\"ticks\":\"\"},\"colorscale\":[[0.0,\"#0d0887\"],[0.1111111111111111,\"#46039f\"],[0.2222222222222222,\"#7201a8\"],[0.3333333333333333,\"#9c179e\"],[0.4444444444444444,\"#bd3786\"],[0.5555555555555556,\"#d8576b\"],[0.6666666666666666,\"#ed7953\"],[0.7777777777777778,\"#fb9f3a\"],[0.8888888888888888,\"#fdca26\"],[1.0,\"#f0f921\"]]}],\"heatmapgl\":[{\"type\":\"heatmapgl\",\"colorbar\":{\"outlinewidth\":0,\"ticks\":\"\"},\"colorscale\":[[0.0,\"#0d0887\"],[0.1111111111111111,\"#46039f\"],[0.2222222222222222,\"#7201a8\"],[0.3333333333333333,\"#9c179e\"],[0.4444444444444444,\"#bd3786\"],[0.5555555555555556,\"#d8576b\"],[0.6666666666666666,\"#ed7953\"],[0.7777777777777778,\"#fb9f3a\"],[0.8888888888888888,\"#fdca26\"],[1.0,\"#f0f921\"]]}],\"contourcarpet\":[{\"type\":\"contourcarpet\",\"colorbar\":{\"outlinewidth\":0,\"ticks\":\"\"}}],\"contour\":[{\"type\":\"contour\",\"colorbar\":{\"outlinewidth\":0,\"ticks\":\"\"},\"colorscale\":[[0.0,\"#0d0887\"],[0.1111111111111111,\"#46039f\"],[0.2222222222222222,\"#7201a8\"],[0.3333333333333333,\"#9c179e\"],[0.4444444444444444,\"#bd3786\"],[0.5555555555555556,\"#d8576b\"],[0.6666666666666666,\"#ed7953\"],[0.7777777777777778,\"#fb9f3a\"],[0.8888888888888888,\"#fdca26\"],[1.0,\"#f0f921\"]]}],\"surface\":[{\"type\":\"surface\",\"colorbar\":{\"outlinewidth\":0,\"ticks\":\"\"},\"colorscale\":[[0.0,\"#0d0887\"],[0.1111111111111111,\"#46039f\"],[0.2222222222222222,\"#7201a8\"],[0.3333333333333333,\"#9c179e\"],[0.4444444444444444,\"#bd3786\"],[0.5555555555555556,\"#d8576b\"],[0.6666666666666666,\"#ed7953\"],[0.7777777777777778,\"#fb9f3a\"],[0.8888888888888888,\"#fdca26\"],[1.0,\"#f0f921\"]]}],\"mesh3d\":[{\"type\":\"mesh3d\",\"colorbar\":{\"outlinewidth\":0,\"ticks\":\"\"}}],\"scatter\":[{\"fillpattern\":{\"fillmode\":\"overlay\",\"size\":10,\"solidity\":0.2},\"type\":\"scatter\"}],\"parcoords\":[{\"type\":\"parcoords\",\"line\":{\"colorbar\":{\"outlinewidth\":0,\"ticks\":\"\"}}}],\"scatterpolargl\":[{\"type\":\"scatterpolargl\",\"marker\":{\"colorbar\":{\"outlinewidth\":0,\"ticks\":\"\"}}}],\"bar\":[{\"error_x\":{\"color\":\"#2a3f5f\"},\"error_y\":{\"color\":\"#2a3f5f\"},\"marker\":{\"line\":{\"color\":\"#E5ECF6\",\"width\":0.5},\"pattern\":{\"fillmode\":\"overlay\",\"size\":10,\"solidity\":0.2}},\"type\":\"bar\"}],\"scattergeo\":[{\"type\":\"scattergeo\",\"marker\":{\"colorbar\":{\"outlinewidth\":0,\"ticks\":\"\"}}}],\"scatterpolar\":[{\"type\":\"scatterpolar\",\"marker\":{\"colorbar\":{\"outlinewidth\":0,\"ticks\":\"\"}}}],\"histogram\":[{\"marker\":{\"pattern\":{\"fillmode\":\"overlay\",\"size\":10,\"solidity\":0.2}},\"type\":\"histogram\"}],\"scattergl\":[{\"type\":\"scattergl\",\"marker\":{\"colorbar\":{\"outlinewidth\":0,\"ticks\":\"\"}}}],\"scatter3d\":[{\"type\":\"scatter3d\",\"line\":{\"colorbar\":{\"outlinewidth\":0,\"ticks\":\"\"}},\"marker\":{\"colorbar\":{\"outlinewidth\":0,\"ticks\":\"\"}}}],\"scattermapbox\":[{\"type\":\"scattermapbox\",\"marker\":{\"colorbar\":{\"outlinewidth\":0,\"ticks\":\"\"}}}],\"scatterternary\":[{\"type\":\"scatterternary\",\"marker\":{\"colorbar\":{\"outlinewidth\":0,\"ticks\":\"\"}}}],\"scattercarpet\":[{\"type\":\"scattercarpet\",\"marker\":{\"colorbar\":{\"outlinewidth\":0,\"ticks\":\"\"}}}],\"carpet\":[{\"aaxis\":{\"endlinecolor\":\"#2a3f5f\",\"gridcolor\":\"white\",\"linecolor\":\"white\",\"minorgridcolor\":\"white\",\"startlinecolor\":\"#2a3f5f\"},\"baxis\":{\"endlinecolor\":\"#2a3f5f\",\"gridcolor\":\"white\",\"linecolor\":\"white\",\"minorgridcolor\":\"white\",\"startlinecolor\":\"#2a3f5f\"},\"type\":\"carpet\"}],\"table\":[{\"cells\":{\"fill\":{\"color\":\"#EBF0F8\"},\"line\":{\"color\":\"white\"}},\"header\":{\"fill\":{\"color\":\"#C8D4E3\"},\"line\":{\"color\":\"white\"}},\"type\":\"table\"}],\"barpolar\":[{\"marker\":{\"line\":{\"color\":\"#E5ECF6\",\"width\":0.5},\"pattern\":{\"fillmode\":\"overlay\",\"size\":10,\"solidity\":0.2}},\"type\":\"barpolar\"}],\"pie\":[{\"automargin\":true,\"type\":\"pie\"}]},\"layout\":{\"autotypenumbers\":\"strict\",\"colorway\":[\"#636efa\",\"#EF553B\",\"#00cc96\",\"#ab63fa\",\"#FFA15A\",\"#19d3f3\",\"#FF6692\",\"#B6E880\",\"#FF97FF\",\"#FECB52\"],\"font\":{\"color\":\"#2a3f5f\"},\"hovermode\":\"closest\",\"hoverlabel\":{\"align\":\"left\"},\"paper_bgcolor\":\"white\",\"plot_bgcolor\":\"#E5ECF6\",\"polar\":{\"bgcolor\":\"#E5ECF6\",\"angularaxis\":{\"gridcolor\":\"white\",\"linecolor\":\"white\",\"ticks\":\"\"},\"radialaxis\":{\"gridcolor\":\"white\",\"linecolor\":\"white\",\"ticks\":\"\"}},\"ternary\":{\"bgcolor\":\"#E5ECF6\",\"aaxis\":{\"gridcolor\":\"white\",\"linecolor\":\"white\",\"ticks\":\"\"},\"baxis\":{\"gridcolor\":\"white\",\"linecolor\":\"white\",\"ticks\":\"\"},\"caxis\":{\"gridcolor\":\"white\",\"linecolor\":\"white\",\"ticks\":\"\"}},\"coloraxis\":{\"colorbar\":{\"outlinewidth\":0,\"ticks\":\"\"}},\"colorscale\":{\"sequential\":[[0.0,\"#0d0887\"],[0.1111111111111111,\"#46039f\"],[0.2222222222222222,\"#7201a8\"],[0.3333333333333333,\"#9c179e\"],[0.4444444444444444,\"#bd3786\"],[0.5555555555555556,\"#d8576b\"],[0.6666666666666666,\"#ed7953\"],[0.7777777777777778,\"#fb9f3a\"],[0.8888888888888888,\"#fdca26\"],[1.0,\"#f0f921\"]],\"sequentialminus\":[[0.0,\"#0d0887\"],[0.1111111111111111,\"#46039f\"],[0.2222222222222222,\"#7201a8\"],[0.3333333333333333,\"#9c179e\"],[0.4444444444444444,\"#bd3786\"],[0.5555555555555556,\"#d8576b\"],[0.6666666666666666,\"#ed7953\"],[0.7777777777777778,\"#fb9f3a\"],[0.8888888888888888,\"#fdca26\"],[1.0,\"#f0f921\"]],\"diverging\":[[0,\"#8e0152\"],[0.1,\"#c51b7d\"],[0.2,\"#de77ae\"],[0.3,\"#f1b6da\"],[0.4,\"#fde0ef\"],[0.5,\"#f7f7f7\"],[0.6,\"#e6f5d0\"],[0.7,\"#b8e186\"],[0.8,\"#7fbc41\"],[0.9,\"#4d9221\"],[1,\"#276419\"]]},\"xaxis\":{\"gridcolor\":\"white\",\"linecolor\":\"white\",\"ticks\":\"\",\"title\":{\"standoff\":15},\"zerolinecolor\":\"white\",\"automargin\":true,\"zerolinewidth\":2},\"yaxis\":{\"gridcolor\":\"white\",\"linecolor\":\"white\",\"ticks\":\"\",\"title\":{\"standoff\":15},\"zerolinecolor\":\"white\",\"automargin\":true,\"zerolinewidth\":2},\"scene\":{\"xaxis\":{\"backgroundcolor\":\"#E5ECF6\",\"gridcolor\":\"white\",\"linecolor\":\"white\",\"showbackground\":true,\"ticks\":\"\",\"zerolinecolor\":\"white\",\"gridwidth\":2},\"yaxis\":{\"backgroundcolor\":\"#E5ECF6\",\"gridcolor\":\"white\",\"linecolor\":\"white\",\"showbackground\":true,\"ticks\":\"\",\"zerolinecolor\":\"white\",\"gridwidth\":2},\"zaxis\":{\"backgroundcolor\":\"#E5ECF6\",\"gridcolor\":\"white\",\"linecolor\":\"white\",\"showbackground\":true,\"ticks\":\"\",\"zerolinecolor\":\"white\",\"gridwidth\":2}},\"shapedefaults\":{\"line\":{\"color\":\"#2a3f5f\"}},\"annotationdefaults\":{\"arrowcolor\":\"#2a3f5f\",\"arrowhead\":0,\"arrowwidth\":1},\"geo\":{\"bgcolor\":\"white\",\"landcolor\":\"#E5ECF6\",\"subunitcolor\":\"white\",\"showland\":true,\"showlakes\":true,\"lakecolor\":\"white\"},\"title\":{\"x\":0.05},\"mapbox\":{\"style\":\"light\"}}},\"xaxis\":{\"anchor\":\"y\",\"domain\":[0.0,1.0],\"title\":{\"text\":\"Variables\"}},\"yaxis\":{\"anchor\":\"x\",\"domain\":[0.0,1.0],\"title\":{\"text\":\"Variance Inflation Factor\"}},\"legend\":{\"tracegroupgap\":0},\"title\":{\"text\":\"Variables' Variance Inflation Factor\"},\"barmode\":\"relative\"},                        {\"responsive\": true}                    ).then(function(){\n",
              "                            \n",
              "var gd = document.getElementById('196a791d-349f-4dd6-966c-48fd2580ba60');\n",
              "var x = new MutationObserver(function (mutations, observer) {{\n",
              "        var display = window.getComputedStyle(gd).display;\n",
              "        if (!display || display === 'none') {{\n",
              "            console.log([gd, 'removed!']);\n",
              "            Plotly.purge(gd);\n",
              "            observer.disconnect();\n",
              "        }}\n",
              "}});\n",
              "\n",
              "// Listen for the removal of the full notebook cells\n",
              "var notebookContainer = gd.closest('#notebook-container');\n",
              "if (notebookContainer) {{\n",
              "    x.observe(notebookContainer, {childList: true});\n",
              "}}\n",
              "\n",
              "// Listen for the clearing of the current output cell\n",
              "var outputEl = gd.closest('.output');\n",
              "if (outputEl) {{\n",
              "    x.observe(outputEl, {childList: true});\n",
              "}}\n",
              "\n",
              "                        })                };                            </script>        </div>\n",
              "</body>\n",
              "</html>"
            ]
          },
          "metadata": {}
        }
      ]
    },
    {
      "cell_type": "code",
      "source": [
        "features01 = np.array(df[top_features])\n",
        "\n",
        "train_features, test_features, train_labels, test_labels = train_test_split(\n",
        "    features01,\n",
        "    labels,\n",
        "    stratify=labels,\n",
        "    test_size=0.25,\n",
        "    random_state=42)"
      ],
      "metadata": {
        "id": "iBKuePStW9wW"
      },
      "execution_count": 77,
      "outputs": []
    },
    {
      "cell_type": "code",
      "source": [
        "base_model = RandomForestClassifier(n_estimators= 1000, random_state=42)\n",
        "base_model.fit(train_features, train_labels)"
      ],
      "metadata": {
        "colab": {
          "base_uri": "https://localhost:8080/",
          "height": 75
        },
        "id": "1a7TmJ75XCPW",
        "outputId": "484b2e59-bd88-4e12-e3d3-10fd777a0d27"
      },
      "execution_count": 78,
      "outputs": [
        {
          "output_type": "execute_result",
          "data": {
            "text/plain": [
              "RandomForestClassifier(n_estimators=1000, random_state=42)"
            ],
            "text/html": [
              "<style>#sk-container-id-6 {color: black;background-color: white;}#sk-container-id-6 pre{padding: 0;}#sk-container-id-6 div.sk-toggleable {background-color: white;}#sk-container-id-6 label.sk-toggleable__label {cursor: pointer;display: block;width: 100%;margin-bottom: 0;padding: 0.3em;box-sizing: border-box;text-align: center;}#sk-container-id-6 label.sk-toggleable__label-arrow:before {content: \"▸\";float: left;margin-right: 0.25em;color: #696969;}#sk-container-id-6 label.sk-toggleable__label-arrow:hover:before {color: black;}#sk-container-id-6 div.sk-estimator:hover label.sk-toggleable__label-arrow:before {color: black;}#sk-container-id-6 div.sk-toggleable__content {max-height: 0;max-width: 0;overflow: hidden;text-align: left;background-color: #f0f8ff;}#sk-container-id-6 div.sk-toggleable__content pre {margin: 0.2em;color: black;border-radius: 0.25em;background-color: #f0f8ff;}#sk-container-id-6 input.sk-toggleable__control:checked~div.sk-toggleable__content {max-height: 200px;max-width: 100%;overflow: auto;}#sk-container-id-6 input.sk-toggleable__control:checked~label.sk-toggleable__label-arrow:before {content: \"▾\";}#sk-container-id-6 div.sk-estimator input.sk-toggleable__control:checked~label.sk-toggleable__label {background-color: #d4ebff;}#sk-container-id-6 div.sk-label input.sk-toggleable__control:checked~label.sk-toggleable__label {background-color: #d4ebff;}#sk-container-id-6 input.sk-hidden--visually {border: 0;clip: rect(1px 1px 1px 1px);clip: rect(1px, 1px, 1px, 1px);height: 1px;margin: -1px;overflow: hidden;padding: 0;position: absolute;width: 1px;}#sk-container-id-6 div.sk-estimator {font-family: monospace;background-color: #f0f8ff;border: 1px dotted black;border-radius: 0.25em;box-sizing: border-box;margin-bottom: 0.5em;}#sk-container-id-6 div.sk-estimator:hover {background-color: #d4ebff;}#sk-container-id-6 div.sk-parallel-item::after {content: \"\";width: 100%;border-bottom: 1px solid gray;flex-grow: 1;}#sk-container-id-6 div.sk-label:hover label.sk-toggleable__label {background-color: #d4ebff;}#sk-container-id-6 div.sk-serial::before {content: \"\";position: absolute;border-left: 1px solid gray;box-sizing: border-box;top: 0;bottom: 0;left: 50%;z-index: 0;}#sk-container-id-6 div.sk-serial {display: flex;flex-direction: column;align-items: center;background-color: white;padding-right: 0.2em;padding-left: 0.2em;position: relative;}#sk-container-id-6 div.sk-item {position: relative;z-index: 1;}#sk-container-id-6 div.sk-parallel {display: flex;align-items: stretch;justify-content: center;background-color: white;position: relative;}#sk-container-id-6 div.sk-item::before, #sk-container-id-6 div.sk-parallel-item::before {content: \"\";position: absolute;border-left: 1px solid gray;box-sizing: border-box;top: 0;bottom: 0;left: 50%;z-index: -1;}#sk-container-id-6 div.sk-parallel-item {display: flex;flex-direction: column;z-index: 1;position: relative;background-color: white;}#sk-container-id-6 div.sk-parallel-item:first-child::after {align-self: flex-end;width: 50%;}#sk-container-id-6 div.sk-parallel-item:last-child::after {align-self: flex-start;width: 50%;}#sk-container-id-6 div.sk-parallel-item:only-child::after {width: 0;}#sk-container-id-6 div.sk-dashed-wrapped {border: 1px dashed gray;margin: 0 0.4em 0.5em 0.4em;box-sizing: border-box;padding-bottom: 0.4em;background-color: white;}#sk-container-id-6 div.sk-label label {font-family: monospace;font-weight: bold;display: inline-block;line-height: 1.2em;}#sk-container-id-6 div.sk-label-container {text-align: center;}#sk-container-id-6 div.sk-container {/* jupyter's `normalize.less` sets `[hidden] { display: none; }` but bootstrap.min.css set `[hidden] { display: none !important; }` so we also need the `!important` here to be able to override the default hidden behavior on the sphinx rendered scikit-learn.org. See: https://github.com/scikit-learn/scikit-learn/issues/21755 */display: inline-block !important;position: relative;}#sk-container-id-6 div.sk-text-repr-fallback {display: none;}</style><div id=\"sk-container-id-6\" class=\"sk-top-container\"><div class=\"sk-text-repr-fallback\"><pre>RandomForestClassifier(n_estimators=1000, random_state=42)</pre><b>In a Jupyter environment, please rerun this cell to show the HTML representation or trust the notebook. <br />On GitHub, the HTML representation is unable to render, please try loading this page with nbviewer.org.</b></div><div class=\"sk-container\" hidden><div class=\"sk-item\"><div class=\"sk-estimator sk-toggleable\"><input class=\"sk-toggleable__control sk-hidden--visually\" id=\"sk-estimator-id-6\" type=\"checkbox\" checked><label for=\"sk-estimator-id-6\" class=\"sk-toggleable__label sk-toggleable__label-arrow\">RandomForestClassifier</label><div class=\"sk-toggleable__content\"><pre>RandomForestClassifier(n_estimators=1000, random_state=42)</pre></div></div></div></div></div>"
            ]
          },
          "metadata": {},
          "execution_count": 78
        }
      ]
    },
    {
      "cell_type": "code",
      "source": [
        "basic_rf_eval(base_model, test_features, test_labels)"
      ],
      "metadata": {
        "colab": {
          "base_uri": "https://localhost:8080/"
        },
        "id": "mbkiEKCFXKAl",
        "outputId": "d0bc4cba-73f1-4dc3-d06f-48823a69c675"
      },
      "execution_count": 79,
      "outputs": [
        {
          "output_type": "stream",
          "name": "stdout",
          "text": [
            "Accuracy = 0.91;\n",
            "    \n",
            "Precision = 0.7575757575757576;\n",
            "    \n",
            "Confusion Matrix: \n",
            "[[3289    8]\n",
            " [ 330   25]];\n",
            "    \n",
            "Classification Report:\n",
            "              precision    recall  f1-score   support\n",
            "\n",
            "           0       0.91      1.00      0.95      3297\n",
            "           1       0.76      0.07      0.13       355\n",
            "\n",
            "    accuracy                           0.91      3652\n",
            "   macro avg       0.83      0.53      0.54      3652\n",
            "weighted avg       0.89      0.91      0.87      3652\n",
            "\n"
          ]
        }
      ]
    },
    {
      "cell_type": "code",
      "source": [
        "base_importance_df = create_feature_importance_df(base_model, top_features)\n",
        "view_feature_importances(base_importance_df)"
      ],
      "metadata": {
        "colab": {
          "base_uri": "https://localhost:8080/",
          "height": 542
        },
        "id": "5RHPNtWpXN_8",
        "outputId": "44a2e3ac-544d-43bb-85c1-2cc4ef954f4f"
      },
      "execution_count": 82,
      "outputs": [
        {
          "output_type": "display_data",
          "data": {
            "text/html": [
              "<html>\n",
              "<head><meta charset=\"utf-8\" /></head>\n",
              "<body>\n",
              "    <div>            <script src=\"https://cdnjs.cloudflare.com/ajax/libs/mathjax/2.7.5/MathJax.js?config=TeX-AMS-MML_SVG\"></script><script type=\"text/javascript\">if (window.MathJax && window.MathJax.Hub && window.MathJax.Hub.Config) {window.MathJax.Hub.Config({SVG: {font: \"STIX-Web\"}});}</script>                <script type=\"text/javascript\">window.PlotlyConfig = {MathJaxConfig: 'local'};</script>\n",
              "        <script charset=\"utf-8\" src=\"https://cdn.plot.ly/plotly-2.24.1.min.js\"></script>                <div id=\"af38925e-a27b-43da-881b-325286fd07b2\" class=\"plotly-graph-div\" style=\"height:525px; width:100%;\"></div>            <script type=\"text/javascript\">                                    window.PLOTLYENV=window.PLOTLYENV || {};                                    if (document.getElementById(\"af38925e-a27b-43da-881b-325286fd07b2\")) {                    Plotly.newPlot(                        \"af38925e-a27b-43da-881b-325286fd07b2\",                        [{\"alignmentgroup\":\"True\",\"hovertemplate\":\"Variable=%{x}\\u003cbr\\u003eImportance=%{y}\\u003cextra\\u003e\\u003c\\u002fextra\\u003e\",\"legendgroup\":\"\",\"marker\":{\"color\":\"#636efa\",\"pattern\":{\"shape\":\"\"}},\"name\":\"\",\"offsetgroup\":\"\",\"orientation\":\"v\",\"showlegend\":false,\"textposition\":\"auto\",\"x\":[\"net_margin\",\"margin_gross_pow_ele\",\"forecast_meter_rent_12m\",\"cons_12m\",\"pow_max\",\"cons_last_month\"],\"xaxis\":\"x\",\"y\":[0.2,0.15,0.19,0.2,0.11,0.14],\"yaxis\":\"y\",\"type\":\"bar\"}],                        {\"template\":{\"data\":{\"histogram2dcontour\":[{\"type\":\"histogram2dcontour\",\"colorbar\":{\"outlinewidth\":0,\"ticks\":\"\"},\"colorscale\":[[0.0,\"#0d0887\"],[0.1111111111111111,\"#46039f\"],[0.2222222222222222,\"#7201a8\"],[0.3333333333333333,\"#9c179e\"],[0.4444444444444444,\"#bd3786\"],[0.5555555555555556,\"#d8576b\"],[0.6666666666666666,\"#ed7953\"],[0.7777777777777778,\"#fb9f3a\"],[0.8888888888888888,\"#fdca26\"],[1.0,\"#f0f921\"]]}],\"choropleth\":[{\"type\":\"choropleth\",\"colorbar\":{\"outlinewidth\":0,\"ticks\":\"\"}}],\"histogram2d\":[{\"type\":\"histogram2d\",\"colorbar\":{\"outlinewidth\":0,\"ticks\":\"\"},\"colorscale\":[[0.0,\"#0d0887\"],[0.1111111111111111,\"#46039f\"],[0.2222222222222222,\"#7201a8\"],[0.3333333333333333,\"#9c179e\"],[0.4444444444444444,\"#bd3786\"],[0.5555555555555556,\"#d8576b\"],[0.6666666666666666,\"#ed7953\"],[0.7777777777777778,\"#fb9f3a\"],[0.8888888888888888,\"#fdca26\"],[1.0,\"#f0f921\"]]}],\"heatmap\":[{\"type\":\"heatmap\",\"colorbar\":{\"outlinewidth\":0,\"ticks\":\"\"},\"colorscale\":[[0.0,\"#0d0887\"],[0.1111111111111111,\"#46039f\"],[0.2222222222222222,\"#7201a8\"],[0.3333333333333333,\"#9c179e\"],[0.4444444444444444,\"#bd3786\"],[0.5555555555555556,\"#d8576b\"],[0.6666666666666666,\"#ed7953\"],[0.7777777777777778,\"#fb9f3a\"],[0.8888888888888888,\"#fdca26\"],[1.0,\"#f0f921\"]]}],\"heatmapgl\":[{\"type\":\"heatmapgl\",\"colorbar\":{\"outlinewidth\":0,\"ticks\":\"\"},\"colorscale\":[[0.0,\"#0d0887\"],[0.1111111111111111,\"#46039f\"],[0.2222222222222222,\"#7201a8\"],[0.3333333333333333,\"#9c179e\"],[0.4444444444444444,\"#bd3786\"],[0.5555555555555556,\"#d8576b\"],[0.6666666666666666,\"#ed7953\"],[0.7777777777777778,\"#fb9f3a\"],[0.8888888888888888,\"#fdca26\"],[1.0,\"#f0f921\"]]}],\"contourcarpet\":[{\"type\":\"contourcarpet\",\"colorbar\":{\"outlinewidth\":0,\"ticks\":\"\"}}],\"contour\":[{\"type\":\"contour\",\"colorbar\":{\"outlinewidth\":0,\"ticks\":\"\"},\"colorscale\":[[0.0,\"#0d0887\"],[0.1111111111111111,\"#46039f\"],[0.2222222222222222,\"#7201a8\"],[0.3333333333333333,\"#9c179e\"],[0.4444444444444444,\"#bd3786\"],[0.5555555555555556,\"#d8576b\"],[0.6666666666666666,\"#ed7953\"],[0.7777777777777778,\"#fb9f3a\"],[0.8888888888888888,\"#fdca26\"],[1.0,\"#f0f921\"]]}],\"surface\":[{\"type\":\"surface\",\"colorbar\":{\"outlinewidth\":0,\"ticks\":\"\"},\"colorscale\":[[0.0,\"#0d0887\"],[0.1111111111111111,\"#46039f\"],[0.2222222222222222,\"#7201a8\"],[0.3333333333333333,\"#9c179e\"],[0.4444444444444444,\"#bd3786\"],[0.5555555555555556,\"#d8576b\"],[0.6666666666666666,\"#ed7953\"],[0.7777777777777778,\"#fb9f3a\"],[0.8888888888888888,\"#fdca26\"],[1.0,\"#f0f921\"]]}],\"mesh3d\":[{\"type\":\"mesh3d\",\"colorbar\":{\"outlinewidth\":0,\"ticks\":\"\"}}],\"scatter\":[{\"fillpattern\":{\"fillmode\":\"overlay\",\"size\":10,\"solidity\":0.2},\"type\":\"scatter\"}],\"parcoords\":[{\"type\":\"parcoords\",\"line\":{\"colorbar\":{\"outlinewidth\":0,\"ticks\":\"\"}}}],\"scatterpolargl\":[{\"type\":\"scatterpolargl\",\"marker\":{\"colorbar\":{\"outlinewidth\":0,\"ticks\":\"\"}}}],\"bar\":[{\"error_x\":{\"color\":\"#2a3f5f\"},\"error_y\":{\"color\":\"#2a3f5f\"},\"marker\":{\"line\":{\"color\":\"#E5ECF6\",\"width\":0.5},\"pattern\":{\"fillmode\":\"overlay\",\"size\":10,\"solidity\":0.2}},\"type\":\"bar\"}],\"scattergeo\":[{\"type\":\"scattergeo\",\"marker\":{\"colorbar\":{\"outlinewidth\":0,\"ticks\":\"\"}}}],\"scatterpolar\":[{\"type\":\"scatterpolar\",\"marker\":{\"colorbar\":{\"outlinewidth\":0,\"ticks\":\"\"}}}],\"histogram\":[{\"marker\":{\"pattern\":{\"fillmode\":\"overlay\",\"size\":10,\"solidity\":0.2}},\"type\":\"histogram\"}],\"scattergl\":[{\"type\":\"scattergl\",\"marker\":{\"colorbar\":{\"outlinewidth\":0,\"ticks\":\"\"}}}],\"scatter3d\":[{\"type\":\"scatter3d\",\"line\":{\"colorbar\":{\"outlinewidth\":0,\"ticks\":\"\"}},\"marker\":{\"colorbar\":{\"outlinewidth\":0,\"ticks\":\"\"}}}],\"scattermapbox\":[{\"type\":\"scattermapbox\",\"marker\":{\"colorbar\":{\"outlinewidth\":0,\"ticks\":\"\"}}}],\"scatterternary\":[{\"type\":\"scatterternary\",\"marker\":{\"colorbar\":{\"outlinewidth\":0,\"ticks\":\"\"}}}],\"scattercarpet\":[{\"type\":\"scattercarpet\",\"marker\":{\"colorbar\":{\"outlinewidth\":0,\"ticks\":\"\"}}}],\"carpet\":[{\"aaxis\":{\"endlinecolor\":\"#2a3f5f\",\"gridcolor\":\"white\",\"linecolor\":\"white\",\"minorgridcolor\":\"white\",\"startlinecolor\":\"#2a3f5f\"},\"baxis\":{\"endlinecolor\":\"#2a3f5f\",\"gridcolor\":\"white\",\"linecolor\":\"white\",\"minorgridcolor\":\"white\",\"startlinecolor\":\"#2a3f5f\"},\"type\":\"carpet\"}],\"table\":[{\"cells\":{\"fill\":{\"color\":\"#EBF0F8\"},\"line\":{\"color\":\"white\"}},\"header\":{\"fill\":{\"color\":\"#C8D4E3\"},\"line\":{\"color\":\"white\"}},\"type\":\"table\"}],\"barpolar\":[{\"marker\":{\"line\":{\"color\":\"#E5ECF6\",\"width\":0.5},\"pattern\":{\"fillmode\":\"overlay\",\"size\":10,\"solidity\":0.2}},\"type\":\"barpolar\"}],\"pie\":[{\"automargin\":true,\"type\":\"pie\"}]},\"layout\":{\"autotypenumbers\":\"strict\",\"colorway\":[\"#636efa\",\"#EF553B\",\"#00cc96\",\"#ab63fa\",\"#FFA15A\",\"#19d3f3\",\"#FF6692\",\"#B6E880\",\"#FF97FF\",\"#FECB52\"],\"font\":{\"color\":\"#2a3f5f\"},\"hovermode\":\"closest\",\"hoverlabel\":{\"align\":\"left\"},\"paper_bgcolor\":\"white\",\"plot_bgcolor\":\"#E5ECF6\",\"polar\":{\"bgcolor\":\"#E5ECF6\",\"angularaxis\":{\"gridcolor\":\"white\",\"linecolor\":\"white\",\"ticks\":\"\"},\"radialaxis\":{\"gridcolor\":\"white\",\"linecolor\":\"white\",\"ticks\":\"\"}},\"ternary\":{\"bgcolor\":\"#E5ECF6\",\"aaxis\":{\"gridcolor\":\"white\",\"linecolor\":\"white\",\"ticks\":\"\"},\"baxis\":{\"gridcolor\":\"white\",\"linecolor\":\"white\",\"ticks\":\"\"},\"caxis\":{\"gridcolor\":\"white\",\"linecolor\":\"white\",\"ticks\":\"\"}},\"coloraxis\":{\"colorbar\":{\"outlinewidth\":0,\"ticks\":\"\"}},\"colorscale\":{\"sequential\":[[0.0,\"#0d0887\"],[0.1111111111111111,\"#46039f\"],[0.2222222222222222,\"#7201a8\"],[0.3333333333333333,\"#9c179e\"],[0.4444444444444444,\"#bd3786\"],[0.5555555555555556,\"#d8576b\"],[0.6666666666666666,\"#ed7953\"],[0.7777777777777778,\"#fb9f3a\"],[0.8888888888888888,\"#fdca26\"],[1.0,\"#f0f921\"]],\"sequentialminus\":[[0.0,\"#0d0887\"],[0.1111111111111111,\"#46039f\"],[0.2222222222222222,\"#7201a8\"],[0.3333333333333333,\"#9c179e\"],[0.4444444444444444,\"#bd3786\"],[0.5555555555555556,\"#d8576b\"],[0.6666666666666666,\"#ed7953\"],[0.7777777777777778,\"#fb9f3a\"],[0.8888888888888888,\"#fdca26\"],[1.0,\"#f0f921\"]],\"diverging\":[[0,\"#8e0152\"],[0.1,\"#c51b7d\"],[0.2,\"#de77ae\"],[0.3,\"#f1b6da\"],[0.4,\"#fde0ef\"],[0.5,\"#f7f7f7\"],[0.6,\"#e6f5d0\"],[0.7,\"#b8e186\"],[0.8,\"#7fbc41\"],[0.9,\"#4d9221\"],[1,\"#276419\"]]},\"xaxis\":{\"gridcolor\":\"white\",\"linecolor\":\"white\",\"ticks\":\"\",\"title\":{\"standoff\":15},\"zerolinecolor\":\"white\",\"automargin\":true,\"zerolinewidth\":2},\"yaxis\":{\"gridcolor\":\"white\",\"linecolor\":\"white\",\"ticks\":\"\",\"title\":{\"standoff\":15},\"zerolinecolor\":\"white\",\"automargin\":true,\"zerolinewidth\":2},\"scene\":{\"xaxis\":{\"backgroundcolor\":\"#E5ECF6\",\"gridcolor\":\"white\",\"linecolor\":\"white\",\"showbackground\":true,\"ticks\":\"\",\"zerolinecolor\":\"white\",\"gridwidth\":2},\"yaxis\":{\"backgroundcolor\":\"#E5ECF6\",\"gridcolor\":\"white\",\"linecolor\":\"white\",\"showbackground\":true,\"ticks\":\"\",\"zerolinecolor\":\"white\",\"gridwidth\":2},\"zaxis\":{\"backgroundcolor\":\"#E5ECF6\",\"gridcolor\":\"white\",\"linecolor\":\"white\",\"showbackground\":true,\"ticks\":\"\",\"zerolinecolor\":\"white\",\"gridwidth\":2}},\"shapedefaults\":{\"line\":{\"color\":\"#2a3f5f\"}},\"annotationdefaults\":{\"arrowcolor\":\"#2a3f5f\",\"arrowhead\":0,\"arrowwidth\":1},\"geo\":{\"bgcolor\":\"white\",\"landcolor\":\"#E5ECF6\",\"subunitcolor\":\"white\",\"showland\":true,\"showlakes\":true,\"lakecolor\":\"white\"},\"title\":{\"x\":0.05},\"mapbox\":{\"style\":\"light\"}}},\"xaxis\":{\"anchor\":\"y\",\"domain\":[0.0,1.0],\"title\":{\"text\":\"Variables\"},\"categoryorder\":\"total descending\"},\"yaxis\":{\"anchor\":\"x\",\"domain\":[0.0,1.0],\"title\":{\"text\":\"Importances\"}},\"legend\":{\"tracegroupgap\":0},\"title\":{\"text\":\"Variable Importances\",\"x\":0.5},\"barmode\":\"relative\"},                        {\"responsive\": true}                    ).then(function(){\n",
              "                            \n",
              "var gd = document.getElementById('af38925e-a27b-43da-881b-325286fd07b2');\n",
              "var x = new MutationObserver(function (mutations, observer) {{\n",
              "        var display = window.getComputedStyle(gd).display;\n",
              "        if (!display || display === 'none') {{\n",
              "            console.log([gd, 'removed!']);\n",
              "            Plotly.purge(gd);\n",
              "            observer.disconnect();\n",
              "        }}\n",
              "}});\n",
              "\n",
              "// Listen for the removal of the full notebook cells\n",
              "var notebookContainer = gd.closest('#notebook-container');\n",
              "if (notebookContainer) {{\n",
              "    x.observe(notebookContainer, {childList: true});\n",
              "}}\n",
              "\n",
              "// Listen for the clearing of the current output cell\n",
              "var outputEl = gd.closest('.output');\n",
              "if (outputEl) {{\n",
              "    x.observe(outputEl, {childList: true});\n",
              "}}\n",
              "\n",
              "                        })                };                            </script>        </div>\n",
              "</body>\n",
              "</html>"
            ]
          },
          "metadata": {}
        }
      ]
    },
    {
      "cell_type": "markdown",
      "source": [
        "Removing some features seems to have done something, i.e. we see some features now being useful, however, at the cost of precision and recall of churned customers."
      ],
      "metadata": {
        "id": "doUI-skzagp2"
      }
    },
    {
      "cell_type": "markdown",
      "source": [
        "# 5. Hyperparameter Tuning"
      ],
      "metadata": {
        "id": "kF1b08kHnuQg"
      }
    }
  ],
  "metadata": {
    "interpreter": {
      "hash": "152bf6e7dc8ee53edb5af21dc1a8faeab7f134840808a94079ed98d91ece7e0c"
    },
    "kernelspec": {
      "display_name": "Python 3",
      "language": "python",
      "name": "python3"
    },
    "language_info": {
      "codemirror_mode": {
        "name": "ipython",
        "version": 3
      },
      "file_extension": ".py",
      "mimetype": "text/x-python",
      "name": "python",
      "nbconvert_exporter": "python",
      "pygments_lexer": "ipython3",
      "version": "3.7.9"
    },
    "colab": {
      "provenance": [],
      "toc_visible": true
    }
  },
  "nbformat": 4,
  "nbformat_minor": 0
}